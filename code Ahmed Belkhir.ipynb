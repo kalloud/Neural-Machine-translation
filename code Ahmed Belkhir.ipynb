{
 "cells": [
  {
   "cell_type": "markdown",
   "metadata": {
    "id": "nVYcVEONAaW6"
   },
   "source": [
    "# Colab Pro benefits"
   ]
  },
  {
   "cell_type": "code",
   "execution_count": 1,
   "metadata": {
    "colab": {
     "base_uri": "https://localhost:8080/"
    },
    "id": "SSq5cVlP_vxk",
    "outputId": "e6cb2d07-5fd2-4649-d6dd-5c8e570c3daf"
   },
   "outputs": [
    {
     "name": "stdout",
     "output_type": "stream",
     "text": [
      "Fri Dec 17 01:15:41 2021       \n",
      "+-----------------------------------------------------------------------------+\n",
      "| NVIDIA-SMI 495.44       Driver Version: 460.32.03    CUDA Version: 11.2     |\n",
      "|-------------------------------+----------------------+----------------------+\n",
      "| GPU  Name        Persistence-M| Bus-Id        Disp.A | Volatile Uncorr. ECC |\n",
      "| Fan  Temp  Perf  Pwr:Usage/Cap|         Memory-Usage | GPU-Util  Compute M. |\n",
      "|                               |                      |               MIG M. |\n",
      "|===============================+======================+======================|\n",
      "|   0  Tesla P100-PCIE...  Off  | 00000000:00:04.0 Off |                    0 |\n",
      "| N/A   32C    P0    26W / 250W |      0MiB / 16280MiB |      0%      Default |\n",
      "|                               |                      |                  N/A |\n",
      "+-------------------------------+----------------------+----------------------+\n",
      "                                                                               \n",
      "+-----------------------------------------------------------------------------+\n",
      "| Processes:                                                                  |\n",
      "|  GPU   GI   CI        PID   Type   Process name                  GPU Memory |\n",
      "|        ID   ID                                                   Usage      |\n",
      "|=============================================================================|\n",
      "|  No running processes found                                                 |\n",
      "+-----------------------------------------------------------------------------+\n"
     ]
    }
   ],
   "source": [
    "gpu_info = !nvidia-smi\n",
    "gpu_info = '\\n'.join(gpu_info)\n",
    "if gpu_info.find('failed') >= 0:\n",
    "  print('Not connected to a GPU')\n",
    "else:\n",
    "  print(gpu_info)"
   ]
  },
  {
   "cell_type": "code",
   "execution_count": 2,
   "metadata": {
    "colab": {
     "base_uri": "https://localhost:8080/"
    },
    "id": "qMFwKrnV__D8",
    "outputId": "4b672b4a-12a9-4bc2-d91b-f5bdbffd15a3"
   },
   "outputs": [
    {
     "name": "stdout",
     "output_type": "stream",
     "text": [
      "Your runtime has 13.6 gigabytes of available RAM\n",
      "\n",
      "Not using a high-RAM runtime\n"
     ]
    }
   ],
   "source": [
    "from psutil import virtual_memory\n",
    "ram_gb = virtual_memory().total / 1e9\n",
    "print('Your runtime has {:.1f} gigabytes of available RAM\\n'.format(ram_gb))\n",
    "\n",
    "if ram_gb < 20:\n",
    "  print('Not using a high-RAM runtime')\n",
    "else:\n",
    "  print('You are using a high-RAM runtime!')"
   ]
  },
  {
   "cell_type": "markdown",
   "metadata": {
    "id": "yPR0s9D-B8vM"
   },
   "source": [
    "# Importer les données WMT14"
   ]
  },
  {
   "cell_type": "code",
   "execution_count": 3,
   "metadata": {
    "colab": {
     "base_uri": "https://localhost:8080/"
    },
    "id": "z7YnlZX9CAtJ",
    "outputId": "f44085fd-4af7-4cf2-e97f-47bbbfc757d0"
   },
   "outputs": [
    {
     "name": "stdout",
     "output_type": "stream",
     "text": [
      "Mounted at /content/drive\n"
     ]
    }
   ],
   "source": [
    "from google.colab import drive\n",
    "drive.mount('/content/drive')"
   ]
  },
  {
   "cell_type": "code",
   "execution_count": 4,
   "metadata": {
    "id": "vCfhVmT7CCmR"
   },
   "outputs": [],
   "source": [
    "!cp -r /content/drive/MyDrive/Projet2_NLP/data /content/"
   ]
  },
  {
   "cell_type": "markdown",
   "metadata": {
    "id": "SjX7C7AHX-8F"
   },
   "source": [
    "# Joey NMT Demo - Guide\n",
    "Source: https://github.com/joeynmt/joeynmt/blob/master/joey_demo.ipynb\n",
    "\n",
    "Nous allons entraîner un modèle de Transformer NMT de base de l'anglais vers le français. \n",
    "\n",
    "**Important:** Avant de commencer, il est indispensable de choisir le type d'exécution de GPU. \n",
    "\n"
   ]
  },
  {
   "cell_type": "markdown",
   "metadata": {
    "id": "QYRtQZFPYzES"
   },
   "source": [
    "## Installation"
   ]
  },
  {
   "cell_type": "markdown",
   "metadata": {
    "id": "Y4VofGiF2MMr"
   },
   "source": [
    "Installez la bonne version de PyTorch pour Joey NMT. Il faudra peut-être redémarrer le colab après avoir installé Joey NMT."
   ]
  },
  {
   "cell_type": "code",
   "execution_count": 5,
   "metadata": {
    "colab": {
     "base_uri": "https://localhost:8080/"
    },
    "id": "bG-XRA4tX2oV",
    "outputId": "5118e362-b451-4c7b-87d7-bcf721063825"
   },
   "outputs": [
    {
     "name": "stdout",
     "output_type": "stream",
     "text": [
      "Looking in links: https://download.pytorch.org/whl/torch_stable.html\n",
      "Collecting torch==1.9.0+cu102\n",
      "  Downloading https://download.pytorch.org/whl/cu102/torch-1.9.0%2Bcu102-cp37-cp37m-linux_x86_64.whl (831.4 MB)\n",
      "\u001b[K     |████████████████████████████████| 831.4 MB 2.9 kB/s \n",
      "\u001b[?25hRequirement already satisfied: typing-extensions in /usr/local/lib/python3.7/dist-packages (from torch==1.9.0+cu102) (3.10.0.2)\n",
      "Installing collected packages: torch\n",
      "  Attempting uninstall: torch\n",
      "    Found existing installation: torch 1.10.0+cu111\n",
      "    Uninstalling torch-1.10.0+cu111:\n",
      "      Successfully uninstalled torch-1.10.0+cu111\n",
      "\u001b[31mERROR: pip's dependency resolver does not currently take into account all the packages that are installed. This behaviour is the source of the following dependency conflicts.\n",
      "torchvision 0.11.1+cu111 requires torch==1.10.0, but you have torch 1.9.0+cu102 which is incompatible.\n",
      "torchtext 0.11.0 requires torch==1.10.0, but you have torch 1.9.0+cu102 which is incompatible.\n",
      "torchaudio 0.10.0+cu111 requires torch==1.10.0, but you have torch 1.9.0+cu102 which is incompatible.\u001b[0m\n",
      "Successfully installed torch-1.9.0+cu102\n"
     ]
    }
   ],
   "source": [
    "!pip install torch==1.9.0+cu102 -f https://download.pytorch.org/whl/torch_stable.html"
   ]
  },
  {
   "cell_type": "code",
   "execution_count": 6,
   "metadata": {
    "colab": {
     "base_uri": "https://localhost:8080/",
     "height": 1000
    },
    "id": "a4u741jiY2-O",
    "outputId": "19336e8b-6b45-469a-daf3-d0c851cc3552"
   },
   "outputs": [
    {
     "name": "stdout",
     "output_type": "stream",
     "text": [
      "Collecting joeynmt\n",
      "  Downloading joeynmt-1.3-py3-none-any.whl (84 kB)\n",
      "\u001b[?25l\r",
      "\u001b[K     |███▉                            | 10 kB 29.5 MB/s eta 0:00:01\r",
      "\u001b[K     |███████▊                        | 20 kB 33.8 MB/s eta 0:00:01\r",
      "\u001b[K     |███████████▋                    | 30 kB 38.8 MB/s eta 0:00:01\r",
      "\u001b[K     |███████████████▌                | 40 kB 28.8 MB/s eta 0:00:01\r",
      "\u001b[K     |███████████████████▎            | 51 kB 18.3 MB/s eta 0:00:01\r",
      "\u001b[K     |███████████████████████▏        | 61 kB 19.5 MB/s eta 0:00:01\r",
      "\u001b[K     |███████████████████████████     | 71 kB 14.3 MB/s eta 0:00:01\r",
      "\u001b[K     |███████████████████████████████ | 81 kB 15.6 MB/s eta 0:00:01\r",
      "\u001b[K     |████████████████████████████████| 84 kB 3.8 MB/s \n",
      "\u001b[?25hCollecting torchtext==0.9.0\n",
      "  Downloading torchtext-0.9.0-cp37-cp37m-manylinux1_x86_64.whl (7.1 MB)\n",
      "\u001b[K     |████████████████████████████████| 7.1 MB 11.7 MB/s \n",
      "\u001b[?25hCollecting sacrebleu>=1.3.6\n",
      "  Downloading sacrebleu-2.0.0-py3-none-any.whl (90 kB)\n",
      "\u001b[K     |████████████████████████████████| 90 kB 11.3 MB/s \n",
      "\u001b[?25hCollecting pyyaml>=5.1\n",
      "  Downloading PyYAML-6.0-cp37-cp37m-manylinux_2_5_x86_64.manylinux1_x86_64.manylinux_2_12_x86_64.manylinux2010_x86_64.whl (596 kB)\n",
      "\u001b[K     |████████████████████████████████| 596 kB 50.4 MB/s \n",
      "\u001b[?25hCollecting subword-nmt\n",
      "  Downloading subword_nmt-0.3.8-py3-none-any.whl (27 kB)\n",
      "Collecting wrapt==1.11.1\n",
      "  Downloading wrapt-1.11.1.tar.gz (27 kB)\n",
      "Requirement already satisfied: pillow in /usr/local/lib/python3.7/dist-packages (from joeynmt) (7.1.2)\n",
      "Collecting numpy==1.20.1\n",
      "  Downloading numpy-1.20.1-cp37-cp37m-manylinux2010_x86_64.whl (15.3 MB)\n",
      "\u001b[K     |████████████████████████████████| 15.3 MB 60.0 MB/s \n",
      "\u001b[?25hRequirement already satisfied: setuptools>=41.0.0 in /usr/local/lib/python3.7/dist-packages (from joeynmt) (57.4.0)\n",
      "Requirement already satisfied: matplotlib in /usr/local/lib/python3.7/dist-packages (from joeynmt) (3.2.2)\n",
      "Collecting torch==1.8.0\n",
      "  Downloading torch-1.8.0-cp37-cp37m-manylinux1_x86_64.whl (735.5 MB)\n",
      "\u001b[K     |████████████████████████████████| 735.5 MB 15 kB/s \n",
      "\u001b[?25hCollecting six==1.12\n",
      "  Downloading six-1.12.0-py2.py3-none-any.whl (10 kB)\n",
      "Requirement already satisfied: future in /usr/local/lib/python3.7/dist-packages (from joeynmt) (0.16.0)\n",
      "Collecting pylint\n",
      "  Downloading pylint-2.12.2-py3-none-any.whl (414 kB)\n",
      "\u001b[K     |████████████████████████████████| 414 kB 70.4 MB/s \n",
      "\u001b[?25hRequirement already satisfied: seaborn in /usr/local/lib/python3.7/dist-packages (from joeynmt) (0.11.2)\n",
      "Requirement already satisfied: tensorboard>=1.15 in /usr/local/lib/python3.7/dist-packages (from joeynmt) (2.7.0)\n",
      "Requirement already satisfied: typing-extensions in /usr/local/lib/python3.7/dist-packages (from torch==1.8.0->joeynmt) (3.10.0.2)\n",
      "Requirement already satisfied: tqdm in /usr/local/lib/python3.7/dist-packages (from torchtext==0.9.0->joeynmt) (4.62.3)\n",
      "Requirement already satisfied: requests in /usr/local/lib/python3.7/dist-packages (from torchtext==0.9.0->joeynmt) (2.23.0)\n",
      "Requirement already satisfied: regex in /usr/local/lib/python3.7/dist-packages (from sacrebleu>=1.3.6->joeynmt) (2019.12.20)\n",
      "Collecting portalocker\n",
      "  Downloading portalocker-2.3.2-py2.py3-none-any.whl (15 kB)\n",
      "Requirement already satisfied: tabulate>=0.8.9 in /usr/local/lib/python3.7/dist-packages (from sacrebleu>=1.3.6->joeynmt) (0.8.9)\n",
      "Collecting colorama\n",
      "  Downloading colorama-0.4.4-py2.py3-none-any.whl (16 kB)\n",
      "Requirement already satisfied: grpcio>=1.24.3 in /usr/local/lib/python3.7/dist-packages (from tensorboard>=1.15->joeynmt) (1.42.0)\n",
      "Requirement already satisfied: tensorboard-plugin-wit>=1.6.0 in /usr/local/lib/python3.7/dist-packages (from tensorboard>=1.15->joeynmt) (1.8.0)\n",
      "Requirement already satisfied: protobuf>=3.6.0 in /usr/local/lib/python3.7/dist-packages (from tensorboard>=1.15->joeynmt) (3.17.3)\n",
      "Requirement already satisfied: werkzeug>=0.11.15 in /usr/local/lib/python3.7/dist-packages (from tensorboard>=1.15->joeynmt) (1.0.1)\n",
      "Requirement already satisfied: markdown>=2.6.8 in /usr/local/lib/python3.7/dist-packages (from tensorboard>=1.15->joeynmt) (3.3.6)\n",
      "Requirement already satisfied: absl-py>=0.4 in /usr/local/lib/python3.7/dist-packages (from tensorboard>=1.15->joeynmt) (0.12.0)\n",
      "Requirement already satisfied: wheel>=0.26 in /usr/local/lib/python3.7/dist-packages (from tensorboard>=1.15->joeynmt) (0.37.0)\n",
      "Requirement already satisfied: google-auth<3,>=1.6.3 in /usr/local/lib/python3.7/dist-packages (from tensorboard>=1.15->joeynmt) (1.35.0)\n",
      "Requirement already satisfied: tensorboard-data-server<0.7.0,>=0.6.0 in /usr/local/lib/python3.7/dist-packages (from tensorboard>=1.15->joeynmt) (0.6.1)\n",
      "Requirement already satisfied: google-auth-oauthlib<0.5,>=0.4.1 in /usr/local/lib/python3.7/dist-packages (from tensorboard>=1.15->joeynmt) (0.4.6)\n",
      "Requirement already satisfied: pyasn1-modules>=0.2.1 in /usr/local/lib/python3.7/dist-packages (from google-auth<3,>=1.6.3->tensorboard>=1.15->joeynmt) (0.2.8)\n",
      "Requirement already satisfied: rsa<5,>=3.1.4 in /usr/local/lib/python3.7/dist-packages (from google-auth<3,>=1.6.3->tensorboard>=1.15->joeynmt) (4.8)\n",
      "Requirement already satisfied: cachetools<5.0,>=2.0.0 in /usr/local/lib/python3.7/dist-packages (from google-auth<3,>=1.6.3->tensorboard>=1.15->joeynmt) (4.2.4)\n",
      "Requirement already satisfied: requests-oauthlib>=0.7.0 in /usr/local/lib/python3.7/dist-packages (from google-auth-oauthlib<0.5,>=0.4.1->tensorboard>=1.15->joeynmt) (1.3.0)\n",
      "Requirement already satisfied: importlib-metadata>=4.4 in /usr/local/lib/python3.7/dist-packages (from markdown>=2.6.8->tensorboard>=1.15->joeynmt) (4.8.2)\n",
      "Requirement already satisfied: zipp>=0.5 in /usr/local/lib/python3.7/dist-packages (from importlib-metadata>=4.4->markdown>=2.6.8->tensorboard>=1.15->joeynmt) (3.6.0)\n",
      "Requirement already satisfied: pyasn1<0.5.0,>=0.4.6 in /usr/local/lib/python3.7/dist-packages (from pyasn1-modules>=0.2.1->google-auth<3,>=1.6.3->tensorboard>=1.15->joeynmt) (0.4.8)\n",
      "Requirement already satisfied: urllib3!=1.25.0,!=1.25.1,<1.26,>=1.21.1 in /usr/local/lib/python3.7/dist-packages (from requests->torchtext==0.9.0->joeynmt) (1.24.3)\n",
      "Requirement already satisfied: certifi>=2017.4.17 in /usr/local/lib/python3.7/dist-packages (from requests->torchtext==0.9.0->joeynmt) (2021.10.8)\n",
      "Requirement already satisfied: chardet<4,>=3.0.2 in /usr/local/lib/python3.7/dist-packages (from requests->torchtext==0.9.0->joeynmt) (3.0.4)\n",
      "Requirement already satisfied: idna<3,>=2.5 in /usr/local/lib/python3.7/dist-packages (from requests->torchtext==0.9.0->joeynmt) (2.10)\n",
      "Requirement already satisfied: oauthlib>=3.0.0 in /usr/local/lib/python3.7/dist-packages (from requests-oauthlib>=0.7.0->google-auth-oauthlib<0.5,>=0.4.1->tensorboard>=1.15->joeynmt) (3.1.1)\n",
      "Requirement already satisfied: python-dateutil>=2.1 in /usr/local/lib/python3.7/dist-packages (from matplotlib->joeynmt) (2.8.2)\n",
      "Requirement already satisfied: pyparsing!=2.0.4,!=2.1.2,!=2.1.6,>=2.0.1 in /usr/local/lib/python3.7/dist-packages (from matplotlib->joeynmt) (3.0.6)\n",
      "Requirement already satisfied: cycler>=0.10 in /usr/local/lib/python3.7/dist-packages (from matplotlib->joeynmt) (0.11.0)\n",
      "Requirement already satisfied: kiwisolver>=1.0.1 in /usr/local/lib/python3.7/dist-packages (from matplotlib->joeynmt) (1.3.2)\n",
      "Collecting astroid<2.10,>=2.9.0\n",
      "  Downloading astroid-2.9.0-py3-none-any.whl (250 kB)\n",
      "\u001b[K     |████████████████████████████████| 250 kB 63.8 MB/s \n",
      "\u001b[?25hCollecting platformdirs>=2.2.0\n",
      "  Downloading platformdirs-2.4.0-py3-none-any.whl (14 kB)\n",
      "Collecting mccabe<0.7,>=0.6\n",
      "  Downloading mccabe-0.6.1-py2.py3-none-any.whl (8.6 kB)\n",
      "Requirement already satisfied: toml>=0.9.2 in /usr/local/lib/python3.7/dist-packages (from pylint->joeynmt) (0.10.2)\n",
      "Collecting isort<6,>=4.2.5\n",
      "  Downloading isort-5.10.1-py3-none-any.whl (103 kB)\n",
      "\u001b[K     |████████████████████████████████| 103 kB 70.9 MB/s \n",
      "\u001b[?25hCollecting lazy-object-proxy>=1.4.0\n",
      "  Downloading lazy_object_proxy-1.7.1-cp37-cp37m-manylinux_2_5_x86_64.manylinux1_x86_64.manylinux_2_17_x86_64.manylinux2014_x86_64.whl (57 kB)\n",
      "\u001b[K     |████████████████████████████████| 57 kB 6.3 MB/s \n",
      "\u001b[?25hCollecting typed-ast<2.0,>=1.4.0\n",
      "  Downloading typed_ast-1.5.1-cp37-cp37m-manylinux_2_5_x86_64.manylinux1_x86_64.manylinux_2_12_x86_64.manylinux2010_x86_64.whl (843 kB)\n",
      "\u001b[K     |████████████████████████████████| 843 kB 63.7 MB/s \n",
      "\u001b[?25hRequirement already satisfied: scipy>=1.0 in /usr/local/lib/python3.7/dist-packages (from seaborn->joeynmt) (1.4.1)\n",
      "Requirement already satisfied: pandas>=0.23 in /usr/local/lib/python3.7/dist-packages (from seaborn->joeynmt) (1.1.5)\n",
      "Requirement already satisfied: pytz>=2017.2 in /usr/local/lib/python3.7/dist-packages (from pandas>=0.23->seaborn->joeynmt) (2018.9)\n",
      "Collecting mock\n",
      "  Downloading mock-4.0.3-py3-none-any.whl (28 kB)\n",
      "Building wheels for collected packages: wrapt\n",
      "  Building wheel for wrapt (setup.py) ... \u001b[?25l\u001b[?25hdone\n",
      "  Created wheel for wrapt: filename=wrapt-1.11.1-cp37-cp37m-linux_x86_64.whl size=68433 sha256=3fa68c0bed9ba1c05d9a02ebb215aecb4f8a2466a27314c5fc753402a5f9958b\n",
      "  Stored in directory: /root/.cache/pip/wheels/4e/58/9d/da8bad4545585ca52311498ff677647c95c7b690b3040171f8\n",
      "Successfully built wrapt\n",
      "Installing collected packages: six, wrapt, typed-ast, numpy, lazy-object-proxy, torch, portalocker, platformdirs, mock, mccabe, isort, colorama, astroid, torchtext, subword-nmt, sacrebleu, pyyaml, pylint, joeynmt\n",
      "  Attempting uninstall: six\n",
      "    Found existing installation: six 1.15.0\n",
      "    Uninstalling six-1.15.0:\n",
      "      Successfully uninstalled six-1.15.0\n",
      "  Attempting uninstall: wrapt\n",
      "    Found existing installation: wrapt 1.13.3\n",
      "    Uninstalling wrapt-1.13.3:\n",
      "      Successfully uninstalled wrapt-1.13.3\n",
      "  Attempting uninstall: numpy\n",
      "    Found existing installation: numpy 1.19.5\n",
      "    Uninstalling numpy-1.19.5:\n",
      "      Successfully uninstalled numpy-1.19.5\n",
      "  Attempting uninstall: torch\n",
      "    Found existing installation: torch 1.9.0+cu102\n",
      "    Uninstalling torch-1.9.0+cu102:\n",
      "      Successfully uninstalled torch-1.9.0+cu102\n",
      "  Attempting uninstall: torchtext\n",
      "    Found existing installation: torchtext 0.11.0\n",
      "    Uninstalling torchtext-0.11.0:\n",
      "      Successfully uninstalled torchtext-0.11.0\n",
      "  Attempting uninstall: pyyaml\n",
      "    Found existing installation: PyYAML 3.13\n",
      "    Uninstalling PyYAML-3.13:\n",
      "      Successfully uninstalled PyYAML-3.13\n",
      "\u001b[31mERROR: pip's dependency resolver does not currently take into account all the packages that are installed. This behaviour is the source of the following dependency conflicts.\n",
      "yellowbrick 1.3.post1 requires numpy<1.20,>=1.16.0, but you have numpy 1.20.1 which is incompatible.\n",
      "torchvision 0.11.1+cu111 requires torch==1.10.0, but you have torch 1.8.0 which is incompatible.\n",
      "torchaudio 0.10.0+cu111 requires torch==1.10.0, but you have torch 1.8.0 which is incompatible.\n",
      "google-colab 1.0.0 requires six~=1.15.0, but you have six 1.12.0 which is incompatible.\n",
      "google-api-python-client 1.12.8 requires six<2dev,>=1.13.0, but you have six 1.12.0 which is incompatible.\n",
      "google-api-core 1.26.3 requires six>=1.13.0, but you have six 1.12.0 which is incompatible.\n",
      "datascience 0.10.6 requires folium==0.2.1, but you have folium 0.8.3 which is incompatible.\n",
      "albumentations 0.1.12 requires imgaug<0.2.7,>=0.2.5, but you have imgaug 0.2.9 which is incompatible.\u001b[0m\n",
      "Successfully installed astroid-2.9.0 colorama-0.4.4 isort-5.10.1 joeynmt-1.3 lazy-object-proxy-1.7.1 mccabe-0.6.1 mock-4.0.3 numpy-1.20.1 platformdirs-2.4.0 portalocker-2.3.2 pylint-2.12.2 pyyaml-6.0 sacrebleu-2.0.0 six-1.12.0 subword-nmt-0.3.8 torch-1.8.0 torchtext-0.9.0 typed-ast-1.5.1 wrapt-1.11.1\n"
     ]
    },
    {
     "data": {
      "application/vnd.colab-display-data+json": {
       "pip_warning": {
        "packages": [
         "numpy",
         "six"
        ]
       }
      }
     },
     "metadata": {},
     "output_type": "display_data"
    }
   ],
   "source": [
    "!pip install joeynmt"
   ]
  },
  {
   "cell_type": "markdown",
   "metadata": {
    "id": "IZohku9jDW3h"
   },
   "source": [
    "## Continuing with the extracted data.."
   ]
  },
  {
   "cell_type": "markdown",
   "metadata": {
    "id": "NOWfKMGODue5"
   },
   "source": [
    "### Word count"
   ]
  },
  {
   "cell_type": "code",
   "execution_count": 1,
   "metadata": {
    "colab": {
     "base_uri": "https://localhost:8080/"
    },
    "id": "j0t68NJtDYJj",
    "outputId": "3a4af041-e77d-406b-d2a3-4fad6a31d2d7"
   },
   "outputs": [
    {
     "name": "stdout",
     "output_type": "stream",
     "text": [
      "     3000 /content/data/en-fr/dev.en\n",
      "     3000 /content/data/en-fr/dev.fr\n",
      "     3003 /content/data/en-fr/test.en\n",
      "     3003 /content/data/en-fr/test.fr\n",
      "  2007723 /content/data/en-fr/train_full.en\n",
      "  2007723 /content/data/en-fr/train_full.fr\n",
      "  4027452 total\n"
     ]
    }
   ],
   "source": [
    "!wc -l /content/data/en-fr/*"
   ]
  },
  {
   "cell_type": "markdown",
   "metadata": {
    "id": "LBVyCK9aiPcE"
   },
   "source": [
    "Nous n'utiliserons qu'un sous-ensemble de données pour développement et test."
   ]
  },
  {
   "cell_type": "code",
   "execution_count": 2,
   "metadata": {
    "id": "9yjt4_62Etn_"
   },
   "outputs": [],
   "source": [
    "!head -2007723  /content/data/en-fr/train_full.en > /content/data/en-fr/train.en\n",
    "!head -2007723  /content/data/en-fr/train_full.fr > /content/data/en-fr/train.fr"
   ]
  },
  {
   "cell_type": "markdown",
   "metadata": {
    "id": "bXBB7yjdF7mv"
   },
   "source": [
    "Let's have a look at our data"
   ]
  },
  {
   "cell_type": "code",
   "execution_count": 3,
   "metadata": {
    "colab": {
     "base_uri": "https://localhost:8080/"
    },
    "id": "udOqhTyIyK4v",
    "outputId": "7ee99bc1-528b-40fe-9eb8-3ee02316e0f7"
   },
   "outputs": [
    {
     "name": "stdout",
     "output_type": "stream",
     "text": [
      "==> data/en-fr/train.en <==\n",
      "Resumption of the session\n",
      "I declare resumed the session of the European Parliament adjourned on Friday 17 December 1999, and I would like once again to wish you a happy new year in the hope that you enjoyed a pleasant festive period.\n",
      "\n",
      "==> data/en-fr/train.fr <==\n",
      "Reprise de la session\n",
      "Je déclare reprise la session du Parlement européen qui avait été interrompue le vendredi 17 décembre dernier et je vous renouvelle tous mes vux en espérant que vous avez passé de bonnes vacances.\n",
      "\n",
      "==> data/en-fr/dev.en <==\n",
      "A Republican strategy to counter the re-election of Obama \n",
      "Republican leaders justified their policy by the need to combat electoral fraud.\n",
      "\n",
      "==> data/en-fr/dev.fr <==\n",
      "Une stratégie républicaine pour contrer la réélection d'Obama\n",
      "Les dirigeants républicains justifièrent leur politique par la nécessité de lutter contre la fraude électorale.\n",
      "\n",
      "==> data/en-fr/test.en <==\n",
      "Jet makers feud over seat width with big orders at stake\n",
      "A row has flared up between leading plane makers over the width of tourist-class seats on long-distance flights, setting the tone for a bitter confrontation at this month's Dubai Airshow.\n",
      "\n",
      "==> data/en-fr/test.fr <==\n",
      "Les avionneurs se querellent au sujet de la largeur des sièges alors que de grosses commandes sont en jeu\n",
      "La dispute fait rage entre les grands constructeurs aéronautiques à propos de la largeur des sièges de la classe touriste sur les vols long-courriers, ouvrant la voie à une confrontation amère lors du salon aéronautique de Dubaï qui a lieu de mois-ci.\n"
     ]
    }
   ],
   "source": [
    "!head -2 data/en-fr/train.* data/en-fr/dev.* data/en-fr/test.*"
   ]
  },
  {
   "cell_type": "markdown",
   "metadata": {
    "id": "WZg4k1rem1jI"
   },
   "source": [
    "## Entraînement d'un modèle de Subword"
   ]
  },
  {
   "cell_type": "markdown",
   "metadata": {
    "id": "vJl9sQq22c5Z"
   },
   "source": [
    "Nous utiliserons la bibliothèque `subword_nmt` pour diviser les mots en sous-mots (BPE) en fonction de leur fréquence dans le corpus d'apprentissage.\n",
    "\n"
   ]
  },
  {
   "cell_type": "code",
   "execution_count": 4,
   "metadata": {
    "id": "tGDmK7rnqc6r"
   },
   "outputs": [],
   "source": [
    "import os"
   ]
  },
  {
   "cell_type": "code",
   "execution_count": 5,
   "metadata": {
    "id": "2wNsekzFd1BD"
   },
   "outputs": [],
   "source": [
    "src_lang = 'en'\n",
    "trg_lang = 'fr'\n",
    "bpe_size = 20000    # taille du vocabulaire à définir\n",
    "datadir = '/content/data/en-fr/'\n",
    "name = f'{src_lang}_{trg_lang}_bpe{bpe_size}'\n",
    "\n",
    "\n",
    "train_src_file = os.path.join(datadir, f'train.{src_lang}')\n",
    "train_trg_file = os.path.join(datadir, f'train.{trg_lang}')\n",
    "train_joint_file = os.path.join(datadir, f'train.{src_lang}-{trg_lang}')\n",
    "dev_src_file = os.path.join(datadir, f'dev.{src_lang}')\n",
    "dev_trg_file = os.path.join(datadir, f'dev.{trg_lang}')\n",
    "test_src_file = os.path.join(datadir, f'test.{src_lang}')\n",
    "test_trg_file = os.path.join(datadir, f'test.{trg_lang}')\n",
    "src_files = {'train': train_src_file, 'dev': dev_src_file, 'test': test_src_file}\n",
    "trg_files = {'train': train_trg_file, 'dev': dev_trg_file, 'test': test_trg_file}\n",
    "\n",
    "\n",
    "vocab_src_file = os.path.join(datadir, f'vocab.{bpe_size}.{src_lang}')\n",
    "vocab_trg_file = os.path.join(datadir, f'vocab.{bpe_size}.{trg_lang}')\n",
    "bpe_file = os.path.join(datadir, f'bpe.codes.{bpe_size}')"
   ]
  },
  {
   "cell_type": "markdown",
   "metadata": {
    "id": "oJPV_l_G2ny1"
   },
   "source": [
    "Entraîner un modèle BPE avec 20000 symboles pour les deux langues conjointement.\n",
    "\n"
   ]
  },
  {
   "cell_type": "code",
   "execution_count": 6,
   "metadata": {
    "colab": {
     "base_uri": "https://localhost:8080/"
    },
    "id": "eVYh30Mjm3zu",
    "outputId": "3f8b54ad-5c58-4291-909f-cd1869617169"
   },
   "outputs": [
    {
     "name": "stdout",
     "output_type": "stream",
     "text": [
      "100% 20000/20000 [01:46<00:00, 187.41it/s]\n"
     ]
    }
   ],
   "source": [
    "! cat $train_src_file $train_trg_file > $train_joint_file\n",
    "\n",
    "! subword-nmt learn-bpe \\\n",
    "  --input $train_joint_file \\\n",
    "  -s $bpe_size \\\n",
    "  -o $bpe_file"
   ]
  },
  {
   "cell_type": "markdown",
   "metadata": {
    "id": "QEQjXFqv2u-3"
   },
   "source": [
    "Ce fichier contient les fusions de séquences de caractères qui composent les sous-mots."
   ]
  },
  {
   "cell_type": "code",
   "execution_count": 7,
   "metadata": {
    "colab": {
     "base_uri": "https://localhost:8080/"
    },
    "id": "ZtUq1rg1sA8H",
    "outputId": "af5a8e67-7fc3-4b53-9357-efba177d1b02"
   },
   "outputs": [
    {
     "name": "stdout",
     "output_type": "stream",
     "text": [
      "#version: 0.2\n",
      "e n\n",
      "o n\n",
      "t i\n",
      "t h\n",
      "e s</w>\n",
      "a n\n",
      "o u\n",
      "i n\n",
      "r e\n"
     ]
    }
   ],
   "source": [
    "! head $bpe_file"
   ]
  },
  {
   "cell_type": "markdown",
   "metadata": {
    "id": "tWdUshWa2z3V"
   },
   "source": [
    "Nous appliquons les fusions BPE apprises aux données de formation, de développement et de test.\n"
   ]
  },
  {
   "cell_type": "code",
   "execution_count": 8,
   "metadata": {
    "id": "Qgdj1d3wpA1c"
   },
   "outputs": [],
   "source": [
    "src_bpe_files = {}\n",
    "trg_bpe_files = {}\n",
    "for split in ['train', 'dev', 'test']:\n",
    "  src_input_file = src_files[split]\n",
    "  trg_input_file = trg_files[split]\n",
    "  src_output_file = src_input_file.replace(split, f'{split}.{bpe_size}.bpe')\n",
    "  trg_output_file = trg_input_file.replace(split, f'{split}.{bpe_size}.bpe')\n",
    "  src_bpe_files[split] = src_output_file\n",
    "  trg_bpe_files[split] = trg_output_file\n",
    "\n",
    "  ! subword-nmt apply-bpe \\\n",
    "    -c $bpe_file \\\n",
    "    < $src_input_file > $src_output_file\n",
    "\n",
    "  ! subword-nmt apply-bpe \\\n",
    "    -c $bpe_file \\\n",
    "    < $trg_input_file > $trg_output_file\n"
   ]
  },
  {
   "cell_type": "markdown",
   "metadata": {
    "id": "2KrKE20C27z3"
   },
   "source": [
    "Les données subword-split contiennent `@@ ` pour indiquer où les mots ont été divisés en sous-mots."
   ]
  },
  {
   "cell_type": "code",
   "execution_count": 9,
   "metadata": {
    "colab": {
     "base_uri": "https://localhost:8080/"
    },
    "id": "SZvrbM5Qx418",
    "outputId": "44c2b30e-5326-4fbf-d7d8-2c4906c5161d"
   },
   "outputs": [
    {
     "name": "stdout",
     "output_type": "stream",
     "text": [
      "A Re@@ publi@@ can strategy to counter the re-@@ election of Ob@@ ama \n",
      "Re@@ publi@@ can leaders justified their policy by the need to combat electoral frau@@ d.\n",
      "However, the B@@ ren@@ n@@ an Centre considers this a my@@ th, stating that electoral fraud is ra@@ rer in the United States than the number of people killed by ligh@@ t@@ ning.\n",
      "Indeed, Re@@ publi@@ can law@@ yers identified only 300 cases of electoral fraud in the United States in a deca@@ de.\n",
      "One thing is certain@@ : these new provisions will have a negative impact on voter tur@@ n-@@ out.\n",
      "In this sense, the measures will parti@@ ally undermine the American democratic system.\n",
      "Un@@ like in Canada, the American States are responsible for the organisation of federal elections in the United States.\n",
      "It is in this spirit that a majority of American governments have passed new laws since 2009 making the registration or voting process more difficult.\n",
      "This phenomenon gained moment@@ um following the November 2010 elections, which saw 6@@ 75 new Re@@ publi@@ can representatives added in 26 States.\n",
      "As a result, 18@@ 0 bil@@ ls restric@@ ting the exercise of the right to vote in 41 States were introduced in 2011 alone.\n"
     ]
    }
   ],
   "source": [
    "! head data/en-fr/dev.20000.bpe.en"
   ]
  },
  {
   "cell_type": "code",
   "execution_count": 10,
   "metadata": {
    "colab": {
     "base_uri": "https://localhost:8080/"
    },
    "id": "g3uCvTzuyEqo",
    "outputId": "c93be994-ef3b-496c-f393-ee2d7c4fcd8f"
   },
   "outputs": [
    {
     "name": "stdout",
     "output_type": "stream",
     "text": [
      "Une stratégie ré@@ public@@ aine pour contrer la ré@@ élection d'@@ Ob@@ ama\n",
      "Les dirigeants ré@@ public@@ ains justifi@@ èrent leur politique par la nécessité de lutter contre la fraude élector@@ ale.\n",
      "Or, le Centre B@@ ren@@ n@@ an considère cette dernière comme un my@@ th@@ e, affirm@@ ant que la fraude électorale est plus rare aux États-Unis que le nombre de personnes tu@@ ées par la fou@@ d@@ re.\n",
      "D'@@ ailleurs, les avoc@@ ats ré@@ public@@ ains n'ont re@@ cen@@ sé que 300 cas de fraude électorale aux États-Unis en dix ans.\n",
      "Une chose est certain@@ e: ces nouvelles dispositions influ@@ en@@ cer@@ ont nég@@ ati@@ vement le taux de particip@@ ation.\n",
      "En ce sens, ces mesures min@@ eront en partie le système démocratique américain@@ .\n",
      "Contr@@ airement au Canada, les États américains sont responsables de l'organisation des élections fédér@@ ales aux États-Unis.\n",
      "C'est dans cet esprit qu'une majorité de gouvernements américains prom@@ ul@@ gu@@ èrent à partir de 2009 de nouvelles lois rendant plus difficile le processus d'@@ ins@@ cription ou de vote.\n",
      "Ce phénomène a pris de l'ampleur après les élections de novembre 2010 qui vi@@ rent s'@@ ajouter 6@@ 75 nouveaux représentants ré@@ public@@ ains dans 26 États.\n",
      "En conséquence, 18@@ 0 projets de lois restre@@ ign@@ ant l'exercice du droit de vote dans 41 États fur@@ ent introdu@@ its durant la seule année de 2011.\n"
     ]
    }
   ],
   "source": [
    "! head data/en-fr/dev.20000.bpe.fr"
   ]
  },
  {
   "cell_type": "markdown",
   "metadata": {
    "id": "7jS8RHLZyKKf"
   },
   "source": [
    "## Préparer le vocabulaire"
   ]
  },
  {
   "cell_type": "markdown",
   "metadata": {
    "id": "ndkGOp7F3LWY"
   },
   "source": [
    "À partir des données d'entraînement prétraitées, nous extrayons le vocabulaire final du modèle de traduction. Il doit contenir tous les sous-mots nécessaires pour représenter les données d'entraînement source et cible."
   ]
  },
  {
   "cell_type": "code",
   "execution_count": 11,
   "metadata": {
    "colab": {
     "base_uri": "https://localhost:8080/"
    },
    "id": "AGq8KMqjySXm",
    "outputId": "54378a41-c7eb-4edf-cbea-b7ac352d28dc"
   },
   "outputs": [
    {
     "name": "stdout",
     "output_type": "stream",
     "text": [
      "--2021-12-17 01:26:46--  https://raw.githubusercontent.com/joeynmt/joeynmt/master/scripts/build_vocab.py\n",
      "Resolving raw.githubusercontent.com (raw.githubusercontent.com)... 185.199.108.133, 185.199.109.133, 185.199.110.133, ...\n",
      "Connecting to raw.githubusercontent.com (raw.githubusercontent.com)|185.199.108.133|:443... connected.\n",
      "HTTP request sent, awaiting response... 200 OK\n",
      "Length: 2034 (2.0K) [text/plain]\n",
      "Saving to: ‘build_vocab.py’\n",
      "\n",
      "build_vocab.py      100%[===================>]   1.99K  --.-KB/s    in 0s      \n",
      "\n",
      "2021-12-17 01:26:47 (39.7 MB/s) - ‘build_vocab.py’ saved [2034/2034]\n",
      "\n"
     ]
    }
   ],
   "source": [
    "! wget https://raw.githubusercontent.com/joeynmt/joeynmt/master/scripts/build_vocab.py"
   ]
  },
  {
   "cell_type": "code",
   "execution_count": 12,
   "metadata": {
    "id": "k1_iQEQEyJyS"
   },
   "outputs": [],
   "source": [
    "vocab_src_file = src_bpe_files['train']\n",
    "vocab_trg_file = trg_bpe_files['train']\n",
    "bpe_vocab_file = os.path.join(datadir, f'joint.{bpe_size}bpe.vocab')\n",
    "\n",
    "! python build_vocab.py  \\\n",
    "  $vocab_src_file $vocab_trg_file \\\n",
    "  --output_path $bpe_vocab_file"
   ]
  },
  {
   "cell_type": "markdown",
   "metadata": {
    "id": "XSuYid3JdECc"
   },
   "source": [
    "# Configuration du modèle"
   ]
  },
  {
   "cell_type": "markdown",
   "metadata": {
    "id": "45uGP83v3Y24"
   },
   "source": [
    "Joey NMT lit les hyperparamètres de modèle et d'entraînement à partir d'un fichier de configuration. Nous générons ceci maintenant pour configurer les chemins aux endroits appropriés.\n",
    "\n",
    "La configuration ci-dessous crée un petit modèle Transformer avec des intégrations partagées entre la langue source et la langue cible sur la base des vocabulaires de sous-mots créés ci-dessus."
   ]
  },
  {
   "cell_type": "code",
   "execution_count": 13,
   "metadata": {
    "id": "bx0UInLTDA1A"
   },
   "outputs": [],
   "source": [
    "# Create the config\n",
    "config = \"\"\"\n",
    "name: \"{name}_transformer\"\n",
    "\n",
    "data:\n",
    "    src: \"{source_language}\"\n",
    "    trg: \"{target_language}\"\n",
    "    train: \"{datadir}/train.{bpe_size}.bpe\"\n",
    "    dev:   \"{datadir}/dev.{bpe_size}.bpe\"\n",
    "    test:  \"{datadir}/test.{bpe_size}.bpe\"\n",
    "    level: \"bpe\"\n",
    "    lowercase: False                \n",
    "    max_sent_length: 100             # Extend to longer sentences. **\n",
    "    src_vocab: \"{vocab_src_file}\"\n",
    "    trg_vocab: \"{vocab_trg_file}\"\n",
    "\n",
    "testing:\n",
    "    beam_size: 5\n",
    "    alpha: 1.0\n",
    "    sacrebleu:                      # sacrebleu options\n",
    "        remove_whitespace: True     # `remove_whitespace` option in sacrebleu.corpus_chrf() function (defalut: True)\n",
    "        tokenize: \"none\"            # `tokenize` option in sacrebleu.corpus_bleu() function (options include: \"none\" (use for already tokenized test data), \"13a\" (default minimal tokenizer), \"intl\" which mostly does punctuation and unicode, etc) \n",
    "\n",
    "training:\n",
    "    #load_model: \"models/{name}_transformer/1.ckpt\" # if uncommented, load a pre-trained model from this checkpoint\n",
    "    random_seed: 42\n",
    "    optimizer: \"adam\"\n",
    "    normalization: \"tokens\"\n",
    "    adam_betas: [0.9, 0.999] \n",
    "    scheduling: \"plateau\"           # Alternative: try switching from plateau to Noam scheduling\n",
    "    patience: 5                     # For plateau: decrease learning rate by decrease_factor if validation score has not improved for this many validation rounds.\n",
    "    learning_rate_factor: 0.5       # factor for Noam scheduler (used with Transformer)\n",
    "    learning_rate_warmup: 1000      # warmup steps for Noam scheduler (used with Transformer)\n",
    "    decrease_factor: 0.7\n",
    "    loss: \"crossentropy\"\n",
    "    learning_rate: 0.0003\n",
    "    learning_rate_min: 0.00000001\n",
    "    weight_decay: 0.0\n",
    "    label_smoothing: 0.1\n",
    "    batch_size: 4096\n",
    "    batch_type: \"token\"\n",
    "    #eval_batch_size: 3600\n",
    "    #eval_batch_type: \"token\"\n",
    "    #batch_multiplier: 1\n",
    "    early_stopping_metric: \"loss\"\n",
    "    epochs: 20                     # Decrease for when playing around and checking of working. Around 30 is sufficient to check if its working at all\n",
    "    validation_freq: 2000          # Set to at least once per epoch.\n",
    "    logging_freq: 200\n",
    "    eval_metric: \"bleu\"\n",
    "    model_dir: \"models/{name}_transformer\"\n",
    "    overwrite: True               # Set to True if you want to overwrite possibly existing models. \n",
    "    shuffle: True\n",
    "    use_cuda: True\n",
    "    max_output_length: 100\n",
    "    print_valid_sents: [0, 1, 2, 3]\n",
    "    keep_last_ckpts: 3    \n",
    "\n",
    "model:\n",
    "    initializer: \"xavier\"\n",
    "    bias_initializer: \"zeros\"\n",
    "    init_gain: 1.0\n",
    "    embed_initializer: \"xavier\"\n",
    "    embed_init_gain: 1.0\n",
    "    tied_embeddings: True       # Requires joint vocabulary.\n",
    "    tied_softmax: True\n",
    "    encoder:\n",
    "        type: \"transformer\"\n",
    "        num_layers: 6\n",
    "        num_heads: 8             # Increase 4 to 8 for larger data.\n",
    "        embeddings:\n",
    "            embedding_dim: 512   # Increase 256 to 512 for larger data.\n",
    "            scale: True\n",
    "            dropout: 0.2\n",
    "        # typically ff_size = 4 x hidden_size\n",
    "        hidden_size: 512         # Increase 256 to 512 for larger data.\n",
    "        ff_size: 2048            # Increase 1024 to 2048 for larger data.\n",
    "        dropout: 0.3\n",
    "    decoder:\n",
    "        type: \"transformer\"\n",
    "        num_layers: 6\n",
    "        num_heads: 8              # Increase 4 to 8 for larger data.\n",
    "        embeddings:\n",
    "            embedding_dim: 512    # Increase 256 to 512 for larger data.\n",
    "            scale: True\n",
    "            dropout: 0.2\n",
    "        # typically ff_size = 4 x hidden_size\n",
    "        hidden_size: 512         # TODO: Increase 256 to 512 for larger data.\n",
    "        ff_size: 2048            # TODO: Increase 1024 to 2048 for larger data.\n",
    "        dropout: 0.3\n",
    "\"\"\".format(name=name, source_language=src_lang, target_language=trg_lang,\n",
    "           datadir=datadir, vocab_src_file=bpe_vocab_file, \n",
    "           vocab_trg_file=bpe_vocab_file, bpe_size=bpe_size)\n",
    "with open(\"transformer_{name}.yaml\".format(name=name),'w') as f:\n",
    "    f.write(config)"
   ]
  },
  {
   "cell_type": "code",
   "execution_count": 13,
   "metadata": {
    "id": "kfDiK9kGNwcj"
   },
   "outputs": [],
   "source": []
  },
  {
   "cell_type": "markdown",
   "metadata": {
    "id": "pIOosBx1fDIQ"
   },
   "source": [
    "# Entraînement"
   ]
  },
  {
   "cell_type": "markdown",
   "metadata": {
    "id": "D20-6ecg4PvC"
   },
   "source": [
    "Cela va prendre du temps. Le journal rapporte le processus de formation, recherchez les impressions d'exemples de traductions et les notes d'évaluation BLEU pour avoir une idée de la qualité actuelle.\n",
    "\n",
    "Le journal est également stocké dans le répertoire du modèle au sein de ce runtime (inspectez les fichiers dans le menu de gauche). Vous y trouverez également un rapport récapitulatif de toutes les validations. Nous utiliserons également TensorBoard pour visualiser la progression de l'entraînement lors de vos déplacements. Cela nécessite l'activation des cookies dans le navigateur.\n",
    "\n",
    "Après 12h au plus tard, Colab se déconnectera, donc pour vous assurer que votre progression n'est pas perdue, téléchargez les points de contrôle depuis le répertoire des modèles de temps en temps. Vous pourrez plus tard les recharger si les hyperparamètres du modèle correspondent."
   ]
  },
  {
   "cell_type": "code",
   "execution_count": 14,
   "metadata": {
    "colab": {
     "base_uri": "https://localhost:8080/"
    },
    "id": "qEXnvCt6TnhQ",
    "outputId": "4704d559-38ab-4ad3-c4e9-25d96495cb6d"
   },
   "outputs": [
    {
     "name": "stdout",
     "output_type": "stream",
     "text": [
      "Collecting sacrebleu==1.5.1\n",
      "  Downloading sacrebleu-1.5.1-py3-none-any.whl (54 kB)\n",
      "\u001b[?25l\r",
      "\u001b[K     |██████                          | 10 kB 33.3 MB/s eta 0:00:01\r",
      "\u001b[K     |████████████                    | 20 kB 38.8 MB/s eta 0:00:01\r",
      "\u001b[K     |██████████████████              | 30 kB 39.0 MB/s eta 0:00:01\r",
      "\u001b[K     |████████████████████████        | 40 kB 41.0 MB/s eta 0:00:01\r",
      "\u001b[K     |██████████████████████████████  | 51 kB 20.3 MB/s eta 0:00:01\r",
      "\u001b[K     |████████████████████████████████| 54 kB 3.1 MB/s \n",
      "\u001b[?25hCollecting portalocker==2.0.0\n",
      "  Downloading portalocker-2.0.0-py2.py3-none-any.whl (11 kB)\n",
      "Installing collected packages: portalocker, sacrebleu\n",
      "  Attempting uninstall: portalocker\n",
      "    Found existing installation: portalocker 2.3.2\n",
      "    Uninstalling portalocker-2.3.2:\n",
      "      Successfully uninstalled portalocker-2.3.2\n",
      "  Attempting uninstall: sacrebleu\n",
      "    Found existing installation: sacrebleu 2.0.0\n",
      "    Uninstalling sacrebleu-2.0.0:\n",
      "      Successfully uninstalled sacrebleu-2.0.0\n",
      "Successfully installed portalocker-2.0.0 sacrebleu-1.5.1\n"
     ]
    }
   ],
   "source": [
    "! pip install --upgrade sacrebleu==1.5.1\n",
    "# conflit de version sacreBleu==2.0 => donc réinstaller l'ancienne version"
   ]
  },
  {
   "cell_type": "code",
   "execution_count": 33,
   "metadata": {
    "colab": {
     "base_uri": "https://localhost:8080/"
    },
    "id": "xGzLfqzQEqq9",
    "outputId": "592475c2-38fd-407f-b667-13eeeac1fdd9"
   },
   "outputs": [
    {
     "name": "stdout",
     "output_type": "stream",
     "text": [
      "The tensorboard extension is already loaded. To reload it, use:\n",
      "  %reload_ext tensorboard\n"
     ]
    }
   ],
   "source": [
    "# Chargez l'extension de bloc-notes TensorBoard. Il sera vide au début.\n",
    "%load_ext tensorboard"
   ]
  },
  {
   "cell_type": "code",
   "execution_count": 32,
   "metadata": {
    "colab": {
     "base_uri": "https://localhost:8080/"
    },
    "id": "GY0JV8r1ykpf",
    "outputId": "876ebf07-50dc-4bcf-f425-b8b076ff9799"
   },
   "outputs": [
    {
     "name": "stdout",
     "output_type": "stream",
     "text": [
      "/bin/bash: line 0: kill: (529) - No such process\n"
     ]
    }
   ],
   "source": [
    "!kill 529"
   ]
  },
  {
   "cell_type": "code",
   "execution_count": 34,
   "metadata": {
    "colab": {
     "base_uri": "https://localhost:8080/",
     "height": 839
    },
    "id": "9QYsZ513DuFi",
    "outputId": "f3a726fc-f3d5-42d1-ed67-07b3c8775952"
   },
   "outputs": [
    {
     "data": {
      "text/plain": [
       "Reusing TensorBoard on port 6006 (pid 529), started 8:20:25 ago. (Use '!kill 529' to kill it.)"
      ]
     },
     "metadata": {},
     "output_type": "display_data"
    },
    {
     "data": {
      "application/javascript": [
       "\n",
       "        (async () => {\n",
       "            const url = new URL(await google.colab.kernel.proxyPort(6006, {'cache': true}));\n",
       "            url.searchParams.set('tensorboardColab', 'true');\n",
       "            const iframe = document.createElement('iframe');\n",
       "            iframe.src = url;\n",
       "            iframe.setAttribute('width', '100%');\n",
       "            iframe.setAttribute('height', '800');\n",
       "            iframe.setAttribute('frameborder', 0);\n",
       "            document.body.appendChild(iframe);\n",
       "        })();\n",
       "    "
      ],
      "text/plain": [
       "<IPython.core.display.Javascript object>"
      ]
     },
     "metadata": {},
     "output_type": "display_data"
    }
   ],
   "source": [
    "%tensorboard --logdir models/en_fr_bpe20000_transformer/tensorboard "
   ]
  },
  {
   "cell_type": "code",
   "execution_count": 18,
   "metadata": {
    "colab": {
     "base_uri": "https://localhost:8080/"
    },
    "id": "FF9do6ohedY6",
    "outputId": "698bee73-9343-4a09-c0ac-941489f98b8b"
   },
   "outputs": [
    {
     "name": "stdout",
     "output_type": "stream",
     "text": [
      "2021-12-17 01:28:59,016 - INFO - root - Hello! This is Joey-NMT (version 1.3).\n",
      "2021-12-17 01:28:59,065 - INFO - joeynmt.data - Loading training data...\n",
      "2021-12-17 01:29:42,197 - INFO - joeynmt.data - Building vocabulary...\n",
      "2021-12-17 01:29:48,862 - INFO - joeynmt.data - Loading dev data...\n",
      "2021-12-17 01:29:49,075 - INFO - joeynmt.data - Loading test data...\n",
      "2021-12-17 01:29:49,112 - INFO - joeynmt.data - Data loaded.\n",
      "2021-12-17 01:29:49,112 - INFO - joeynmt.model - Building an encoder-decoder model...\n",
      "2021-12-17 01:29:50,068 - INFO - joeynmt.model - Enc-dec model built.\n",
      "2021-12-17 01:29:54,833 - INFO - joeynmt.training - Total params: 54624256\n",
      "2021-12-17 01:30:00,333 - INFO - joeynmt.helpers - cfg.name                           : en_fr_bpe20000_transformer\n",
      "2021-12-17 01:30:00,336 - INFO - joeynmt.helpers - cfg.data.src                       : en\n",
      "2021-12-17 01:30:00,336 - INFO - joeynmt.helpers - cfg.data.trg                       : fr\n",
      "2021-12-17 01:30:00,336 - INFO - joeynmt.helpers - cfg.data.train                     : /content/data/en-fr//train.20000.bpe\n",
      "2021-12-17 01:30:00,336 - INFO - joeynmt.helpers - cfg.data.dev                       : /content/data/en-fr//dev.20000.bpe\n",
      "2021-12-17 01:30:00,336 - INFO - joeynmt.helpers - cfg.data.test                      : /content/data/en-fr//test.20000.bpe\n",
      "2021-12-17 01:30:00,336 - INFO - joeynmt.helpers - cfg.data.level                     : bpe\n",
      "2021-12-17 01:30:00,336 - INFO - joeynmt.helpers - cfg.data.lowercase                 : False\n",
      "2021-12-17 01:30:00,336 - INFO - joeynmt.helpers - cfg.data.max_sent_length           : 100\n",
      "2021-12-17 01:30:00,336 - INFO - joeynmt.helpers - cfg.data.src_vocab                 : /content/data/en-fr/joint.20000bpe.vocab\n",
      "2021-12-17 01:30:00,337 - INFO - joeynmt.helpers - cfg.data.trg_vocab                 : /content/data/en-fr/joint.20000bpe.vocab\n",
      "2021-12-17 01:30:00,337 - INFO - joeynmt.helpers - cfg.testing.beam_size              : 5\n",
      "2021-12-17 01:30:00,337 - INFO - joeynmt.helpers - cfg.testing.alpha                  : 1.0\n",
      "2021-12-17 01:30:00,337 - INFO - joeynmt.helpers - cfg.testing.sacrebleu.remove_whitespace : True\n",
      "2021-12-17 01:30:00,337 - INFO - joeynmt.helpers - cfg.testing.sacrebleu.tokenize     : none\n",
      "2021-12-17 01:30:00,337 - INFO - joeynmt.helpers - cfg.training.random_seed           : 42\n",
      "2021-12-17 01:30:00,337 - INFO - joeynmt.helpers - cfg.training.optimizer             : adam\n",
      "2021-12-17 01:30:00,337 - INFO - joeynmt.helpers - cfg.training.normalization         : tokens\n",
      "2021-12-17 01:30:00,337 - INFO - joeynmt.helpers - cfg.training.adam_betas            : [0.9, 0.999]\n",
      "2021-12-17 01:30:00,337 - INFO - joeynmt.helpers - cfg.training.scheduling            : plateau\n",
      "2021-12-17 01:30:00,337 - INFO - joeynmt.helpers - cfg.training.patience              : 5\n",
      "2021-12-17 01:30:00,337 - INFO - joeynmt.helpers - cfg.training.learning_rate_factor  : 0.5\n",
      "2021-12-17 01:30:00,338 - INFO - joeynmt.helpers - cfg.training.learning_rate_warmup  : 1000\n",
      "2021-12-17 01:30:00,338 - INFO - joeynmt.helpers - cfg.training.decrease_factor       : 0.7\n",
      "2021-12-17 01:30:00,338 - INFO - joeynmt.helpers - cfg.training.loss                  : crossentropy\n",
      "2021-12-17 01:30:00,338 - INFO - joeynmt.helpers - cfg.training.learning_rate         : 0.0003\n",
      "2021-12-17 01:30:00,338 - INFO - joeynmt.helpers - cfg.training.learning_rate_min     : 1e-08\n",
      "2021-12-17 01:30:00,338 - INFO - joeynmt.helpers - cfg.training.weight_decay          : 0.0\n",
      "2021-12-17 01:30:00,338 - INFO - joeynmt.helpers - cfg.training.label_smoothing       : 0.1\n",
      "2021-12-17 01:30:00,338 - INFO - joeynmt.helpers - cfg.training.batch_size            : 4096\n",
      "2021-12-17 01:30:00,338 - INFO - joeynmt.helpers - cfg.training.batch_type            : token\n",
      "2021-12-17 01:30:00,338 - INFO - joeynmt.helpers - cfg.training.early_stopping_metric : loss\n",
      "2021-12-17 01:30:00,338 - INFO - joeynmt.helpers - cfg.training.epochs                : 20\n",
      "2021-12-17 01:30:00,338 - INFO - joeynmt.helpers - cfg.training.validation_freq       : 2000\n",
      "2021-12-17 01:30:00,338 - INFO - joeynmt.helpers - cfg.training.logging_freq          : 200\n",
      "2021-12-17 01:30:00,338 - INFO - joeynmt.helpers - cfg.training.eval_metric           : bleu\n",
      "2021-12-17 01:30:00,338 - INFO - joeynmt.helpers - cfg.training.model_dir             : models/en_fr_bpe20000_transformer\n",
      "2021-12-17 01:30:00,339 - INFO - joeynmt.helpers - cfg.training.overwrite             : True\n",
      "2021-12-17 01:30:00,339 - INFO - joeynmt.helpers - cfg.training.shuffle               : True\n",
      "2021-12-17 01:30:00,339 - INFO - joeynmt.helpers - cfg.training.use_cuda              : True\n",
      "2021-12-17 01:30:00,339 - INFO - joeynmt.helpers - cfg.training.max_output_length     : 100\n",
      "2021-12-17 01:30:00,339 - INFO - joeynmt.helpers - cfg.training.print_valid_sents     : [0, 1, 2, 3]\n",
      "2021-12-17 01:30:00,339 - INFO - joeynmt.helpers - cfg.training.keep_last_ckpts       : 3\n",
      "2021-12-17 01:30:00,339 - INFO - joeynmt.helpers - cfg.model.initializer              : xavier\n",
      "2021-12-17 01:30:00,339 - INFO - joeynmt.helpers - cfg.model.bias_initializer         : zeros\n",
      "2021-12-17 01:30:00,339 - INFO - joeynmt.helpers - cfg.model.init_gain                : 1.0\n",
      "2021-12-17 01:30:00,339 - INFO - joeynmt.helpers - cfg.model.embed_initializer        : xavier\n",
      "2021-12-17 01:30:00,339 - INFO - joeynmt.helpers - cfg.model.embed_init_gain          : 1.0\n",
      "2021-12-17 01:30:00,339 - INFO - joeynmt.helpers - cfg.model.tied_embeddings          : True\n",
      "2021-12-17 01:30:00,339 - INFO - joeynmt.helpers - cfg.model.tied_softmax             : True\n",
      "2021-12-17 01:30:00,339 - INFO - joeynmt.helpers - cfg.model.encoder.type             : transformer\n",
      "2021-12-17 01:30:00,339 - INFO - joeynmt.helpers - cfg.model.encoder.num_layers       : 6\n",
      "2021-12-17 01:30:00,339 - INFO - joeynmt.helpers - cfg.model.encoder.num_heads        : 8\n",
      "2021-12-17 01:30:00,339 - INFO - joeynmt.helpers - cfg.model.encoder.embeddings.embedding_dim : 512\n",
      "2021-12-17 01:30:00,340 - INFO - joeynmt.helpers - cfg.model.encoder.embeddings.scale : True\n",
      "2021-12-17 01:30:00,340 - INFO - joeynmt.helpers - cfg.model.encoder.embeddings.dropout : 0.2\n",
      "2021-12-17 01:30:00,340 - INFO - joeynmt.helpers - cfg.model.encoder.hidden_size      : 512\n",
      "2021-12-17 01:30:00,340 - INFO - joeynmt.helpers - cfg.model.encoder.ff_size          : 2048\n",
      "2021-12-17 01:30:00,340 - INFO - joeynmt.helpers - cfg.model.encoder.dropout          : 0.3\n",
      "2021-12-17 01:30:00,340 - INFO - joeynmt.helpers - cfg.model.decoder.type             : transformer\n",
      "2021-12-17 01:30:00,340 - INFO - joeynmt.helpers - cfg.model.decoder.num_layers       : 6\n",
      "2021-12-17 01:30:00,340 - INFO - joeynmt.helpers - cfg.model.decoder.num_heads        : 8\n",
      "2021-12-17 01:30:00,340 - INFO - joeynmt.helpers - cfg.model.decoder.embeddings.embedding_dim : 512\n",
      "2021-12-17 01:30:00,340 - INFO - joeynmt.helpers - cfg.model.decoder.embeddings.scale : True\n",
      "2021-12-17 01:30:00,340 - INFO - joeynmt.helpers - cfg.model.decoder.embeddings.dropout : 0.2\n",
      "2021-12-17 01:30:00,340 - INFO - joeynmt.helpers - cfg.model.decoder.hidden_size      : 512\n",
      "2021-12-17 01:30:00,340 - INFO - joeynmt.helpers - cfg.model.decoder.ff_size          : 2048\n",
      "2021-12-17 01:30:00,340 - INFO - joeynmt.helpers - cfg.model.decoder.dropout          : 0.3\n",
      "2021-12-17 01:30:00,340 - INFO - joeynmt.helpers - Data set sizes: \n",
      "\ttrain 1990208,\n",
      "\tvalid 3000,\n",
      "\ttest 3003\n",
      "2021-12-17 01:30:00,340 - INFO - joeynmt.helpers - First training example:\n",
      "\t[SRC] Res@@ um@@ ption of the session\n",
      "\t[TRG] Re@@ prise de la session\n",
      "2021-12-17 01:30:00,341 - INFO - joeynmt.helpers - First 10 words (src): (0) <unk> (1) <pad> (2) <s> (3) </s> (4) the (5) de (6) of (7) la (8) to (9) and\n",
      "2021-12-17 01:30:00,341 - INFO - joeynmt.helpers - First 10 words (trg): (0) <unk> (1) <pad> (2) <s> (3) </s> (4) the (5) de (6) of (7) la (8) to (9) and\n",
      "2021-12-17 01:30:00,341 - INFO - joeynmt.helpers - Number of Src words (types): 20476\n",
      "2021-12-17 01:30:00,342 - INFO - joeynmt.helpers - Number of Trg words (types): 20476\n",
      "2021-12-17 01:30:00,342 - INFO - joeynmt.training - Model(\n",
      "\tencoder=TransformerEncoder(num_layers=6, num_heads=8),\n",
      "\tdecoder=TransformerDecoder(num_layers=6, num_heads=8),\n",
      "\tsrc_embed=Embeddings(embedding_dim=512, vocab_size=20476),\n",
      "\ttrg_embed=Embeddings(embedding_dim=512, vocab_size=20476))\n",
      "2021-12-17 01:30:00,363 - INFO - joeynmt.training - Train stats:\n",
      "\tdevice: cuda\n",
      "\tn_gpu: 1\n",
      "\t16-bits training: False\n",
      "\tgradient accumulation: 1\n",
      "\tbatch size per device: 4096\n",
      "\ttotal batch size (w. parallel & accumulation): 4096\n",
      "2021-12-17 01:30:00,366 - INFO - joeynmt.training - EPOCH 1\n",
      "2021-12-17 01:30:56,469 - INFO - joeynmt.training - Epoch   1, Step:      200, Batch Loss:     6.080872, Tokens per Sec:     9430, Lr: 0.000300\n",
      "2021-12-17 01:31:48,898 - INFO - joeynmt.training - Epoch   1, Step:      400, Batch Loss:     5.728610, Tokens per Sec:    10245, Lr: 0.000300\n",
      "2021-12-17 01:32:41,098 - INFO - joeynmt.training - Epoch   1, Step:      600, Batch Loss:     5.158121, Tokens per Sec:    10094, Lr: 0.000300\n",
      "2021-12-17 01:33:33,180 - INFO - joeynmt.training - Epoch   1, Step:      800, Batch Loss:     4.911932, Tokens per Sec:    10178, Lr: 0.000300\n",
      "2021-12-17 01:34:24,877 - INFO - joeynmt.training - Epoch   1, Step:     1000, Batch Loss:     4.772821, Tokens per Sec:    10029, Lr: 0.000300\n",
      "2021-12-17 01:35:17,478 - INFO - joeynmt.training - Epoch   1, Step:     1200, Batch Loss:     4.811021, Tokens per Sec:    10186, Lr: 0.000300\n",
      "2021-12-17 01:36:09,543 - INFO - joeynmt.training - Epoch   1, Step:     1400, Batch Loss:     4.496876, Tokens per Sec:    10138, Lr: 0.000300\n",
      "2021-12-17 01:37:01,510 - INFO - joeynmt.training - Epoch   1, Step:     1600, Batch Loss:     4.367820, Tokens per Sec:    10075, Lr: 0.000300\n",
      "2021-12-17 01:37:53,611 - INFO - joeynmt.training - Epoch   1, Step:     1800, Batch Loss:     4.322756, Tokens per Sec:    10030, Lr: 0.000300\n",
      "2021-12-17 01:38:46,234 - INFO - joeynmt.training - Epoch   1, Step:     2000, Batch Loss:     4.209832, Tokens per Sec:    10134, Lr: 0.000300\n",
      "2021-12-17 01:42:43,213 - INFO - joeynmt.training - Hooray! New best validation result [loss]!\n",
      "2021-12-17 01:42:43,214 - INFO - joeynmt.training - Saving new checkpoint.\n",
      "2021-12-17 01:42:46,262 - INFO - joeynmt.training - Example #0\n",
      "2021-12-17 01:42:46,308 - INFO - joeynmt.training - \tSource:     A Republican strategy to counter the re-election of Obama\n",
      "2021-12-17 01:42:46,309 - INFO - joeynmt.training - \tReference:  Une stratégie républicaine pour contrer la réélection d'Obama\n",
      "2021-12-17 01:42:46,309 - INFO - joeynmt.training - \tHypothesis: Il faut également également que la Commission doit être en train de la Commission de la Commission.\n",
      "2021-12-17 01:42:46,309 - INFO - joeynmt.training - Example #1\n",
      "2021-12-17 01:42:46,310 - INFO - joeynmt.training - \tSource:     Republican leaders justified their policy by the need to combat electoral fraud.\n",
      "2021-12-17 01:42:46,310 - INFO - joeynmt.training - \tReference:  Les dirigeants républicains justifièrent leur politique par la nécessité de lutter contre la fraude électorale.\n",
      "2021-12-17 01:42:46,310 - INFO - joeynmt.training - \tHypothesis: Les mesures de la politique de la politique de la politique de la politique de la politique de la politique de la politique de la politique de la sécurité de la Commission.\n",
      "2021-12-17 01:42:46,311 - INFO - joeynmt.training - Example #2\n",
      "2021-12-17 01:42:46,312 - INFO - joeynmt.training - \tSource:     However, the Brennan Centre considers this a myth, stating that electoral fraud is rarer in the United States than the number of people killed by lightning.\n",
      "2021-12-17 01:42:46,312 - INFO - joeynmt.training - \tReference:  Or, le Centre Brennan considère cette dernière comme un mythe, affirmant que la fraude électorale est plus rare aux États-Unis que le nombre de personnes tuées par la foudre.\n",
      "2021-12-17 01:42:46,314 - INFO - joeynmt.training - \tHypothesis: Mais le gouvernement de la directive a été mis à ce que le gouvernement de la directive a été mis à la question de la directive de la directive de la directive de la directive de la directive de la directive de la directive de la directive de la Commission.\n",
      "2021-12-17 01:42:46,314 - INFO - joeynmt.training - Example #3\n",
      "2021-12-17 01:42:46,314 - INFO - joeynmt.training - \tSource:     Indeed, Republican lawyers identified only 300 cases of electoral fraud in the United States in a decade.\n",
      "2021-12-17 01:42:46,314 - INFO - joeynmt.training - \tReference:  D'ailleurs, les avocats républicains n'ont recensé que 300 cas de fraude électorale aux États-Unis en dix ans.\n",
      "2021-12-17 01:42:46,314 - INFO - joeynmt.training - \tHypothesis: En effet, il ne faut pas être de mesures de la directive de la directive de la directive de la directive de la directive de la directive de la Commission.\n",
      "2021-12-17 01:42:46,315 - INFO - joeynmt.training - Validation result (greedy) at epoch   1, step     2000: bleu:   0.26, loss: 460473.0312, ppl: 158.6874, duration: 240.0802s\n",
      "2021-12-17 01:43:38,966 - INFO - joeynmt.training - Epoch   1, Step:     2200, Batch Loss:     3.432343, Tokens per Sec:    10032, Lr: 0.000300\n",
      "2021-12-17 01:44:31,616 - INFO - joeynmt.training - Epoch   1, Step:     2400, Batch Loss:     4.218332, Tokens per Sec:    10092, Lr: 0.000300\n",
      "2021-12-17 01:45:23,865 - INFO - joeynmt.training - Epoch   1, Step:     2600, Batch Loss:     4.048437, Tokens per Sec:    10121, Lr: 0.000300\n",
      "2021-12-17 01:46:16,212 - INFO - joeynmt.training - Epoch   1, Step:     2800, Batch Loss:     4.141016, Tokens per Sec:    10140, Lr: 0.000300\n",
      "2021-12-17 01:47:08,331 - INFO - joeynmt.training - Epoch   1, Step:     3000, Batch Loss:     3.728922, Tokens per Sec:     9988, Lr: 0.000300\n",
      "2021-12-17 01:48:00,373 - INFO - joeynmt.training - Epoch   1, Step:     3200, Batch Loss:     3.889320, Tokens per Sec:    10028, Lr: 0.000300\n",
      "2021-12-17 01:48:52,774 - INFO - joeynmt.training - Epoch   1, Step:     3400, Batch Loss:     3.978219, Tokens per Sec:    10090, Lr: 0.000300\n",
      "2021-12-17 01:49:45,390 - INFO - joeynmt.training - Epoch   1, Step:     3600, Batch Loss:     3.669125, Tokens per Sec:    10148, Lr: 0.000300\n",
      "2021-12-17 01:50:37,647 - INFO - joeynmt.training - Epoch   1, Step:     3800, Batch Loss:     3.403150, Tokens per Sec:     9953, Lr: 0.000300\n",
      "2021-12-17 01:51:30,243 - INFO - joeynmt.training - Epoch   1, Step:     4000, Batch Loss:     3.299787, Tokens per Sec:    10107, Lr: 0.000300\n",
      "2021-12-17 01:55:14,306 - INFO - joeynmt.training - Hooray! New best validation result [loss]!\n",
      "2021-12-17 01:55:14,306 - INFO - joeynmt.training - Saving new checkpoint.\n",
      "2021-12-17 01:55:16,889 - INFO - joeynmt.training - Example #0\n",
      "2021-12-17 01:55:16,916 - INFO - joeynmt.training - \tSource:     A Republican strategy to counter the re-election of Obama\n",
      "2021-12-17 01:55:16,916 - INFO - joeynmt.training - \tReference:  Une stratégie républicaine pour contrer la réélection d'Obama\n",
      "2021-12-17 01:55:16,916 - INFO - joeynmt.training - \tHypothesis: Un nouvel objectif de la stratégie de Lisbonne peut être la plus grande partie du processus de paix.\n",
      "2021-12-17 01:55:16,916 - INFO - joeynmt.training - Example #1\n",
      "2021-12-17 01:55:16,916 - INFO - joeynmt.training - \tSource:     Republican leaders justified their policy by the need to combat electoral fraud.\n",
      "2021-12-17 01:55:16,916 - INFO - joeynmt.training - \tReference:  Les dirigeants républicains justifièrent leur politique par la nécessité de lutter contre la fraude électorale.\n",
      "2021-12-17 01:55:16,916 - INFO - joeynmt.training - \tHypothesis: Les dirigeants de la politique peuvent être prises par leur propre propre propre propre propre propre propre propre propre propre propre propre propre propre propre contrôle de la lutte contre la criminalité organisée.\n",
      "2021-12-17 01:55:16,916 - INFO - joeynmt.training - Example #2\n",
      "2021-12-17 01:55:16,917 - INFO - joeynmt.training - \tSource:     However, the Brennan Centre considers this a myth, stating that electoral fraud is rarer in the United States than the number of people killed by lightning.\n",
      "2021-12-17 01:55:16,917 - INFO - joeynmt.training - \tReference:  Or, le Centre Brennan considère cette dernière comme un mythe, affirmant que la fraude électorale est plus rare aux États-Unis que le nombre de personnes tuées par la foudre.\n",
      "2021-12-17 01:55:16,917 - INFO - joeynmt.training - \tHypothesis: Cependant, la CECA est une seule chose qui est la plus haute représentante de la police des États-Unis est plus que le nombre de personnes ont été dées.\n",
      "2021-12-17 01:55:16,917 - INFO - joeynmt.training - Example #3\n",
      "2021-12-17 01:55:16,917 - INFO - joeynmt.training - \tSource:     Indeed, Republican lawyers identified only 300 cases of electoral fraud in the United States in a decade.\n",
      "2021-12-17 01:55:16,917 - INFO - joeynmt.training - \tReference:  D'ailleurs, les avocats républicains n'ont recensé que 300 cas de fraude électorale aux États-Unis en dix ans.\n",
      "2021-12-17 01:55:16,917 - INFO - joeynmt.training - \tHypothesis: En effet, les autorités peuvent être prises en matière de gestion des exportations de la population dans les États membres.\n",
      "2021-12-17 01:55:16,917 - INFO - joeynmt.training - Validation result (greedy) at epoch   1, step     4000: bleu:   1.83, loss: 403752.7500, ppl:  85.0126, duration: 226.6732s\n",
      "2021-12-17 01:56:09,229 - INFO - joeynmt.training - Epoch   1, Step:     4200, Batch Loss:     3.117488, Tokens per Sec:    10043, Lr: 0.000300\n",
      "2021-12-17 01:57:01,392 - INFO - joeynmt.training - Epoch   1, Step:     4400, Batch Loss:     3.450221, Tokens per Sec:    10092, Lr: 0.000300\n",
      "2021-12-17 01:57:53,703 - INFO - joeynmt.training - Epoch   1, Step:     4600, Batch Loss:     2.970207, Tokens per Sec:    10004, Lr: 0.000300\n",
      "2021-12-17 01:58:45,590 - INFO - joeynmt.training - Epoch   1, Step:     4800, Batch Loss:     3.317773, Tokens per Sec:    10058, Lr: 0.000300\n",
      "2021-12-17 01:59:37,920 - INFO - joeynmt.training - Epoch   1, Step:     5000, Batch Loss:     3.578988, Tokens per Sec:    10071, Lr: 0.000300\n",
      "2021-12-17 02:00:30,116 - INFO - joeynmt.training - Epoch   1, Step:     5200, Batch Loss:     3.436790, Tokens per Sec:    10055, Lr: 0.000300\n",
      "2021-12-17 02:01:22,218 - INFO - joeynmt.training - Epoch   1, Step:     5400, Batch Loss:     3.973083, Tokens per Sec:    10041, Lr: 0.000300\n",
      "2021-12-17 02:02:14,712 - INFO - joeynmt.training - Epoch   1, Step:     5600, Batch Loss:     2.851083, Tokens per Sec:    10127, Lr: 0.000300\n",
      "2021-12-17 02:03:07,855 - INFO - joeynmt.training - Epoch   1, Step:     5800, Batch Loss:     2.798500, Tokens per Sec:    10182, Lr: 0.000300\n",
      "2021-12-17 02:04:00,447 - INFO - joeynmt.training - Epoch   1, Step:     6000, Batch Loss:     3.282624, Tokens per Sec:    10144, Lr: 0.000300\n",
      "2021-12-17 02:07:21,978 - INFO - joeynmt.training - Hooray! New best validation result [loss]!\n",
      "2021-12-17 02:07:21,978 - INFO - joeynmt.training - Saving new checkpoint.\n",
      "2021-12-17 02:07:24,472 - INFO - joeynmt.training - Example #0\n",
      "2021-12-17 02:07:24,522 - INFO - joeynmt.training - \tSource:     A Republican strategy to counter the re-election of Obama\n",
      "2021-12-17 02:07:24,522 - INFO - joeynmt.training - \tReference:  Une stratégie républicaine pour contrer la réélection d'Obama\n",
      "2021-12-17 02:07:24,522 - INFO - joeynmt.training - \tHypothesis: Une stratégie de coopération peut être prise en considération la mise en place de la monnaie unique.\n",
      "2021-12-17 02:07:24,522 - INFO - joeynmt.training - Example #1\n",
      "2021-12-17 02:07:24,522 - INFO - joeynmt.training - \tSource:     Republican leaders justified their policy by the need to combat electoral fraud.\n",
      "2021-12-17 02:07:24,522 - INFO - joeynmt.training - \tReference:  Les dirigeants républicains justifièrent leur politique par la nécessité de lutter contre la fraude électorale.\n",
      "2021-12-17 02:07:24,522 - INFO - joeynmt.training - \tHypothesis: Les dirigeants peuvent être informés de leur politique de lutte contre la fraude organisée.\n",
      "2021-12-17 02:07:24,522 - INFO - joeynmt.training - Example #2\n",
      "2021-12-17 02:07:24,523 - INFO - joeynmt.training - \tSource:     However, the Brennan Centre considers this a myth, stating that electoral fraud is rarer in the United States than the number of people killed by lightning.\n",
      "2021-12-17 02:07:24,523 - INFO - joeynmt.training - \tReference:  Or, le Centre Brennan considère cette dernière comme un mythe, affirmant que la fraude électorale est plus rare aux États-Unis que le nombre de personnes tuées par la foudre.\n",
      "2021-12-17 02:07:24,523 - INFO - joeynmt.training - \tHypothesis: Cependant, le programme de Bât semble que cette séparation militaire est la destruction des États-Unis dans le nombre de personnes qui ont été assassinées par le nombre de personnes atteintes de la part de la population.\n",
      "2021-12-17 02:07:24,523 - INFO - joeynmt.training - Example #3\n",
      "2021-12-17 02:07:24,523 - INFO - joeynmt.training - \tSource:     Indeed, Republican lawyers identified only 300 cases of electoral fraud in the United States in a decade.\n",
      "2021-12-17 02:07:24,523 - INFO - joeynmt.training - \tReference:  D'ailleurs, les avocats républicains n'ont recensé que 300 cas de fraude électorale aux États-Unis en dix ans.\n",
      "2021-12-17 02:07:24,523 - INFO - joeynmt.training - \tHypothesis: En effet, les autorités peuvent être informées à 200 cas de fraude électorales dans les États-Unis en fin de la période de session de la forêt.\n",
      "2021-12-17 02:07:24,523 - INFO - joeynmt.training - Validation result (greedy) at epoch   1, step     6000: bleu:   3.52, loss: 363807.0625, ppl:  54.7757, duration: 204.0758s\n",
      "2021-12-17 02:08:16,984 - INFO - joeynmt.training - Epoch   1, Step:     6200, Batch Loss:     3.285646, Tokens per Sec:    10144, Lr: 0.000300\n",
      "2021-12-17 02:09:09,266 - INFO - joeynmt.training - Epoch   1, Step:     6400, Batch Loss:     2.699730, Tokens per Sec:    10107, Lr: 0.000300\n",
      "2021-12-17 02:10:01,618 - INFO - joeynmt.training - Epoch   1, Step:     6600, Batch Loss:     2.390471, Tokens per Sec:    10165, Lr: 0.000300\n",
      "2021-12-17 02:10:54,107 - INFO - joeynmt.training - Epoch   1, Step:     6800, Batch Loss:     2.725530, Tokens per Sec:    10191, Lr: 0.000300\n",
      "2021-12-17 02:11:46,334 - INFO - joeynmt.training - Epoch   1, Step:     7000, Batch Loss:     2.757511, Tokens per Sec:    10123, Lr: 0.000300\n",
      "2021-12-17 02:12:38,452 - INFO - joeynmt.training - Epoch   1, Step:     7200, Batch Loss:     2.825521, Tokens per Sec:    10071, Lr: 0.000300\n",
      "2021-12-17 02:13:30,651 - INFO - joeynmt.training - Epoch   1, Step:     7400, Batch Loss:     2.547634, Tokens per Sec:     9985, Lr: 0.000300\n",
      "2021-12-17 02:14:23,138 - INFO - joeynmt.training - Epoch   1, Step:     7600, Batch Loss:     2.629359, Tokens per Sec:    10137, Lr: 0.000300\n",
      "2021-12-17 02:15:15,346 - INFO - joeynmt.training - Epoch   1, Step:     7800, Batch Loss:     2.803394, Tokens per Sec:     9953, Lr: 0.000300\n",
      "2021-12-17 02:16:07,971 - INFO - joeynmt.training - Epoch   1, Step:     8000, Batch Loss:     2.398749, Tokens per Sec:    10166, Lr: 0.000300\n",
      "2021-12-17 02:19:02,567 - INFO - joeynmt.training - Hooray! New best validation result [loss]!\n",
      "2021-12-17 02:19:02,567 - INFO - joeynmt.training - Saving new checkpoint.\n",
      "2021-12-17 02:19:05,094 - INFO - joeynmt.training - Example #0\n",
      "2021-12-17 02:19:05,113 - INFO - joeynmt.training - \tSource:     A Republican strategy to counter the re-election of Obama\n",
      "2021-12-17 02:19:05,113 - INFO - joeynmt.training - \tReference:  Une stratégie républicaine pour contrer la réélection d'Obama\n",
      "2021-12-17 02:19:05,113 - INFO - joeynmt.training - \tHypothesis: Une stratégie peut être fondée sur la réouverture des élections d'Écofin\n",
      "2021-12-17 02:19:05,113 - INFO - joeynmt.training - Example #1\n",
      "2021-12-17 02:19:05,113 - INFO - joeynmt.training - \tSource:     Republican leaders justified their policy by the need to combat electoral fraud.\n",
      "2021-12-17 02:19:05,113 - INFO - joeynmt.training - \tReference:  Les dirigeants républicains justifièrent leur politique par la nécessité de lutter contre la fraude électorale.\n",
      "2021-12-17 02:19:05,113 - INFO - joeynmt.training - \tHypothesis: Les dirigeants peuvent se demander de leur politique justifiée par la lutte contre la fraude.\n",
      "2021-12-17 02:19:05,113 - INFO - joeynmt.training - Example #2\n",
      "2021-12-17 02:19:05,113 - INFO - joeynmt.training - \tSource:     However, the Brennan Centre considers this a myth, stating that electoral fraud is rarer in the United States than the number of people killed by lightning.\n",
      "2021-12-17 02:19:05,113 - INFO - joeynmt.training - \tReference:  Or, le Centre Brennan considère cette dernière comme un mythe, affirmant que la fraude électorale est plus rare aux États-Unis que le nombre de personnes tuées par la foudre.\n",
      "2021-12-17 02:19:05,113 - INFO - joeynmt.training - \tHypothesis: Toutefois, le professeur Bato considère que cette fraude électorale est un centre de fraude, que la fraude des États-Unis est le nombre de personnes meurtriennées par la démonstration de la population.\n",
      "2021-12-17 02:19:05,114 - INFO - joeynmt.training - Example #3\n",
      "2021-12-17 02:19:05,114 - INFO - joeynmt.training - \tSource:     Indeed, Republican lawyers identified only 300 cases of electoral fraud in the United States in a decade.\n",
      "2021-12-17 02:19:05,114 - INFO - joeynmt.training - \tReference:  D'ailleurs, les avocats républicains n'ont recensé que 300 cas de fraude électorale aux États-Unis en dix ans.\n",
      "2021-12-17 02:19:05,114 - INFO - joeynmt.training - \tHypothesis: En effet, les avocats peuvent être considérés comme un des cas de fraude électorales des États-Unis dans une décennie.\n",
      "2021-12-17 02:19:05,114 - INFO - joeynmt.training - Validation result (greedy) at epoch   1, step     8000: bleu:   6.32, loss: 330379.3125, ppl:  37.9176, duration: 177.1424s\n",
      "2021-12-17 02:19:56,948 - INFO - joeynmt.training - Epoch   1, Step:     8200, Batch Loss:     2.804832, Tokens per Sec:     9969, Lr: 0.000300\n",
      "2021-12-17 02:20:49,463 - INFO - joeynmt.training - Epoch   1, Step:     8400, Batch Loss:     2.668880, Tokens per Sec:    10112, Lr: 0.000300\n",
      "2021-12-17 02:21:41,884 - INFO - joeynmt.training - Epoch   1, Step:     8600, Batch Loss:     2.868474, Tokens per Sec:    10080, Lr: 0.000300\n",
      "2021-12-17 02:22:34,056 - INFO - joeynmt.training - Epoch   1, Step:     8800, Batch Loss:     2.520773, Tokens per Sec:    10112, Lr: 0.000300\n",
      "2021-12-17 02:23:26,217 - INFO - joeynmt.training - Epoch   1, Step:     9000, Batch Loss:     2.913219, Tokens per Sec:    10143, Lr: 0.000300\n",
      "2021-12-17 02:24:18,478 - INFO - joeynmt.training - Epoch   1, Step:     9200, Batch Loss:     2.371516, Tokens per Sec:    10056, Lr: 0.000300\n",
      "2021-12-17 02:25:10,762 - INFO - joeynmt.training - Epoch   1, Step:     9400, Batch Loss:     2.587236, Tokens per Sec:    10039, Lr: 0.000300\n",
      "2021-12-17 02:26:03,154 - INFO - joeynmt.training - Epoch   1, Step:     9600, Batch Loss:     2.333008, Tokens per Sec:    10134, Lr: 0.000300\n",
      "2021-12-17 02:26:55,603 - INFO - joeynmt.training - Epoch   1, Step:     9800, Batch Loss:     2.314773, Tokens per Sec:    10046, Lr: 0.000300\n",
      "2021-12-17 02:27:47,978 - INFO - joeynmt.training - Epoch   1, Step:    10000, Batch Loss:     2.539253, Tokens per Sec:    10044, Lr: 0.000300\n",
      "2021-12-17 02:30:22,815 - INFO - joeynmt.training - Hooray! New best validation result [loss]!\n",
      "2021-12-17 02:30:22,815 - INFO - joeynmt.training - Saving new checkpoint.\n",
      "2021-12-17 02:30:25,413 - INFO - joeynmt.training - Example #0\n",
      "2021-12-17 02:30:25,416 - INFO - joeynmt.training - \tSource:     A Republican strategy to counter the re-election of Obama\n",
      "2021-12-17 02:30:25,416 - INFO - joeynmt.training - \tReference:  Une stratégie républicaine pour contrer la réélection d'Obama\n",
      "2021-12-17 02:30:25,416 - INFO - joeynmt.training - \tHypothesis: Une stratégie de coordination peut être contraire à la réouverture des élections Obama\n",
      "2021-12-17 02:30:25,416 - INFO - joeynmt.training - Example #1\n",
      "2021-12-17 02:30:25,417 - INFO - joeynmt.training - \tSource:     Republican leaders justified their policy by the need to combat electoral fraud.\n",
      "2021-12-17 02:30:25,417 - INFO - joeynmt.training - \tReference:  Les dirigeants républicains justifièrent leur politique par la nécessité de lutter contre la fraude électorale.\n",
      "2021-12-17 02:30:25,417 - INFO - joeynmt.training - \tHypothesis: Les dirigeants peuvent être justifiés par la politique de lutte contre la fraude électorale.\n",
      "2021-12-17 02:30:25,417 - INFO - joeynmt.training - Example #2\n",
      "2021-12-17 02:30:25,417 - INFO - joeynmt.training - \tSource:     However, the Brennan Centre considers this a myth, stating that electoral fraud is rarer in the United States than the number of people killed by lightning.\n",
      "2021-12-17 02:30:25,417 - INFO - joeynmt.training - \tReference:  Or, le Centre Brennan considère cette dernière comme un mythe, affirmant que la fraude électorale est plus rare aux États-Unis que le nombre de personnes tuées par la foudre.\n",
      "2021-12-17 02:30:25,417 - INFO - joeynmt.training - \tHypothesis: Toutefois, le Centre Blaha considère que ce mythe, a déclaré que la fraude électorale est dévastée dans les États-Unis que le nombre de personnes meurtrient par des blessés.\n",
      "2021-12-17 02:30:25,417 - INFO - joeynmt.training - Example #3\n",
      "2021-12-17 02:30:25,417 - INFO - joeynmt.training - \tSource:     Indeed, Republican lawyers identified only 300 cases of electoral fraud in the United States in a decade.\n",
      "2021-12-17 02:30:25,417 - INFO - joeynmt.training - \tReference:  D'ailleurs, les avocats républicains n'ont recensé que 300 cas de fraude électorale aux États-Unis en dix ans.\n",
      "2021-12-17 02:30:25,417 - INFO - joeynmt.training - \tHypothesis: En effet, la loi peut être considérée comme 300 cas de fraude électorales dans les États membres de la décennie.\n",
      "2021-12-17 02:30:25,418 - INFO - joeynmt.training - Validation result (greedy) at epoch   1, step    10000: bleu:   7.70, loss: 307066.3438, ppl:  29.3381, duration: 157.4396s\n",
      "2021-12-17 02:31:17,857 - INFO - joeynmt.training - Epoch   1, Step:    10200, Batch Loss:     2.436514, Tokens per Sec:    10121, Lr: 0.000300\n",
      "2021-12-17 02:32:09,763 - INFO - joeynmt.training - Epoch   1, Step:    10400, Batch Loss:     2.594681, Tokens per Sec:    10088, Lr: 0.000300\n",
      "2021-12-17 02:33:02,062 - INFO - joeynmt.training - Epoch   1, Step:    10600, Batch Loss:     2.171981, Tokens per Sec:    10025, Lr: 0.000300\n",
      "2021-12-17 02:33:54,233 - INFO - joeynmt.training - Epoch   1, Step:    10800, Batch Loss:     2.138621, Tokens per Sec:    10182, Lr: 0.000300\n",
      "2021-12-17 02:34:46,328 - INFO - joeynmt.training - Epoch   1, Step:    11000, Batch Loss:     2.185238, Tokens per Sec:    10035, Lr: 0.000300\n",
      "2021-12-17 02:35:38,684 - INFO - joeynmt.training - Epoch   1, Step:    11200, Batch Loss:     2.450283, Tokens per Sec:    10065, Lr: 0.000300\n",
      "2021-12-17 02:36:30,914 - INFO - joeynmt.training - Epoch   1, Step:    11400, Batch Loss:     2.584222, Tokens per Sec:    10096, Lr: 0.000300\n",
      "2021-12-17 02:37:22,995 - INFO - joeynmt.training - Epoch   1, Step:    11600, Batch Loss:     2.052935, Tokens per Sec:    10137, Lr: 0.000300\n",
      "2021-12-17 02:38:15,738 - INFO - joeynmt.training - Epoch   1, Step:    11800, Batch Loss:     2.218043, Tokens per Sec:    10152, Lr: 0.000300\n",
      "2021-12-17 02:39:07,885 - INFO - joeynmt.training - Epoch   1, Step:    12000, Batch Loss:     2.176078, Tokens per Sec:    10053, Lr: 0.000300\n",
      "2021-12-17 02:41:54,025 - INFO - joeynmt.training - Hooray! New best validation result [loss]!\n",
      "2021-12-17 02:41:54,025 - INFO - joeynmt.training - Saving new checkpoint.\n",
      "2021-12-17 02:41:56,558 - INFO - joeynmt.training - Example #0\n",
      "2021-12-17 02:41:56,623 - INFO - joeynmt.training - \tSource:     A Republican strategy to counter the re-election of Obama\n",
      "2021-12-17 02:41:56,623 - INFO - joeynmt.training - \tReference:  Une stratégie républicaine pour contrer la réélection d'Obama\n",
      "2021-12-17 02:41:56,623 - INFO - joeynmt.training - \tHypothesis: Une stratégie de recommandation peut être contraire à la réélection des élections Obama de manière à l'encontre de la réélection d'esclavage.\n",
      "2021-12-17 02:41:56,623 - INFO - joeynmt.training - Example #1\n",
      "2021-12-17 02:41:56,623 - INFO - joeynmt.training - \tSource:     Republican leaders justified their policy by the need to combat electoral fraud.\n",
      "2021-12-17 02:41:56,623 - INFO - joeynmt.training - \tReference:  Les dirigeants républicains justifièrent leur politique par la nécessité de lutter contre la fraude électorale.\n",
      "2021-12-17 02:41:56,623 - INFO - joeynmt.training - \tHypothesis: Les dirigeants peuvent être tenus de leur politique en vue de lutter contre la fraude.\n",
      "2021-12-17 02:41:56,623 - INFO - joeynmt.training - Example #2\n",
      "2021-12-17 02:41:56,623 - INFO - joeynmt.training - \tSource:     However, the Brennan Centre considers this a myth, stating that electoral fraud is rarer in the United States than the number of people killed by lightning.\n",
      "2021-12-17 02:41:56,623 - INFO - joeynmt.training - \tReference:  Or, le Centre Brennan considère cette dernière comme un mythe, affirmant que la fraude électorale est plus rare aux États-Unis que le nombre de personnes tuées par la foudre.\n",
      "2021-12-17 02:41:56,623 - INFO - joeynmt.training - \tHypothesis: Cependant, le Centre Brenna considère que cette fraude électorale est ratrice dans les États-Unis que le nombre de personnes meurtriées par des personnes meurtrières de la peine.\n",
      "2021-12-17 02:41:56,624 - INFO - joeynmt.training - Example #3\n",
      "2021-12-17 02:41:56,624 - INFO - joeynmt.training - \tSource:     Indeed, Republican lawyers identified only 300 cases of electoral fraud in the United States in a decade.\n",
      "2021-12-17 02:41:56,624 - INFO - joeynmt.training - \tReference:  D'ailleurs, les avocats républicains n'ont recensé que 300 cas de fraude électorale aux États-Unis en dix ans.\n",
      "2021-12-17 02:41:56,624 - INFO - joeynmt.training - \tHypothesis: En effet, les avocats peuvent être considérés comme 300 cas de fraude électorale dans les États-Unis à une décennie.\n",
      "2021-12-17 02:41:56,624 - INFO - joeynmt.training - Validation result (greedy) at epoch   1, step    12000: bleu:   8.87, loss: 289458.0625, ppl:  24.1704, duration: 168.7386s\n",
      "2021-12-17 02:42:49,005 - INFO - joeynmt.training - Epoch   1, Step:    12200, Batch Loss:     2.199337, Tokens per Sec:    10127, Lr: 0.000300\n",
      "2021-12-17 02:43:41,562 - INFO - joeynmt.training - Epoch   1, Step:    12400, Batch Loss:     2.144849, Tokens per Sec:    10101, Lr: 0.000300\n",
      "2021-12-17 02:44:33,895 - INFO - joeynmt.training - Epoch   1, Step:    12600, Batch Loss:     2.655013, Tokens per Sec:    10068, Lr: 0.000300\n",
      "2021-12-17 02:45:25,319 - INFO - joeynmt.training - Epoch   1, Step:    12800, Batch Loss:     2.223688, Tokens per Sec:     9889, Lr: 0.000300\n",
      "2021-12-17 02:46:17,676 - INFO - joeynmt.training - Epoch   1, Step:    13000, Batch Loss:     2.461467, Tokens per Sec:    10069, Lr: 0.000300\n",
      "2021-12-17 02:47:09,715 - INFO - joeynmt.training - Epoch   1, Step:    13200, Batch Loss:     2.287825, Tokens per Sec:    10116, Lr: 0.000300\n",
      "2021-12-17 02:48:02,051 - INFO - joeynmt.training - Epoch   1, Step:    13400, Batch Loss:     2.473573, Tokens per Sec:    10128, Lr: 0.000300\n",
      "2021-12-17 02:48:54,665 - INFO - joeynmt.training - Epoch   1, Step:    13600, Batch Loss:     2.233856, Tokens per Sec:    10090, Lr: 0.000300\n",
      "2021-12-17 02:49:46,891 - INFO - joeynmt.training - Epoch   1, Step:    13800, Batch Loss:     2.355943, Tokens per Sec:    10060, Lr: 0.000300\n",
      "2021-12-17 02:50:39,322 - INFO - joeynmt.training - Epoch   1, Step:    14000, Batch Loss:     2.306413, Tokens per Sec:    10106, Lr: 0.000300\n",
      "2021-12-17 02:53:08,855 - INFO - joeynmt.training - Hooray! New best validation result [loss]!\n",
      "2021-12-17 02:53:08,855 - INFO - joeynmt.training - Saving new checkpoint.\n",
      "2021-12-17 02:53:11,443 - INFO - joeynmt.training - Example #0\n",
      "2021-12-17 02:53:11,444 - INFO - joeynmt.training - \tSource:     A Republican strategy to counter the re-election of Obama\n",
      "2021-12-17 02:53:11,444 - INFO - joeynmt.training - \tReference:  Une stratégie républicaine pour contrer la réélection d'Obama\n",
      "2021-12-17 02:53:11,444 - INFO - joeynmt.training - \tHypothesis: Une stratégie de justice peut lutter contre la réélection de l'Observatoire\n",
      "2021-12-17 02:53:11,445 - INFO - joeynmt.training - Example #1\n",
      "2021-12-17 02:53:11,445 - INFO - joeynmt.training - \tSource:     Republican leaders justified their policy by the need to combat electoral fraud.\n",
      "2021-12-17 02:53:11,445 - INFO - joeynmt.training - \tReference:  Les dirigeants républicains justifièrent leur politique par la nécessité de lutter contre la fraude électorale.\n",
      "2021-12-17 02:53:11,445 - INFO - joeynmt.training - \tHypothesis: Les dirigeants publiés peuvent justifier leur politique de lutte contre la fraude électorale.\n",
      "2021-12-17 02:53:11,445 - INFO - joeynmt.training - Example #2\n",
      "2021-12-17 02:53:11,445 - INFO - joeynmt.training - \tSource:     However, the Brennan Centre considers this a myth, stating that electoral fraud is rarer in the United States than the number of people killed by lightning.\n",
      "2021-12-17 02:53:11,445 - INFO - joeynmt.training - \tReference:  Or, le Centre Brennan considère cette dernière comme un mythe, affirmant que la fraude électorale est plus rare aux États-Unis que le nombre de personnes tuées par la foudre.\n",
      "2021-12-17 02:53:11,445 - INFO - joeynmt.training - \tHypothesis: Cependant, le Centre de Brenna considère ce mystème point, en affirmant que la fraude électorale est dépassée aux États-Unis que le nombre de personnes meurent par le départ.\n",
      "2021-12-17 02:53:11,445 - INFO - joeynmt.training - Example #3\n",
      "2021-12-17 02:53:11,445 - INFO - joeynmt.training - \tSource:     Indeed, Republican lawyers identified only 300 cases of electoral fraud in the United States in a decade.\n",
      "2021-12-17 02:53:11,445 - INFO - joeynmt.training - \tReference:  D'ailleurs, les avocats républicains n'ont recensé que 300 cas de fraude électorale aux États-Unis en dix ans.\n",
      "2021-12-17 02:53:11,445 - INFO - joeynmt.training - \tHypothesis: En effet, les avocats peuvent être identifiés que 300 cas de fraude électorale aux États-Unis dans une décennie.\n",
      "2021-12-17 02:53:11,446 - INFO - joeynmt.training - Validation result (greedy) at epoch   1, step    14000: bleu:  10.73, loss: 275920.0938, ppl:  20.8251, duration: 152.1233s\n",
      "2021-12-17 02:54:03,522 - INFO - joeynmt.training - Epoch   1, Step:    14200, Batch Loss:     2.136518, Tokens per Sec:    10047, Lr: 0.000300\n",
      "2021-12-17 02:54:55,803 - INFO - joeynmt.training - Epoch   1, Step:    14400, Batch Loss:     1.944606, Tokens per Sec:    10147, Lr: 0.000300\n",
      "2021-12-17 02:55:48,268 - INFO - joeynmt.training - Epoch   1, Step:    14600, Batch Loss:     1.967453, Tokens per Sec:    10041, Lr: 0.000300\n",
      "2021-12-17 02:56:40,922 - INFO - joeynmt.training - Epoch   1, Step:    14800, Batch Loss:     2.102155, Tokens per Sec:    10131, Lr: 0.000300\n",
      "2021-12-17 02:57:33,409 - INFO - joeynmt.training - Epoch   1, Step:    15000, Batch Loss:     2.062800, Tokens per Sec:    10041, Lr: 0.000300\n",
      "2021-12-17 02:58:25,816 - INFO - joeynmt.training - Epoch   1, Step:    15200, Batch Loss:     2.118516, Tokens per Sec:     9995, Lr: 0.000300\n",
      "2021-12-17 02:59:18,547 - INFO - joeynmt.training - Epoch   1, Step:    15400, Batch Loss:     2.067861, Tokens per Sec:    10080, Lr: 0.000300\n",
      "2021-12-17 03:00:10,599 - INFO - joeynmt.training - Epoch   1, Step:    15600, Batch Loss:     1.899049, Tokens per Sec:    10015, Lr: 0.000300\n",
      "2021-12-17 03:01:03,062 - INFO - joeynmt.training - Epoch   1, Step:    15800, Batch Loss:     1.983389, Tokens per Sec:    10135, Lr: 0.000300\n",
      "2021-12-17 03:01:55,360 - INFO - joeynmt.training - Epoch   1, Step:    16000, Batch Loss:     2.057568, Tokens per Sec:    10060, Lr: 0.000300\n",
      "2021-12-17 03:04:29,771 - INFO - joeynmt.training - Hooray! New best validation result [loss]!\n",
      "2021-12-17 03:04:29,771 - INFO - joeynmt.training - Saving new checkpoint.\n",
      "2021-12-17 03:04:32,370 - INFO - joeynmt.training - Example #0\n",
      "2021-12-17 03:04:32,373 - INFO - joeynmt.training - \tSource:     A Republican strategy to counter the re-election of Obama\n",
      "2021-12-17 03:04:32,373 - INFO - joeynmt.training - \tReference:  Une stratégie républicaine pour contrer la réélection d'Obama\n",
      "2021-12-17 03:04:32,373 - INFO - joeynmt.training - \tHypothesis: Une stratégie de justice peut lutter contre la réélection de l'Occident Obama\n",
      "2021-12-17 03:04:32,373 - INFO - joeynmt.training - Example #1\n",
      "2021-12-17 03:04:32,373 - INFO - joeynmt.training - \tSource:     Republican leaders justified their policy by the need to combat electoral fraud.\n",
      "2021-12-17 03:04:32,373 - INFO - joeynmt.training - \tReference:  Les dirigeants républicains justifièrent leur politique par la nécessité de lutter contre la fraude électorale.\n",
      "2021-12-17 03:04:32,373 - INFO - joeynmt.training - \tHypothesis: Les dirigeants publiquement peuvent justifier leur politique en faveur de la lutte contre la fraude.\n",
      "2021-12-17 03:04:32,373 - INFO - joeynmt.training - Example #2\n",
      "2021-12-17 03:04:32,374 - INFO - joeynmt.training - \tSource:     However, the Brennan Centre considers this a myth, stating that electoral fraud is rarer in the United States than the number of people killed by lightning.\n",
      "2021-12-17 03:04:32,374 - INFO - joeynmt.training - \tReference:  Or, le Centre Brennan considère cette dernière comme un mythe, affirmant que la fraude électorale est plus rare aux États-Unis que le nombre de personnes tuées par la foudre.\n",
      "2021-12-17 03:04:32,374 - INFO - joeynmt.training - \tHypothesis: Toutefois, le Centre de Brennan considère que cette mythe, en disant que la fraude électorale est rarement en vigueur aux États-Unis que le nombre de personnes tuées par la modération de la population.\n",
      "2021-12-17 03:04:32,374 - INFO - joeynmt.training - Example #3\n",
      "2021-12-17 03:04:32,374 - INFO - joeynmt.training - \tSource:     Indeed, Republican lawyers identified only 300 cases of electoral fraud in the United States in a decade.\n",
      "2021-12-17 03:04:32,374 - INFO - joeynmt.training - \tReference:  D'ailleurs, les avocats républicains n'ont recensé que 300 cas de fraude électorale aux États-Unis en dix ans.\n",
      "2021-12-17 03:04:32,374 - INFO - joeynmt.training - \tHypothesis: En effet, les avocats peuvent identifier, en effet, 300 cas de fraude électorale dans les États-Unis à une décennie.\n",
      "2021-12-17 03:04:32,374 - INFO - joeynmt.training - Validation result (greedy) at epoch   1, step    16000: bleu:  11.07, loss: 266877.0938, ppl:  18.8526, duration: 157.0135s\n",
      "2021-12-17 03:05:24,851 - INFO - joeynmt.training - Epoch   1, Step:    16200, Batch Loss:     1.880532, Tokens per Sec:    10100, Lr: 0.000300\n",
      "2021-12-17 03:06:16,974 - INFO - joeynmt.training - Epoch   1, Step:    16400, Batch Loss:     2.030958, Tokens per Sec:    10107, Lr: 0.000300\n",
      "2021-12-17 03:07:09,668 - INFO - joeynmt.training - Epoch   1, Step:    16600, Batch Loss:     2.213939, Tokens per Sec:    10163, Lr: 0.000300\n",
      "2021-12-17 03:08:01,838 - INFO - joeynmt.training - Epoch   1, Step:    16800, Batch Loss:     2.059775, Tokens per Sec:    10073, Lr: 0.000300\n",
      "2021-12-17 03:08:54,445 - INFO - joeynmt.training - Epoch   1, Step:    17000, Batch Loss:     2.112780, Tokens per Sec:    10184, Lr: 0.000300\n",
      "2021-12-17 03:09:46,813 - INFO - joeynmt.training - Epoch   1, Step:    17200, Batch Loss:     2.099665, Tokens per Sec:    10140, Lr: 0.000300\n",
      "2021-12-17 03:10:39,176 - INFO - joeynmt.training - Epoch   1, Step:    17400, Batch Loss:     2.019760, Tokens per Sec:    10128, Lr: 0.000300\n",
      "2021-12-17 03:11:31,444 - INFO - joeynmt.training - Epoch   1, Step:    17600, Batch Loss:     2.322440, Tokens per Sec:     9988, Lr: 0.000300\n",
      "2021-12-17 03:12:23,856 - INFO - joeynmt.training - Epoch   1, Step:    17800, Batch Loss:     1.964011, Tokens per Sec:    10180, Lr: 0.000300\n",
      "2021-12-17 03:13:15,921 - INFO - joeynmt.training - Epoch   1, Step:    18000, Batch Loss:     2.163337, Tokens per Sec:    10158, Lr: 0.000300\n",
      "2021-12-17 03:15:41,334 - INFO - joeynmt.training - Hooray! New best validation result [loss]!\n",
      "2021-12-17 03:15:41,334 - INFO - joeynmt.training - Saving new checkpoint.\n",
      "2021-12-17 03:15:44,002 - INFO - joeynmt.training - Example #0\n",
      "2021-12-17 03:15:44,008 - INFO - joeynmt.training - \tSource:     A Republican strategy to counter the re-election of Obama\n",
      "2021-12-17 03:15:44,008 - INFO - joeynmt.training - \tReference:  Une stratégie républicaine pour contrer la réélection d'Obama\n",
      "2021-12-17 03:15:44,008 - INFO - joeynmt.training - \tHypothesis: Une stratégie de publicité peut contrer la réélection de l'Obama, qui est en cours.\n",
      "2021-12-17 03:15:44,008 - INFO - joeynmt.training - Example #1\n",
      "2021-12-17 03:15:44,008 - INFO - joeynmt.training - \tSource:     Republican leaders justified their policy by the need to combat electoral fraud.\n",
      "2021-12-17 03:15:44,008 - INFO - joeynmt.training - \tReference:  Les dirigeants républicains justifièrent leur politique par la nécessité de lutter contre la fraude électorale.\n",
      "2021-12-17 03:15:44,008 - INFO - joeynmt.training - \tHypothesis: Les dirigeants peuvent se justifier de leur politique en raison de la nécessité de lutter contre la fraude électorale.\n",
      "2021-12-17 03:15:44,008 - INFO - joeynmt.training - Example #2\n",
      "2021-12-17 03:15:44,008 - INFO - joeynmt.training - \tSource:     However, the Brennan Centre considers this a myth, stating that electoral fraud is rarer in the United States than the number of people killed by lightning.\n",
      "2021-12-17 03:15:44,008 - INFO - joeynmt.training - \tReference:  Or, le Centre Brennan considère cette dernière comme un mythe, affirmant que la fraude électorale est plus rare aux États-Unis que le nombre de personnes tuées par la foudre.\n",
      "2021-12-17 03:15:44,008 - INFO - joeynmt.training - \tHypothesis: Cependant, le Centre de Brenna estime que cette fraude électorale est rarement dépassée aux États-Unis que le nombre de personnes tuées par la légère.\n",
      "2021-12-17 03:15:44,009 - INFO - joeynmt.training - Example #3\n",
      "2021-12-17 03:15:44,009 - INFO - joeynmt.training - \tSource:     Indeed, Republican lawyers identified only 300 cases of electoral fraud in the United States in a decade.\n",
      "2021-12-17 03:15:44,009 - INFO - joeynmt.training - \tReference:  D'ailleurs, les avocats républicains n'ont recensé que 300 cas de fraude électorale aux États-Unis en dix ans.\n",
      "2021-12-17 03:15:44,009 - INFO - joeynmt.training - \tHypothesis: En effet, les avocats ne peuvent être identifiés que 300 cas de fraude électorale aux États-Unis dans une décennie.\n",
      "2021-12-17 03:15:44,009 - INFO - joeynmt.training - Validation result (greedy) at epoch   1, step    18000: bleu:  12.28, loss: 257608.5469, ppl:  17.0247, duration: 148.0878s\n",
      "2021-12-17 03:16:36,430 - INFO - joeynmt.training - Epoch   1, Step:    18200, Batch Loss:     2.338060, Tokens per Sec:    10066, Lr: 0.000300\n",
      "2021-12-17 03:17:29,037 - INFO - joeynmt.training - Epoch   1, Step:    18400, Batch Loss:     1.517768, Tokens per Sec:    10182, Lr: 0.000300\n",
      "2021-12-17 03:18:20,751 - INFO - joeynmt.training - Epoch   1, Step:    18600, Batch Loss:     1.540321, Tokens per Sec:     9966, Lr: 0.000300\n",
      "2021-12-17 03:19:13,316 - INFO - joeynmt.training - Epoch   1, Step:    18800, Batch Loss:     2.132097, Tokens per Sec:    10294, Lr: 0.000300\n",
      "2021-12-17 03:20:05,028 - INFO - joeynmt.training - Epoch   1, Step:    19000, Batch Loss:     1.944139, Tokens per Sec:     9979, Lr: 0.000300\n",
      "2021-12-17 03:20:57,418 - INFO - joeynmt.training - Epoch   1, Step:    19200, Batch Loss:     1.891436, Tokens per Sec:    10037, Lr: 0.000300\n",
      "2021-12-17 03:21:50,154 - INFO - joeynmt.training - Epoch   1, Step:    19400, Batch Loss:     2.033001, Tokens per Sec:    10162, Lr: 0.000300\n",
      "2021-12-17 03:22:42,753 - INFO - joeynmt.training - Epoch   1, Step:    19600, Batch Loss:     1.899194, Tokens per Sec:    10112, Lr: 0.000300\n",
      "2021-12-17 03:23:34,860 - INFO - joeynmt.training - Epoch   1, Step:    19800, Batch Loss:     2.332963, Tokens per Sec:    10041, Lr: 0.000300\n",
      "2021-12-17 03:24:26,872 - INFO - joeynmt.training - Epoch   1, Step:    20000, Batch Loss:     1.964281, Tokens per Sec:    10022, Lr: 0.000300\n",
      "2021-12-17 03:27:03,770 - INFO - joeynmt.training - Hooray! New best validation result [loss]!\n",
      "2021-12-17 03:27:03,770 - INFO - joeynmt.training - Saving new checkpoint.\n",
      "2021-12-17 03:27:06,357 - INFO - joeynmt.training - Example #0\n",
      "2021-12-17 03:27:06,361 - INFO - joeynmt.training - \tSource:     A Republican strategy to counter the re-election of Obama\n",
      "2021-12-17 03:27:06,361 - INFO - joeynmt.training - \tReference:  Une stratégie républicaine pour contrer la réélection d'Obama\n",
      "2021-12-17 03:27:06,361 - INFO - joeynmt.training - \tHypothesis: Une stratégie de républication, peut faire face à la réélection de Obama.\n",
      "2021-12-17 03:27:06,361 - INFO - joeynmt.training - Example #1\n",
      "2021-12-17 03:27:06,361 - INFO - joeynmt.training - \tSource:     Republican leaders justified their policy by the need to combat electoral fraud.\n",
      "2021-12-17 03:27:06,361 - INFO - joeynmt.training - \tReference:  Les dirigeants républicains justifièrent leur politique par la nécessité de lutter contre la fraude électorale.\n",
      "2021-12-17 03:27:06,361 - INFO - joeynmt.training - \tHypothesis: Les dirigeants peuvent justifier leur politique en raison de la nécessité de lutter contre la fraude électorale.\n",
      "2021-12-17 03:27:06,361 - INFO - joeynmt.training - Example #2\n",
      "2021-12-17 03:27:06,361 - INFO - joeynmt.training - \tSource:     However, the Brennan Centre considers this a myth, stating that electoral fraud is rarer in the United States than the number of people killed by lightning.\n",
      "2021-12-17 03:27:06,361 - INFO - joeynmt.training - \tReference:  Or, le Centre Brennan considère cette dernière comme un mythe, affirmant que la fraude électorale est plus rare aux États-Unis que le nombre de personnes tuées par la foudre.\n",
      "2021-12-17 03:27:06,362 - INFO - joeynmt.training - \tHypothesis: Toutefois, le Centre de Brennan considère ce mythe, affirmant que la fraude électorale est rarement réduite aux États-Unis que le nombre de personnes tuées par la légère.\n",
      "2021-12-17 03:27:06,362 - INFO - joeynmt.training - Example #3\n",
      "2021-12-17 03:27:06,362 - INFO - joeynmt.training - \tSource:     Indeed, Republican lawyers identified only 300 cases of electoral fraud in the United States in a decade.\n",
      "2021-12-17 03:27:06,362 - INFO - joeynmt.training - \tReference:  D'ailleurs, les avocats républicains n'ont recensé que 300 cas de fraude électorale aux États-Unis en dix ans.\n",
      "2021-12-17 03:27:06,362 - INFO - joeynmt.training - \tHypothesis: En effet, les avocats ne peuvent être identifiés que 300 cas de fraude électorale aux États-Unis en dix ans.\n",
      "2021-12-17 03:27:06,362 - INFO - joeynmt.training - Validation result (greedy) at epoch   1, step    20000: bleu:  12.69, loss: 250204.3438, ppl:  15.6926, duration: 159.4895s\n",
      "2021-12-17 03:27:58,644 - INFO - joeynmt.training - Epoch   1, Step:    20200, Batch Loss:     2.123407, Tokens per Sec:    10123, Lr: 0.000300\n",
      "2021-12-17 03:28:50,790 - INFO - joeynmt.training - Epoch   1, Step:    20400, Batch Loss:     1.691571, Tokens per Sec:    10103, Lr: 0.000300\n",
      "2021-12-17 03:29:43,400 - INFO - joeynmt.training - Epoch   1, Step:    20600, Batch Loss:     1.813606, Tokens per Sec:    10194, Lr: 0.000300\n",
      "2021-12-17 03:30:36,130 - INFO - joeynmt.training - Epoch   1, Step:    20800, Batch Loss:     1.920558, Tokens per Sec:    10113, Lr: 0.000300\n",
      "2021-12-17 03:31:28,613 - INFO - joeynmt.training - Epoch   1, Step:    21000, Batch Loss:     2.062107, Tokens per Sec:    10176, Lr: 0.000300\n",
      "2021-12-17 03:32:20,910 - INFO - joeynmt.training - Epoch   1, Step:    21200, Batch Loss:     1.927331, Tokens per Sec:    10161, Lr: 0.000300\n",
      "2021-12-17 03:33:13,194 - INFO - joeynmt.training - Epoch   1, Step:    21400, Batch Loss:     2.068415, Tokens per Sec:    10087, Lr: 0.000300\n",
      "2021-12-17 03:34:05,676 - INFO - joeynmt.training - Epoch   1, Step:    21600, Batch Loss:     1.896717, Tokens per Sec:    10125, Lr: 0.000300\n",
      "2021-12-17 03:34:58,021 - INFO - joeynmt.training - Epoch   1, Step:    21800, Batch Loss:     1.859135, Tokens per Sec:    10129, Lr: 0.000300\n",
      "2021-12-17 03:35:50,628 - INFO - joeynmt.training - Epoch   1, Step:    22000, Batch Loss:     1.501474, Tokens per Sec:    10203, Lr: 0.000300\n",
      "2021-12-17 03:38:15,154 - INFO - joeynmt.training - Hooray! New best validation result [loss]!\n",
      "2021-12-17 03:38:15,155 - INFO - joeynmt.training - Saving new checkpoint.\n",
      "2021-12-17 03:38:17,756 - INFO - joeynmt.training - Example #0\n",
      "2021-12-17 03:38:17,757 - INFO - joeynmt.training - \tSource:     A Republican strategy to counter the re-election of Obama\n",
      "2021-12-17 03:38:17,757 - INFO - joeynmt.training - \tReference:  Une stratégie républicaine pour contrer la réélection d'Obama\n",
      "2021-12-17 03:38:17,757 - INFO - joeynmt.training - \tHypothesis: Une stratégie de républication, qui peut s'opposer à la réélection de l'Obama\n",
      "2021-12-17 03:38:17,757 - INFO - joeynmt.training - Example #1\n",
      "2021-12-17 03:38:17,757 - INFO - joeynmt.training - \tSource:     Republican leaders justified their policy by the need to combat electoral fraud.\n",
      "2021-12-17 03:38:17,757 - INFO - joeynmt.training - \tReference:  Les dirigeants républicains justifièrent leur politique par la nécessité de lutter contre la fraude électorale.\n",
      "2021-12-17 03:38:17,757 - INFO - joeynmt.training - \tHypothesis: Les dirigeants publiés peuvent justifier leur politique en raison de la nécessité de lutter contre la fraude électorale.\n",
      "2021-12-17 03:38:17,757 - INFO - joeynmt.training - Example #2\n",
      "2021-12-17 03:38:17,757 - INFO - joeynmt.training - \tSource:     However, the Brennan Centre considers this a myth, stating that electoral fraud is rarer in the United States than the number of people killed by lightning.\n",
      "2021-12-17 03:38:17,757 - INFO - joeynmt.training - \tReference:  Or, le Centre Brennan considère cette dernière comme un mythe, affirmant que la fraude électorale est plus rare aux États-Unis que le nombre de personnes tuées par la foudre.\n",
      "2021-12-17 03:38:17,758 - INFO - joeynmt.training - \tHypothesis: Toutefois, le Centre Brennan considère que cette mythème mythe, affirmant que la fraude électorale est rarement rabée aux États-Unis que le nombre de personnes meurent par la légère.\n",
      "2021-12-17 03:38:17,758 - INFO - joeynmt.training - Example #3\n",
      "2021-12-17 03:38:17,758 - INFO - joeynmt.training - \tSource:     Indeed, Republican lawyers identified only 300 cases of electoral fraud in the United States in a decade.\n",
      "2021-12-17 03:38:17,758 - INFO - joeynmt.training - \tReference:  D'ailleurs, les avocats républicains n'ont recensé que 300 cas de fraude électorale aux États-Unis en dix ans.\n",
      "2021-12-17 03:38:17,758 - INFO - joeynmt.training - \tHypothesis: En effet, les avocats ne peuvent être identifiés que 300 cas de fraude électorale aux États-Unis en dix ans.\n",
      "2021-12-17 03:38:17,758 - INFO - joeynmt.training - Validation result (greedy) at epoch   1, step    22000: bleu:  13.58, loss: 242502.7031, ppl:  14.4175, duration: 147.1293s\n",
      "2021-12-17 03:39:10,218 - INFO - joeynmt.training - Epoch   1, Step:    22200, Batch Loss:     1.805264, Tokens per Sec:    10051, Lr: 0.000300\n",
      "2021-12-17 03:40:02,759 - INFO - joeynmt.training - Epoch   1, Step:    22400, Batch Loss:     1.906972, Tokens per Sec:    10124, Lr: 0.000300\n",
      "2021-12-17 03:40:55,145 - INFO - joeynmt.training - Epoch   1, Step:    22600, Batch Loss:     1.747411, Tokens per Sec:    10177, Lr: 0.000300\n",
      "2021-12-17 03:41:47,731 - INFO - joeynmt.training - Epoch   1, Step:    22800, Batch Loss:     1.814126, Tokens per Sec:    10104, Lr: 0.000300\n",
      "2021-12-17 03:42:39,803 - INFO - joeynmt.training - Epoch   1, Step:    23000, Batch Loss:     1.917326, Tokens per Sec:    10029, Lr: 0.000300\n",
      "2021-12-17 03:43:31,938 - INFO - joeynmt.training - Epoch   1, Step:    23200, Batch Loss:     1.803452, Tokens per Sec:    10134, Lr: 0.000300\n",
      "2021-12-17 03:44:24,308 - INFO - joeynmt.training - Epoch   1, Step:    23400, Batch Loss:     1.929341, Tokens per Sec:    10051, Lr: 0.000300\n",
      "2021-12-17 03:44:39,343 - INFO - joeynmt.training - Epoch   1: total training loss 63127.00\n",
      "2021-12-17 03:44:39,343 - INFO - joeynmt.training - EPOCH 2\n",
      "2021-12-17 03:45:20,398 - INFO - joeynmt.training - Epoch   2, Step:    23600, Batch Loss:     2.107218, Tokens per Sec:     9300, Lr: 0.000300\n",
      "2021-12-17 03:46:12,741 - INFO - joeynmt.training - Epoch   2, Step:    23800, Batch Loss:     1.779047, Tokens per Sec:    10100, Lr: 0.000300\n",
      "2021-12-17 03:47:04,787 - INFO - joeynmt.training - Epoch   2, Step:    24000, Batch Loss:     2.015375, Tokens per Sec:    10084, Lr: 0.000300\n",
      "2021-12-17 03:49:34,024 - INFO - joeynmt.training - Hooray! New best validation result [loss]!\n",
      "2021-12-17 03:49:34,024 - INFO - joeynmt.training - Saving new checkpoint.\n",
      "2021-12-17 03:49:36,623 - INFO - joeynmt.training - Example #0\n",
      "2021-12-17 03:49:36,624 - INFO - joeynmt.training - \tSource:     A Republican strategy to counter the re-election of Obama\n",
      "2021-12-17 03:49:36,624 - INFO - joeynmt.training - \tReference:  Une stratégie républicaine pour contrer la réélection d'Obama\n",
      "2021-12-17 03:49:36,624 - INFO - joeynmt.training - \tHypothesis: Une stratégie de républication, peut contrer la réélection de Obama à l'heure.\n",
      "2021-12-17 03:49:36,624 - INFO - joeynmt.training - Example #1\n",
      "2021-12-17 03:49:36,624 - INFO - joeynmt.training - \tSource:     Republican leaders justified their policy by the need to combat electoral fraud.\n",
      "2021-12-17 03:49:36,624 - INFO - joeynmt.training - \tReference:  Les dirigeants républicains justifièrent leur politique par la nécessité de lutter contre la fraude électorale.\n",
      "2021-12-17 03:49:36,625 - INFO - joeynmt.training - \tHypothesis: Les dirigeants peuvent justifier leur politique en raison de la nécessité de lutter contre la fraude électorale.\n",
      "2021-12-17 03:49:36,625 - INFO - joeynmt.training - Example #2\n",
      "2021-12-17 03:49:36,625 - INFO - joeynmt.training - \tSource:     However, the Brennan Centre considers this a myth, stating that electoral fraud is rarer in the United States than the number of people killed by lightning.\n",
      "2021-12-17 03:49:36,625 - INFO - joeynmt.training - \tReference:  Or, le Centre Brennan considère cette dernière comme un mythe, affirmant que la fraude électorale est plus rare aux États-Unis que le nombre de personnes tuées par la foudre.\n",
      "2021-12-17 03:49:36,625 - INFO - joeynmt.training - \tHypothesis: Toutefois, le Centre Brennan estime que cette mythe, affirmant que la fraude électorale est rarement aux États-Unis que le nombre de personnes tuées par la légère.\n",
      "2021-12-17 03:49:36,625 - INFO - joeynmt.training - Example #3\n",
      "2021-12-17 03:49:36,625 - INFO - joeynmt.training - \tSource:     Indeed, Republican lawyers identified only 300 cases of electoral fraud in the United States in a decade.\n",
      "2021-12-17 03:49:36,625 - INFO - joeynmt.training - \tReference:  D'ailleurs, les avocats républicains n'ont recensé que 300 cas de fraude électorale aux États-Unis en dix ans.\n",
      "2021-12-17 03:49:36,625 - INFO - joeynmt.training - \tHypothesis: En effet, les avocats peuvent identifier seuls 300 cas de fraude électorale aux États-Unis en dix ans.\n",
      "2021-12-17 03:49:36,625 - INFO - joeynmt.training - Validation result (greedy) at epoch   2, step    24000: bleu:  14.19, loss: 238502.3125, ppl:  13.7966, duration: 151.8380s\n",
      "2021-12-17 03:50:29,070 - INFO - joeynmt.training - Epoch   2, Step:    24200, Batch Loss:     1.649968, Tokens per Sec:    10233, Lr: 0.000300\n",
      "2021-12-17 03:51:21,232 - INFO - joeynmt.training - Epoch   2, Step:    24400, Batch Loss:     2.009063, Tokens per Sec:    10125, Lr: 0.000300\n",
      "2021-12-17 03:52:13,541 - INFO - joeynmt.training - Epoch   2, Step:    24600, Batch Loss:     1.754932, Tokens per Sec:    10105, Lr: 0.000300\n",
      "2021-12-17 03:53:05,822 - INFO - joeynmt.training - Epoch   2, Step:    24800, Batch Loss:     1.563309, Tokens per Sec:    10159, Lr: 0.000300\n",
      "2021-12-17 03:53:58,223 - INFO - joeynmt.training - Epoch   2, Step:    25000, Batch Loss:     2.028253, Tokens per Sec:    10031, Lr: 0.000300\n",
      "2021-12-17 03:54:50,462 - INFO - joeynmt.training - Epoch   2, Step:    25200, Batch Loss:     1.727189, Tokens per Sec:    10079, Lr: 0.000300\n",
      "2021-12-17 03:55:42,868 - INFO - joeynmt.training - Epoch   2, Step:    25400, Batch Loss:     1.890347, Tokens per Sec:    10197, Lr: 0.000300\n",
      "2021-12-17 03:56:34,873 - INFO - joeynmt.training - Epoch   2, Step:    25600, Batch Loss:     1.983767, Tokens per Sec:    10193, Lr: 0.000300\n",
      "2021-12-17 03:57:26,936 - INFO - joeynmt.training - Epoch   2, Step:    25800, Batch Loss:     1.864825, Tokens per Sec:     9936, Lr: 0.000300\n",
      "2021-12-17 03:58:19,227 - INFO - joeynmt.training - Epoch   2, Step:    26000, Batch Loss:     1.586624, Tokens per Sec:    10093, Lr: 0.000300\n",
      "2021-12-17 04:00:43,257 - INFO - joeynmt.training - Hooray! New best validation result [loss]!\n",
      "2021-12-17 04:00:43,258 - INFO - joeynmt.training - Saving new checkpoint.\n",
      "2021-12-17 04:00:45,854 - INFO - joeynmt.training - Example #0\n",
      "2021-12-17 04:00:45,855 - INFO - joeynmt.training - \tSource:     A Republican strategy to counter the re-election of Obama\n",
      "2021-12-17 04:00:45,855 - INFO - joeynmt.training - \tReference:  Une stratégie républicaine pour contrer la réélection d'Obama\n",
      "2021-12-17 04:00:45,855 - INFO - joeynmt.training - \tHypothesis: Une stratégie de républication, qui peut contredire la réélection de Obama\n",
      "2021-12-17 04:00:45,856 - INFO - joeynmt.training - Example #1\n",
      "2021-12-17 04:00:45,856 - INFO - joeynmt.training - \tSource:     Republican leaders justified their policy by the need to combat electoral fraud.\n",
      "2021-12-17 04:00:45,856 - INFO - joeynmt.training - \tReference:  Les dirigeants républicains justifièrent leur politique par la nécessité de lutter contre la fraude électorale.\n",
      "2021-12-17 04:00:45,856 - INFO - joeynmt.training - \tHypothesis: Les dirigeants publics peuvent justifier leur politique par la nécessité de lutter contre la fraude électorale.\n",
      "2021-12-17 04:00:45,856 - INFO - joeynmt.training - Example #2\n",
      "2021-12-17 04:00:45,856 - INFO - joeynmt.training - \tSource:     However, the Brennan Centre considers this a myth, stating that electoral fraud is rarer in the United States than the number of people killed by lightning.\n",
      "2021-12-17 04:00:45,856 - INFO - joeynmt.training - \tReference:  Or, le Centre Brennan considère cette dernière comme un mythe, affirmant que la fraude électorale est plus rare aux États-Unis que le nombre de personnes tuées par la foudre.\n",
      "2021-12-17 04:00:45,856 - INFO - joeynmt.training - \tHypothesis: Cependant, le Centre Brennan considère ce mythe, affirmant que la fraude électorale est rarement en vigueur aux États-Unis que le nombre de personnes tuées par la légère.\n",
      "2021-12-17 04:00:45,856 - INFO - joeynmt.training - Example #3\n",
      "2021-12-17 04:00:45,856 - INFO - joeynmt.training - \tSource:     Indeed, Republican lawyers identified only 300 cases of electoral fraud in the United States in a decade.\n",
      "2021-12-17 04:00:45,856 - INFO - joeynmt.training - \tReference:  D'ailleurs, les avocats républicains n'ont recensé que 300 cas de fraude électorale aux États-Unis en dix ans.\n",
      "2021-12-17 04:00:45,857 - INFO - joeynmt.training - \tHypothesis: En effet, les avocats de républications ne peuvent être identifiés que 300 cas de fraude électorale aux États-Unis dans une décennie.\n",
      "2021-12-17 04:00:45,857 - INFO - joeynmt.training - Validation result (greedy) at epoch   2, step    26000: bleu:  14.25, loss: 235750.7031, ppl:  13.3851, duration: 146.6296s\n",
      "2021-12-17 04:01:37,781 - INFO - joeynmt.training - Epoch   2, Step:    26200, Batch Loss:     1.799049, Tokens per Sec:    10073, Lr: 0.000300\n",
      "2021-12-17 04:02:30,221 - INFO - joeynmt.training - Epoch   2, Step:    26400, Batch Loss:     1.918542, Tokens per Sec:    10140, Lr: 0.000300\n",
      "2021-12-17 04:03:22,334 - INFO - joeynmt.training - Epoch   2, Step:    26600, Batch Loss:     1.856357, Tokens per Sec:    10087, Lr: 0.000300\n",
      "2021-12-17 04:04:14,341 - INFO - joeynmt.training - Epoch   2, Step:    26800, Batch Loss:     1.546842, Tokens per Sec:    10005, Lr: 0.000300\n",
      "2021-12-17 04:05:06,817 - INFO - joeynmt.training - Epoch   2, Step:    27000, Batch Loss:     1.796461, Tokens per Sec:    10138, Lr: 0.000300\n",
      "2021-12-17 04:05:59,445 - INFO - joeynmt.training - Epoch   2, Step:    27200, Batch Loss:     1.721357, Tokens per Sec:    10188, Lr: 0.000300\n",
      "2021-12-17 04:06:52,217 - INFO - joeynmt.training - Epoch   2, Step:    27400, Batch Loss:     1.954992, Tokens per Sec:    10185, Lr: 0.000300\n",
      "2021-12-17 04:07:44,037 - INFO - joeynmt.training - Epoch   2, Step:    27600, Batch Loss:     1.629062, Tokens per Sec:     9999, Lr: 0.000300\n",
      "2021-12-17 04:08:36,389 - INFO - joeynmt.training - Epoch   2, Step:    27800, Batch Loss:     1.645953, Tokens per Sec:    10126, Lr: 0.000300\n",
      "2021-12-17 04:09:28,557 - INFO - joeynmt.training - Epoch   2, Step:    28000, Batch Loss:     2.047934, Tokens per Sec:    10093, Lr: 0.000300\n",
      "2021-12-17 04:11:54,797 - INFO - joeynmt.training - Hooray! New best validation result [loss]!\n",
      "2021-12-17 04:11:54,797 - INFO - joeynmt.training - Saving new checkpoint.\n",
      "2021-12-17 04:11:57,400 - INFO - joeynmt.training - Example #0\n",
      "2021-12-17 04:11:57,409 - INFO - joeynmt.training - \tSource:     A Republican strategy to counter the re-election of Obama\n",
      "2021-12-17 04:11:57,409 - INFO - joeynmt.training - \tReference:  Une stratégie républicaine pour contrer la réélection d'Obama\n",
      "2021-12-17 04:11:57,409 - INFO - joeynmt.training - \tHypothesis: Une stratégie de Republie peut être de contrer la réélection de Obama à la réélection de la bande de la tuberculose\n",
      "2021-12-17 04:11:57,409 - INFO - joeynmt.training - Example #1\n",
      "2021-12-17 04:11:57,409 - INFO - joeynmt.training - \tSource:     Republican leaders justified their policy by the need to combat electoral fraud.\n",
      "2021-12-17 04:11:57,410 - INFO - joeynmt.training - \tReference:  Les dirigeants républicains justifièrent leur politique par la nécessité de lutter contre la fraude électorale.\n",
      "2021-12-17 04:11:57,410 - INFO - joeynmt.training - \tHypothesis: Les dirigeants peuvent justifier leur politique en raison de la nécessité de lutter contre la fraude électorale.\n",
      "2021-12-17 04:11:57,410 - INFO - joeynmt.training - Example #2\n",
      "2021-12-17 04:11:57,410 - INFO - joeynmt.training - \tSource:     However, the Brennan Centre considers this a myth, stating that electoral fraud is rarer in the United States than the number of people killed by lightning.\n",
      "2021-12-17 04:11:57,410 - INFO - joeynmt.training - \tReference:  Or, le Centre Brennan considère cette dernière comme un mythe, affirmant que la fraude électorale est plus rare aux États-Unis que le nombre de personnes tuées par la foudre.\n",
      "2021-12-17 04:11:57,410 - INFO - joeynmt.training - \tHypothesis: Toutefois, le Centre de Brennan considère cela comme un mythe, en déclarant que la fraude électorale est rarement rarement aux États-Unis que le nombre de personnes tuées par la légère.\n",
      "2021-12-17 04:11:57,410 - INFO - joeynmt.training - Example #3\n",
      "2021-12-17 04:11:57,410 - INFO - joeynmt.training - \tSource:     Indeed, Republican lawyers identified only 300 cases of electoral fraud in the United States in a decade.\n",
      "2021-12-17 04:11:57,410 - INFO - joeynmt.training - \tReference:  D'ailleurs, les avocats républicains n'ont recensé que 300 cas de fraude électorale aux États-Unis en dix ans.\n",
      "2021-12-17 04:11:57,410 - INFO - joeynmt.training - \tHypothesis: En effet, les avocats peuvent avoir identifié seulement 300 cas de fraude électorale aux États-Unis dans une décennie.\n",
      "2021-12-17 04:11:57,411 - INFO - joeynmt.training - Validation result (greedy) at epoch   2, step    28000: bleu:  14.71, loss: 232855.8438, ppl:  12.9655, duration: 148.8531s\n",
      "2021-12-17 04:12:49,800 - INFO - joeynmt.training - Epoch   2, Step:    28200, Batch Loss:     1.798145, Tokens per Sec:    10087, Lr: 0.000300\n",
      "2021-12-17 04:13:41,956 - INFO - joeynmt.training - Epoch   2, Step:    28400, Batch Loss:     1.626840, Tokens per Sec:    10110, Lr: 0.000300\n",
      "2021-12-17 04:14:34,212 - INFO - joeynmt.training - Epoch   2, Step:    28600, Batch Loss:     2.157088, Tokens per Sec:    10148, Lr: 0.000300\n",
      "2021-12-17 04:15:26,438 - INFO - joeynmt.training - Epoch   2, Step:    28800, Batch Loss:     1.695439, Tokens per Sec:    10020, Lr: 0.000300\n",
      "2021-12-17 04:16:18,440 - INFO - joeynmt.training - Epoch   2, Step:    29000, Batch Loss:     1.667216, Tokens per Sec:    10026, Lr: 0.000300\n",
      "2021-12-17 04:17:10,524 - INFO - joeynmt.training - Epoch   2, Step:    29200, Batch Loss:     1.742755, Tokens per Sec:    10089, Lr: 0.000300\n",
      "2021-12-17 04:18:02,372 - INFO - joeynmt.training - Epoch   2, Step:    29400, Batch Loss:     1.837429, Tokens per Sec:    10101, Lr: 0.000300\n",
      "2021-12-17 04:18:54,540 - INFO - joeynmt.training - Epoch   2, Step:    29600, Batch Loss:     1.813565, Tokens per Sec:    10195, Lr: 0.000300\n",
      "2021-12-17 04:19:47,127 - INFO - joeynmt.training - Epoch   2, Step:    29800, Batch Loss:     1.688317, Tokens per Sec:    10114, Lr: 0.000300\n",
      "2021-12-17 04:20:39,500 - INFO - joeynmt.training - Epoch   2, Step:    30000, Batch Loss:     1.640190, Tokens per Sec:    10074, Lr: 0.000300\n",
      "2021-12-17 04:22:57,893 - INFO - joeynmt.training - Hooray! New best validation result [loss]!\n",
      "2021-12-17 04:22:57,893 - INFO - joeynmt.training - Saving new checkpoint.\n",
      "2021-12-17 04:23:00,496 - INFO - joeynmt.training - Example #0\n",
      "2021-12-17 04:23:00,497 - INFO - joeynmt.training - \tSource:     A Republican strategy to counter the re-election of Obama\n",
      "2021-12-17 04:23:00,498 - INFO - joeynmt.training - \tReference:  Une stratégie républicaine pour contrer la réélection d'Obama\n",
      "2021-12-17 04:23:00,498 - INFO - joeynmt.training - \tHypothesis: Une stratégie publiée peut contrer la réélection de Obama à la réélection d'Obama\n",
      "2021-12-17 04:23:00,498 - INFO - joeynmt.training - Example #1\n",
      "2021-12-17 04:23:00,498 - INFO - joeynmt.training - \tSource:     Republican leaders justified their policy by the need to combat electoral fraud.\n",
      "2021-12-17 04:23:00,498 - INFO - joeynmt.training - \tReference:  Les dirigeants républicains justifièrent leur politique par la nécessité de lutter contre la fraude électorale.\n",
      "2021-12-17 04:23:00,498 - INFO - joeynmt.training - \tHypothesis: Les dirigeants publicains peuvent justifier leur politique en vue de lutter contre la fraude électorale.\n",
      "2021-12-17 04:23:00,498 - INFO - joeynmt.training - Example #2\n",
      "2021-12-17 04:23:00,498 - INFO - joeynmt.training - \tSource:     However, the Brennan Centre considers this a myth, stating that electoral fraud is rarer in the United States than the number of people killed by lightning.\n",
      "2021-12-17 04:23:00,498 - INFO - joeynmt.training - \tReference:  Or, le Centre Brennan considère cette dernière comme un mythe, affirmant que la fraude électorale est plus rare aux États-Unis que le nombre de personnes tuées par la foudre.\n",
      "2021-12-17 04:23:00,498 - INFO - joeynmt.training - \tHypothesis: Toutefois, le Centre Brennan considère que ce mythe, en déclarant que la fraude électorale est rarement ramenée aux États-Unis que le nombre de personnes tuées par la légère.\n",
      "2021-12-17 04:23:00,498 - INFO - joeynmt.training - Example #3\n",
      "2021-12-17 04:23:00,498 - INFO - joeynmt.training - \tSource:     Indeed, Republican lawyers identified only 300 cases of electoral fraud in the United States in a decade.\n",
      "2021-12-17 04:23:00,499 - INFO - joeynmt.training - \tReference:  D'ailleurs, les avocats républicains n'ont recensé que 300 cas de fraude électorale aux États-Unis en dix ans.\n",
      "2021-12-17 04:23:00,499 - INFO - joeynmt.training - \tHypothesis: En effet, les avocats peuvent identifier 300 cas de fraude électorale aux États-Unis à une décennie.\n",
      "2021-12-17 04:23:00,499 - INFO - joeynmt.training - Validation result (greedy) at epoch   2, step    30000: bleu:  15.15, loss: 228287.8906, ppl:  12.3299, duration: 140.9985s\n",
      "2021-12-17 04:23:52,684 - INFO - joeynmt.training - Epoch   2, Step:    30200, Batch Loss:     1.947629, Tokens per Sec:    10161, Lr: 0.000300\n",
      "2021-12-17 04:24:44,905 - INFO - joeynmt.training - Epoch   2, Step:    30400, Batch Loss:     1.831272, Tokens per Sec:    10045, Lr: 0.000300\n",
      "2021-12-17 04:25:37,706 - INFO - joeynmt.training - Epoch   2, Step:    30600, Batch Loss:     1.890648, Tokens per Sec:    10053, Lr: 0.000300\n",
      "2021-12-17 04:26:29,787 - INFO - joeynmt.training - Epoch   2, Step:    30800, Batch Loss:     1.967035, Tokens per Sec:    10146, Lr: 0.000300\n",
      "2021-12-17 04:27:21,441 - INFO - joeynmt.training - Epoch   2, Step:    31000, Batch Loss:     2.065213, Tokens per Sec:     9930, Lr: 0.000300\n",
      "2021-12-17 04:28:13,427 - INFO - joeynmt.training - Epoch   2, Step:    31200, Batch Loss:     1.617296, Tokens per Sec:     9986, Lr: 0.000300\n",
      "2021-12-17 04:29:05,669 - INFO - joeynmt.training - Epoch   2, Step:    31400, Batch Loss:     1.708192, Tokens per Sec:    10167, Lr: 0.000300\n",
      "2021-12-17 04:29:58,094 - INFO - joeynmt.training - Epoch   2, Step:    31600, Batch Loss:     2.010479, Tokens per Sec:    10128, Lr: 0.000300\n",
      "2021-12-17 04:30:50,402 - INFO - joeynmt.training - Epoch   2, Step:    31800, Batch Loss:     2.000703, Tokens per Sec:    10186, Lr: 0.000300\n",
      "2021-12-17 04:31:42,481 - INFO - joeynmt.training - Epoch   2, Step:    32000, Batch Loss:     1.658891, Tokens per Sec:    10007, Lr: 0.000300\n",
      "2021-12-17 04:33:55,351 - INFO - joeynmt.training - Hooray! New best validation result [loss]!\n",
      "2021-12-17 04:33:55,351 - INFO - joeynmt.training - Saving new checkpoint.\n",
      "2021-12-17 04:33:57,958 - INFO - joeynmt.training - Example #0\n",
      "2021-12-17 04:33:57,960 - INFO - joeynmt.training - \tSource:     A Republican strategy to counter the re-election of Obama\n",
      "2021-12-17 04:33:57,960 - INFO - joeynmt.training - \tReference:  Une stratégie républicaine pour contrer la réélection d'Obama\n",
      "2021-12-17 04:33:57,960 - INFO - joeynmt.training - \tHypothesis: Une stratégie république peut lutter contre la réélection d'Obama\n",
      "2021-12-17 04:33:57,960 - INFO - joeynmt.training - Example #1\n",
      "2021-12-17 04:33:57,960 - INFO - joeynmt.training - \tSource:     Republican leaders justified their policy by the need to combat electoral fraud.\n",
      "2021-12-17 04:33:57,960 - INFO - joeynmt.training - \tReference:  Les dirigeants républicains justifièrent leur politique par la nécessité de lutter contre la fraude électorale.\n",
      "2021-12-17 04:33:57,960 - INFO - joeynmt.training - \tHypothesis: Les dirigeants publicains peuvent justifier leur politique en raison de la nécessité de lutter contre la fraude électorale.\n",
      "2021-12-17 04:33:57,960 - INFO - joeynmt.training - Example #2\n",
      "2021-12-17 04:33:57,960 - INFO - joeynmt.training - \tSource:     However, the Brennan Centre considers this a myth, stating that electoral fraud is rarer in the United States than the number of people killed by lightning.\n",
      "2021-12-17 04:33:57,960 - INFO - joeynmt.training - \tReference:  Or, le Centre Brennan considère cette dernière comme un mythe, affirmant que la fraude électorale est plus rare aux États-Unis que le nombre de personnes tuées par la foudre.\n",
      "2021-12-17 04:33:57,961 - INFO - joeynmt.training - \tHypothesis: Toutefois, le Centre Brennan considère ce mystème mystère en affirmant que la fraude électorale est rarement rarement aux États-Unis que le nombre de personnes tuées par la légère.\n",
      "2021-12-17 04:33:57,961 - INFO - joeynmt.training - Example #3\n",
      "2021-12-17 04:33:57,961 - INFO - joeynmt.training - \tSource:     Indeed, Republican lawyers identified only 300 cases of electoral fraud in the United States in a decade.\n",
      "2021-12-17 04:33:57,961 - INFO - joeynmt.training - \tReference:  D'ailleurs, les avocats républicains n'ont recensé que 300 cas de fraude électorale aux États-Unis en dix ans.\n",
      "2021-12-17 04:33:57,961 - INFO - joeynmt.training - \tHypothesis: En effet, les avocats républicateurs ne peuvent identifier, au cours de dix ans, que 300 cas de fraude électorale aux États-Unis.\n",
      "2021-12-17 04:33:57,961 - INFO - joeynmt.training - Validation result (greedy) at epoch   2, step    32000: bleu:  15.71, loss: 224503.5469, ppl:  11.8270, duration: 135.4796s\n",
      "2021-12-17 04:34:50,235 - INFO - joeynmt.training - Epoch   2, Step:    32200, Batch Loss:     1.773846, Tokens per Sec:    10083, Lr: 0.000300\n",
      "2021-12-17 04:35:42,283 - INFO - joeynmt.training - Epoch   2, Step:    32400, Batch Loss:     1.595566, Tokens per Sec:    10070, Lr: 0.000300\n",
      "2021-12-17 04:36:34,231 - INFO - joeynmt.training - Epoch   2, Step:    32600, Batch Loss:     1.727124, Tokens per Sec:    10095, Lr: 0.000300\n",
      "2021-12-17 04:37:26,770 - INFO - joeynmt.training - Epoch   2, Step:    32800, Batch Loss:     1.871239, Tokens per Sec:    10137, Lr: 0.000300\n",
      "2021-12-17 04:38:18,603 - INFO - joeynmt.training - Epoch   2, Step:    33000, Batch Loss:     1.887134, Tokens per Sec:    10121, Lr: 0.000300\n",
      "2021-12-17 04:39:10,434 - INFO - joeynmt.training - Epoch   2, Step:    33200, Batch Loss:     1.677720, Tokens per Sec:    10079, Lr: 0.000300\n",
      "2021-12-17 04:40:03,137 - INFO - joeynmt.training - Epoch   2, Step:    33400, Batch Loss:     1.694400, Tokens per Sec:    10217, Lr: 0.000300\n",
      "2021-12-17 04:40:55,748 - INFO - joeynmt.training - Epoch   2, Step:    33600, Batch Loss:     1.929375, Tokens per Sec:    10218, Lr: 0.000300\n",
      "2021-12-17 04:41:48,561 - INFO - joeynmt.training - Epoch   2, Step:    33800, Batch Loss:     1.632343, Tokens per Sec:    10161, Lr: 0.000300\n",
      "2021-12-17 04:42:41,151 - INFO - joeynmt.training - Epoch   2, Step:    34000, Batch Loss:     1.776676, Tokens per Sec:    10158, Lr: 0.000300\n",
      "2021-12-17 04:44:58,638 - INFO - joeynmt.training - Hooray! New best validation result [loss]!\n",
      "2021-12-17 04:44:58,638 - INFO - joeynmt.training - Saving new checkpoint.\n",
      "2021-12-17 04:45:01,237 - INFO - joeynmt.training - Example #0\n",
      "2021-12-17 04:45:01,238 - INFO - joeynmt.training - \tSource:     A Republican strategy to counter the re-election of Obama\n",
      "2021-12-17 04:45:01,238 - INFO - joeynmt.training - \tReference:  Une stratégie républicaine pour contrer la réélection d'Obama\n",
      "2021-12-17 04:45:01,238 - INFO - joeynmt.training - \tHypothesis: Une stratégie publicaine peut faire face à la réélection de Obama à la réélection de l'Obama\n",
      "2021-12-17 04:45:01,238 - INFO - joeynmt.training - Example #1\n",
      "2021-12-17 04:45:01,239 - INFO - joeynmt.training - \tSource:     Republican leaders justified their policy by the need to combat electoral fraud.\n",
      "2021-12-17 04:45:01,239 - INFO - joeynmt.training - \tReference:  Les dirigeants républicains justifièrent leur politique par la nécessité de lutter contre la fraude électorale.\n",
      "2021-12-17 04:45:01,239 - INFO - joeynmt.training - \tHypothesis: Les dirigeants publicains peuvent justifier leur politique en raison de la nécessité de lutter contre la fraude électorale.\n",
      "2021-12-17 04:45:01,239 - INFO - joeynmt.training - Example #2\n",
      "2021-12-17 04:45:01,239 - INFO - joeynmt.training - \tSource:     However, the Brennan Centre considers this a myth, stating that electoral fraud is rarer in the United States than the number of people killed by lightning.\n",
      "2021-12-17 04:45:01,239 - INFO - joeynmt.training - \tReference:  Or, le Centre Brennan considère cette dernière comme un mythe, affirmant que la fraude électorale est plus rare aux États-Unis que le nombre de personnes tuées par la foudre.\n",
      "2021-12-17 04:45:01,239 - INFO - joeynmt.training - \tHypothesis: Toutefois, le Centre Brennan considère ce mystère en affirmant que la fraude électorale est rarement rarement aux États-Unis que le nombre de personnes tuées par la légère.\n",
      "2021-12-17 04:45:01,239 - INFO - joeynmt.training - Example #3\n",
      "2021-12-17 04:45:01,239 - INFO - joeynmt.training - \tSource:     Indeed, Republican lawyers identified only 300 cases of electoral fraud in the United States in a decade.\n",
      "2021-12-17 04:45:01,239 - INFO - joeynmt.training - \tReference:  D'ailleurs, les avocats républicains n'ont recensé que 300 cas de fraude électorale aux États-Unis en dix ans.\n",
      "2021-12-17 04:45:01,239 - INFO - joeynmt.training - \tHypothesis: En effet, les avocats ne peuvent être identifiés que 300 cas de fraude électorale aux États-Unis dans une décennie.\n",
      "2021-12-17 04:45:01,240 - INFO - joeynmt.training - Validation result (greedy) at epoch   2, step    34000: bleu:  15.85, loss: 221231.1875, ppl:  11.4087, duration: 140.0886s\n",
      "2021-12-17 04:45:53,765 - INFO - joeynmt.training - Epoch   2, Step:    34200, Batch Loss:     1.732778, Tokens per Sec:    10130, Lr: 0.000300\n",
      "2021-12-17 04:46:46,246 - INFO - joeynmt.training - Epoch   2, Step:    34400, Batch Loss:     1.781203, Tokens per Sec:    10087, Lr: 0.000300\n",
      "2021-12-17 04:47:38,418 - INFO - joeynmt.training - Epoch   2, Step:    34600, Batch Loss:     2.015328, Tokens per Sec:    10034, Lr: 0.000300\n",
      "2021-12-17 04:48:31,047 - INFO - joeynmt.training - Epoch   2, Step:    34800, Batch Loss:     1.692064, Tokens per Sec:    10245, Lr: 0.000300\n",
      "2021-12-17 04:49:23,390 - INFO - joeynmt.training - Epoch   2, Step:    35000, Batch Loss:     1.652181, Tokens per Sec:    10072, Lr: 0.000300\n",
      "2021-12-17 04:50:15,969 - INFO - joeynmt.training - Epoch   2, Step:    35200, Batch Loss:     1.741495, Tokens per Sec:    10064, Lr: 0.000300\n",
      "2021-12-17 04:51:08,491 - INFO - joeynmt.training - Epoch   2, Step:    35400, Batch Loss:     1.799024, Tokens per Sec:    10129, Lr: 0.000300\n",
      "2021-12-17 04:52:00,760 - INFO - joeynmt.training - Epoch   2, Step:    35600, Batch Loss:     1.612767, Tokens per Sec:    10122, Lr: 0.000300\n",
      "2021-12-17 04:52:53,065 - INFO - joeynmt.training - Epoch   2, Step:    35800, Batch Loss:     1.592817, Tokens per Sec:    10086, Lr: 0.000300\n",
      "2021-12-17 04:53:45,079 - INFO - joeynmt.training - Epoch   2, Step:    36000, Batch Loss:     1.760304, Tokens per Sec:    10079, Lr: 0.000300\n",
      "2021-12-17 04:56:05,567 - INFO - joeynmt.training - Hooray! New best validation result [loss]!\n",
      "2021-12-17 04:56:05,568 - INFO - joeynmt.training - Saving new checkpoint.\n",
      "2021-12-17 04:56:08,180 - INFO - joeynmt.training - Example #0\n",
      "2021-12-17 04:56:08,183 - INFO - joeynmt.training - \tSource:     A Republican strategy to counter the re-election of Obama\n",
      "2021-12-17 04:56:08,183 - INFO - joeynmt.training - \tReference:  Une stratégie républicaine pour contrer la réélection d'Obama\n",
      "2021-12-17 04:56:08,183 - INFO - joeynmt.training - \tHypothesis: Une stratégie république peut être de contrer la réélection de Obama\n",
      "2021-12-17 04:56:08,183 - INFO - joeynmt.training - Example #1\n",
      "2021-12-17 04:56:08,183 - INFO - joeynmt.training - \tSource:     Republican leaders justified their policy by the need to combat electoral fraud.\n",
      "2021-12-17 04:56:08,183 - INFO - joeynmt.training - \tReference:  Les dirigeants républicains justifièrent leur politique par la nécessité de lutter contre la fraude électorale.\n",
      "2021-12-17 04:56:08,184 - INFO - joeynmt.training - \tHypothesis: Les dirigeants publics ont justifié leur politique en raison de la nécessité de lutter contre la fraude électorale.\n",
      "2021-12-17 04:56:08,184 - INFO - joeynmt.training - Example #2\n",
      "2021-12-17 04:56:08,184 - INFO - joeynmt.training - \tSource:     However, the Brennan Centre considers this a myth, stating that electoral fraud is rarer in the United States than the number of people killed by lightning.\n",
      "2021-12-17 04:56:08,184 - INFO - joeynmt.training - \tReference:  Or, le Centre Brennan considère cette dernière comme un mythe, affirmant que la fraude électorale est plus rare aux États-Unis que le nombre de personnes tuées par la foudre.\n",
      "2021-12-17 04:56:08,184 - INFO - joeynmt.training - \tHypothesis: Toutefois, le Centre Brennan considère ce mythe en déclarant que la fraude électorale est rarement rarement rarement aux États-Unis que le nombre de personnes tuées par la légère.\n",
      "2021-12-17 04:56:08,184 - INFO - joeynmt.training - Example #3\n",
      "2021-12-17 04:56:08,184 - INFO - joeynmt.training - \tSource:     Indeed, Republican lawyers identified only 300 cases of electoral fraud in the United States in a decade.\n",
      "2021-12-17 04:56:08,184 - INFO - joeynmt.training - \tReference:  D'ailleurs, les avocats républicains n'ont recensé que 300 cas de fraude électorale aux États-Unis en dix ans.\n",
      "2021-12-17 04:56:08,184 - INFO - joeynmt.training - \tHypothesis: En effet, les avocats ne sont identifiés que 300 cas de fraude électorale aux États-Unis dans une décennie.\n",
      "2021-12-17 04:56:08,184 - INFO - joeynmt.training - Validation result (greedy) at epoch   2, step    36000: bleu:  15.93, loss: 219343.5938, ppl:  11.1742, duration: 143.1055s\n",
      "2021-12-17 04:57:00,158 - INFO - joeynmt.training - Epoch   2, Step:    36200, Batch Loss:     1.838865, Tokens per Sec:    10082, Lr: 0.000300\n",
      "2021-12-17 04:57:52,373 - INFO - joeynmt.training - Epoch   2, Step:    36400, Batch Loss:     1.949726, Tokens per Sec:    10081, Lr: 0.000300\n",
      "2021-12-17 04:58:44,445 - INFO - joeynmt.training - Epoch   2, Step:    36600, Batch Loss:     1.555381, Tokens per Sec:    10056, Lr: 0.000300\n",
      "2021-12-17 04:59:37,036 - INFO - joeynmt.training - Epoch   2, Step:    36800, Batch Loss:     1.523761, Tokens per Sec:    10189, Lr: 0.000300\n",
      "2021-12-17 05:00:28,986 - INFO - joeynmt.training - Epoch   2, Step:    37000, Batch Loss:     2.026922, Tokens per Sec:    10028, Lr: 0.000300\n",
      "2021-12-17 05:01:21,347 - INFO - joeynmt.training - Epoch   2, Step:    37200, Batch Loss:     1.772359, Tokens per Sec:    10131, Lr: 0.000300\n",
      "2021-12-17 05:02:13,262 - INFO - joeynmt.training - Epoch   2, Step:    37400, Batch Loss:     1.696149, Tokens per Sec:    10088, Lr: 0.000300\n",
      "2021-12-17 05:03:05,775 - INFO - joeynmt.training - Epoch   2, Step:    37600, Batch Loss:     1.620269, Tokens per Sec:    10119, Lr: 0.000300\n",
      "2021-12-17 05:03:58,196 - INFO - joeynmt.training - Epoch   2, Step:    37800, Batch Loss:     1.667436, Tokens per Sec:    10152, Lr: 0.000300\n",
      "2021-12-17 05:04:50,509 - INFO - joeynmt.training - Epoch   2, Step:    38000, Batch Loss:     1.707209, Tokens per Sec:    10150, Lr: 0.000300\n",
      "2021-12-17 05:07:23,169 - INFO - joeynmt.training - Hooray! New best validation result [loss]!\n",
      "2021-12-17 05:07:23,169 - INFO - joeynmt.training - Saving new checkpoint.\n",
      "2021-12-17 05:07:25,785 - INFO - joeynmt.training - Example #0\n",
      "2021-12-17 05:07:25,786 - INFO - joeynmt.training - \tSource:     A Republican strategy to counter the re-election of Obama\n",
      "2021-12-17 05:07:25,786 - INFO - joeynmt.training - \tReference:  Une stratégie républicaine pour contrer la réélection d'Obama\n",
      "2021-12-17 05:07:25,786 - INFO - joeynmt.training - \tHypothesis: Une stratégie républicaine peut lutter contre la réélection de Obama\n",
      "2021-12-17 05:07:25,786 - INFO - joeynmt.training - Example #1\n",
      "2021-12-17 05:07:25,786 - INFO - joeynmt.training - \tSource:     Republican leaders justified their policy by the need to combat electoral fraud.\n",
      "2021-12-17 05:07:25,786 - INFO - joeynmt.training - \tReference:  Les dirigeants républicains justifièrent leur politique par la nécessité de lutter contre la fraude électorale.\n",
      "2021-12-17 05:07:25,787 - INFO - joeynmt.training - \tHypothesis: Les dirigeants républicains ont justifié leur politique en raison de la nécessité de lutter contre la fraude électorale.\n",
      "2021-12-17 05:07:25,787 - INFO - joeynmt.training - Example #2\n",
      "2021-12-17 05:07:25,787 - INFO - joeynmt.training - \tSource:     However, the Brennan Centre considers this a myth, stating that electoral fraud is rarer in the United States than the number of people killed by lightning.\n",
      "2021-12-17 05:07:25,787 - INFO - joeynmt.training - \tReference:  Or, le Centre Brennan considère cette dernière comme un mythe, affirmant que la fraude électorale est plus rare aux États-Unis que le nombre de personnes tuées par la foudre.\n",
      "2021-12-17 05:07:25,787 - INFO - joeynmt.training - \tHypothesis: Cependant, le centre Brennan considère ce myste, qui affirme que la fraude électorale est rarement plus élevée aux États-Unis que le nombre de personnes tuées par la légère.\n",
      "2021-12-17 05:07:25,787 - INFO - joeynmt.training - Example #3\n",
      "2021-12-17 05:07:25,787 - INFO - joeynmt.training - \tSource:     Indeed, Republican lawyers identified only 300 cases of electoral fraud in the United States in a decade.\n",
      "2021-12-17 05:07:25,787 - INFO - joeynmt.training - \tReference:  D'ailleurs, les avocats républicains n'ont recensé que 300 cas de fraude électorale aux États-Unis en dix ans.\n",
      "2021-12-17 05:07:25,788 - INFO - joeynmt.training - \tHypothesis: En effet, les avocats républicains ne sont identifiés que 300 cas de fraude électorale aux États-Unis en dix ans.\n",
      "2021-12-17 05:07:25,788 - INFO - joeynmt.training - Validation result (greedy) at epoch   2, step    38000: bleu:  16.21, loss: 217329.8438, ppl:  10.9293, duration: 155.2785s\n",
      "2021-12-17 05:08:18,517 - INFO - joeynmt.training - Epoch   2, Step:    38200, Batch Loss:     1.622612, Tokens per Sec:    10195, Lr: 0.000300\n",
      "2021-12-17 05:09:10,696 - INFO - joeynmt.training - Epoch   2, Step:    38400, Batch Loss:     1.555246, Tokens per Sec:    10076, Lr: 0.000300\n",
      "2021-12-17 05:10:02,784 - INFO - joeynmt.training - Epoch   2, Step:    38600, Batch Loss:     1.766845, Tokens per Sec:    10030, Lr: 0.000300\n",
      "2021-12-17 05:10:54,594 - INFO - joeynmt.training - Epoch   2, Step:    38800, Batch Loss:     1.529094, Tokens per Sec:    10125, Lr: 0.000300\n",
      "2021-12-17 05:11:46,649 - INFO - joeynmt.training - Epoch   2, Step:    39000, Batch Loss:     1.610685, Tokens per Sec:    10109, Lr: 0.000300\n",
      "2021-12-17 05:12:38,898 - INFO - joeynmt.training - Epoch   2, Step:    39200, Batch Loss:     1.564453, Tokens per Sec:    10158, Lr: 0.000300\n",
      "2021-12-17 05:13:30,711 - INFO - joeynmt.training - Epoch   2, Step:    39400, Batch Loss:     1.667527, Tokens per Sec:    10196, Lr: 0.000300\n",
      "2021-12-17 05:14:22,932 - INFO - joeynmt.training - Epoch   2, Step:    39600, Batch Loss:     1.574693, Tokens per Sec:    10117, Lr: 0.000300\n",
      "2021-12-17 05:15:14,887 - INFO - joeynmt.training - Epoch   2, Step:    39800, Batch Loss:     1.546243, Tokens per Sec:    10073, Lr: 0.000300\n",
      "2021-12-17 05:16:07,234 - INFO - joeynmt.training - Epoch   2, Step:    40000, Batch Loss:     1.661536, Tokens per Sec:    10012, Lr: 0.000300\n",
      "2021-12-17 05:18:29,016 - INFO - joeynmt.training - Hooray! New best validation result [loss]!\n",
      "2021-12-17 05:18:29,016 - INFO - joeynmt.training - Saving new checkpoint.\n",
      "2021-12-17 05:18:31,611 - INFO - joeynmt.training - Example #0\n",
      "2021-12-17 05:18:31,612 - INFO - joeynmt.training - \tSource:     A Republican strategy to counter the re-election of Obama\n",
      "2021-12-17 05:18:31,612 - INFO - joeynmt.training - \tReference:  Une stratégie républicaine pour contrer la réélection d'Obama\n",
      "2021-12-17 05:18:31,612 - INFO - joeynmt.training - \tHypothesis: Une stratégie républicaine peut être la lutte contre la réélection de Obama\n",
      "2021-12-17 05:18:31,612 - INFO - joeynmt.training - Example #1\n",
      "2021-12-17 05:18:31,612 - INFO - joeynmt.training - \tSource:     Republican leaders justified their policy by the need to combat electoral fraud.\n",
      "2021-12-17 05:18:31,612 - INFO - joeynmt.training - \tReference:  Les dirigeants républicains justifièrent leur politique par la nécessité de lutter contre la fraude électorale.\n",
      "2021-12-17 05:18:31,613 - INFO - joeynmt.training - \tHypothesis: Les dirigeants républicains ont justifié leur politique en raison de la nécessité de lutter contre la fraude électorale.\n",
      "2021-12-17 05:18:31,613 - INFO - joeynmt.training - Example #2\n",
      "2021-12-17 05:18:31,613 - INFO - joeynmt.training - \tSource:     However, the Brennan Centre considers this a myth, stating that electoral fraud is rarer in the United States than the number of people killed by lightning.\n",
      "2021-12-17 05:18:31,613 - INFO - joeynmt.training - \tReference:  Or, le Centre Brennan considère cette dernière comme un mythe, affirmant que la fraude électorale est plus rare aux États-Unis que le nombre de personnes tuées par la foudre.\n",
      "2021-12-17 05:18:31,613 - INFO - joeynmt.training - \tHypothesis: Cependant, le Centre Brennan considère ce mystème qui affirme que la fraude électorale est rarement rarement aux États-Unis que le nombre de personnes tuées par la légère.\n",
      "2021-12-17 05:18:31,613 - INFO - joeynmt.training - Example #3\n",
      "2021-12-17 05:18:31,613 - INFO - joeynmt.training - \tSource:     Indeed, Republican lawyers identified only 300 cases of electoral fraud in the United States in a decade.\n",
      "2021-12-17 05:18:31,613 - INFO - joeynmt.training - \tReference:  D'ailleurs, les avocats républicains n'ont recensé que 300 cas de fraude électorale aux États-Unis en dix ans.\n",
      "2021-12-17 05:18:31,613 - INFO - joeynmt.training - \tHypothesis: En effet, les avocats républicains ne peuvent avoir identifié que 300 cas de fraude électorale aux États-Unis dans une décennie.\n",
      "2021-12-17 05:18:31,614 - INFO - joeynmt.training - Validation result (greedy) at epoch   2, step    40000: bleu:  16.55, loss: 214843.3750, ppl:  10.6343, duration: 144.3798s\n",
      "2021-12-17 05:19:24,199 - INFO - joeynmt.training - Epoch   2, Step:    40200, Batch Loss:     1.642672, Tokens per Sec:    10141, Lr: 0.000300\n",
      "2021-12-17 05:20:16,372 - INFO - joeynmt.training - Epoch   2, Step:    40400, Batch Loss:     1.660372, Tokens per Sec:    10191, Lr: 0.000300\n",
      "2021-12-17 05:21:08,250 - INFO - joeynmt.training - Epoch   2, Step:    40600, Batch Loss:     1.596710, Tokens per Sec:    10112, Lr: 0.000300\n",
      "2021-12-17 05:22:00,644 - INFO - joeynmt.training - Epoch   2, Step:    40800, Batch Loss:     1.573609, Tokens per Sec:    10121, Lr: 0.000300\n",
      "2021-12-17 05:22:52,865 - INFO - joeynmt.training - Epoch   2, Step:    41000, Batch Loss:     1.427318, Tokens per Sec:    10079, Lr: 0.000300\n",
      "2021-12-17 05:23:44,878 - INFO - joeynmt.training - Epoch   2, Step:    41200, Batch Loss:     1.752734, Tokens per Sec:    10055, Lr: 0.000300\n",
      "2021-12-17 05:24:36,962 - INFO - joeynmt.training - Epoch   2, Step:    41400, Batch Loss:     1.690047, Tokens per Sec:    10190, Lr: 0.000300\n",
      "2021-12-17 05:25:29,239 - INFO - joeynmt.training - Epoch   2, Step:    41600, Batch Loss:     1.630151, Tokens per Sec:    10080, Lr: 0.000300\n",
      "2021-12-17 05:26:21,392 - INFO - joeynmt.training - Epoch   2, Step:    41800, Batch Loss:     1.754915, Tokens per Sec:    10108, Lr: 0.000300\n",
      "2021-12-17 05:27:13,477 - INFO - joeynmt.training - Epoch   2, Step:    42000, Batch Loss:     1.715473, Tokens per Sec:    10105, Lr: 0.000300\n",
      "2021-12-17 05:29:34,166 - INFO - joeynmt.training - Hooray! New best validation result [loss]!\n",
      "2021-12-17 05:29:34,167 - INFO - joeynmt.training - Saving new checkpoint.\n",
      "2021-12-17 05:29:36,774 - INFO - joeynmt.training - Example #0\n",
      "2021-12-17 05:29:36,776 - INFO - joeynmt.training - \tSource:     A Republican strategy to counter the re-election of Obama\n",
      "2021-12-17 05:29:36,776 - INFO - joeynmt.training - \tReference:  Une stratégie républicaine pour contrer la réélection d'Obama\n",
      "2021-12-17 05:29:36,776 - INFO - joeynmt.training - \tHypothesis: Une stratégie républicaine pour contrer la réélection d'Obama\n",
      "2021-12-17 05:29:36,776 - INFO - joeynmt.training - Example #1\n",
      "2021-12-17 05:29:36,776 - INFO - joeynmt.training - \tSource:     Republican leaders justified their policy by the need to combat electoral fraud.\n",
      "2021-12-17 05:29:36,776 - INFO - joeynmt.training - \tReference:  Les dirigeants républicains justifièrent leur politique par la nécessité de lutter contre la fraude électorale.\n",
      "2021-12-17 05:29:36,776 - INFO - joeynmt.training - \tHypothesis: Les dirigeants républicains ont justifié leur politique en raison de la nécessité de lutter contre la fraude électorale.\n",
      "2021-12-17 05:29:36,776 - INFO - joeynmt.training - Example #2\n",
      "2021-12-17 05:29:36,776 - INFO - joeynmt.training - \tSource:     However, the Brennan Centre considers this a myth, stating that electoral fraud is rarer in the United States than the number of people killed by lightning.\n",
      "2021-12-17 05:29:36,776 - INFO - joeynmt.training - \tReference:  Or, le Centre Brennan considère cette dernière comme un mythe, affirmant que la fraude électorale est plus rare aux États-Unis que le nombre de personnes tuées par la foudre.\n",
      "2021-12-17 05:29:36,776 - INFO - joeynmt.training - \tHypothesis: Toutefois, le Centre Brennan considère ce mythe, qui affirme que la fraude électorale est rarement rarement réduite aux États-Unis que le nombre de personnes tuées par un léger.\n",
      "2021-12-17 05:29:36,776 - INFO - joeynmt.training - Example #3\n",
      "2021-12-17 05:29:36,777 - INFO - joeynmt.training - \tSource:     Indeed, Republican lawyers identified only 300 cases of electoral fraud in the United States in a decade.\n",
      "2021-12-17 05:29:36,777 - INFO - joeynmt.training - \tReference:  D'ailleurs, les avocats républicains n'ont recensé que 300 cas de fraude électorale aux États-Unis en dix ans.\n",
      "2021-12-17 05:29:36,777 - INFO - joeynmt.training - \tHypothesis: En effet, les avocats républicains ne identifient que 300 cas de fraude électorale aux États-Unis dans une décennie.\n",
      "2021-12-17 05:29:36,777 - INFO - joeynmt.training - Validation result (greedy) at epoch   2, step    42000: bleu:  16.64, loss: 213421.8906, ppl:  10.4693, duration: 143.2996s\n",
      "2021-12-17 05:30:28,925 - INFO - joeynmt.training - Epoch   2, Step:    42200, Batch Loss:     1.748415, Tokens per Sec:    10134, Lr: 0.000300\n",
      "2021-12-17 05:31:21,031 - INFO - joeynmt.training - Epoch   2, Step:    42400, Batch Loss:     1.835808, Tokens per Sec:     9960, Lr: 0.000300\n",
      "2021-12-17 05:32:13,618 - INFO - joeynmt.training - Epoch   2, Step:    42600, Batch Loss:     1.691810, Tokens per Sec:    10232, Lr: 0.000300\n",
      "2021-12-17 05:33:05,298 - INFO - joeynmt.training - Epoch   2, Step:    42800, Batch Loss:     1.702059, Tokens per Sec:     9968, Lr: 0.000300\n",
      "2021-12-17 05:33:56,744 - INFO - joeynmt.training - Epoch   2, Step:    43000, Batch Loss:     1.616579, Tokens per Sec:    10059, Lr: 0.000300\n",
      "2021-12-17 05:34:49,488 - INFO - joeynmt.training - Epoch   2, Step:    43200, Batch Loss:     1.678766, Tokens per Sec:    10109, Lr: 0.000300\n",
      "2021-12-17 05:35:41,247 - INFO - joeynmt.training - Epoch   2, Step:    43400, Batch Loss:     1.596853, Tokens per Sec:    10035, Lr: 0.000300\n",
      "2021-12-17 05:36:33,520 - INFO - joeynmt.training - Epoch   2, Step:    43600, Batch Loss:     1.753497, Tokens per Sec:    10067, Lr: 0.000300\n",
      "2021-12-17 05:37:25,874 - INFO - joeynmt.training - Epoch   2, Step:    43800, Batch Loss:     1.713904, Tokens per Sec:    10189, Lr: 0.000300\n",
      "2021-12-17 05:38:17,984 - INFO - joeynmt.training - Epoch   2, Step:    44000, Batch Loss:     1.653599, Tokens per Sec:    10153, Lr: 0.000300\n",
      "2021-12-17 05:40:43,013 - INFO - joeynmt.training - Hooray! New best validation result [loss]!\n",
      "2021-12-17 05:40:43,013 - INFO - joeynmt.training - Saving new checkpoint.\n",
      "2021-12-17 05:40:45,612 - INFO - joeynmt.training - Example #0\n",
      "2021-12-17 05:40:45,613 - INFO - joeynmt.training - \tSource:     A Republican strategy to counter the re-election of Obama\n",
      "2021-12-17 05:40:45,613 - INFO - joeynmt.training - \tReference:  Une stratégie républicaine pour contrer la réélection d'Obama\n",
      "2021-12-17 05:40:45,613 - INFO - joeynmt.training - \tHypothesis: Une stratégie républicaine pour contrer la réélection d'Obama\n",
      "2021-12-17 05:40:45,613 - INFO - joeynmt.training - Example #1\n",
      "2021-12-17 05:40:45,613 - INFO - joeynmt.training - \tSource:     Republican leaders justified their policy by the need to combat electoral fraud.\n",
      "2021-12-17 05:40:45,613 - INFO - joeynmt.training - \tReference:  Les dirigeants républicains justifièrent leur politique par la nécessité de lutter contre la fraude électorale.\n",
      "2021-12-17 05:40:45,614 - INFO - joeynmt.training - \tHypothesis: Les dirigeants républicains ont justifié leur politique par la nécessité de lutter contre la fraude électorale.\n",
      "2021-12-17 05:40:45,614 - INFO - joeynmt.training - Example #2\n",
      "2021-12-17 05:40:45,614 - INFO - joeynmt.training - \tSource:     However, the Brennan Centre considers this a myth, stating that electoral fraud is rarer in the United States than the number of people killed by lightning.\n",
      "2021-12-17 05:40:45,614 - INFO - joeynmt.training - \tReference:  Or, le Centre Brennan considère cette dernière comme un mythe, affirmant que la fraude électorale est plus rare aux États-Unis que le nombre de personnes tuées par la foudre.\n",
      "2021-12-17 05:40:45,614 - INFO - joeynmt.training - \tHypothesis: Toutefois, le Centre Brennan considère ce mythe, qui affirme que la fraude électorale est rarement plus rarement aux États-Unis que le nombre de personnes tuées par la légère.\n",
      "2021-12-17 05:40:45,614 - INFO - joeynmt.training - Example #3\n",
      "2021-12-17 05:40:45,614 - INFO - joeynmt.training - \tSource:     Indeed, Republican lawyers identified only 300 cases of electoral fraud in the United States in a decade.\n",
      "2021-12-17 05:40:45,614 - INFO - joeynmt.training - \tReference:  D'ailleurs, les avocats républicains n'ont recensé que 300 cas de fraude électorale aux États-Unis en dix ans.\n",
      "2021-12-17 05:40:45,614 - INFO - joeynmt.training - \tHypothesis: En effet, les avocats républicains ne identifient que 300 cas de fraude électorale aux États-Unis dans une décennie.\n",
      "2021-12-17 05:40:45,614 - INFO - joeynmt.training - Validation result (greedy) at epoch   2, step    44000: bleu:  16.87, loss: 210340.2344, ppl:  10.1202, duration: 147.6299s\n",
      "2021-12-17 05:41:38,005 - INFO - joeynmt.training - Epoch   2, Step:    44200, Batch Loss:     1.568602, Tokens per Sec:    10115, Lr: 0.000300\n",
      "2021-12-17 05:42:30,731 - INFO - joeynmt.training - Epoch   2, Step:    44400, Batch Loss:     1.693400, Tokens per Sec:    10273, Lr: 0.000300\n",
      "2021-12-17 05:43:22,916 - INFO - joeynmt.training - Epoch   2, Step:    44600, Batch Loss:     1.520615, Tokens per Sec:    10048, Lr: 0.000300\n",
      "2021-12-17 05:44:14,839 - INFO - joeynmt.training - Epoch   2, Step:    44800, Batch Loss:     1.484888, Tokens per Sec:    10118, Lr: 0.000300\n",
      "2021-12-17 05:45:07,445 - INFO - joeynmt.training - Epoch   2, Step:    45000, Batch Loss:     1.643512, Tokens per Sec:    10194, Lr: 0.000300\n",
      "2021-12-17 05:45:59,559 - INFO - joeynmt.training - Epoch   2, Step:    45200, Batch Loss:     1.650429, Tokens per Sec:    10157, Lr: 0.000300\n",
      "2021-12-17 05:46:51,594 - INFO - joeynmt.training - Epoch   2, Step:    45400, Batch Loss:     1.700466, Tokens per Sec:    10108, Lr: 0.000300\n",
      "2021-12-17 05:47:43,727 - INFO - joeynmt.training - Epoch   2, Step:    45600, Batch Loss:     1.736588, Tokens per Sec:    10012, Lr: 0.000300\n",
      "2021-12-17 05:48:36,279 - INFO - joeynmt.training - Epoch   2, Step:    45800, Batch Loss:     1.529017, Tokens per Sec:    10114, Lr: 0.000300\n",
      "2021-12-17 05:49:28,718 - INFO - joeynmt.training - Epoch   2, Step:    46000, Batch Loss:     1.611972, Tokens per Sec:    10183, Lr: 0.000300\n",
      "2021-12-17 05:51:46,240 - INFO - joeynmt.training - Hooray! New best validation result [loss]!\n",
      "2021-12-17 05:51:46,240 - INFO - joeynmt.training - Saving new checkpoint.\n",
      "2021-12-17 05:51:48,852 - INFO - joeynmt.training - Example #0\n",
      "2021-12-17 05:51:48,852 - INFO - joeynmt.training - \tSource:     A Republican strategy to counter the re-election of Obama\n",
      "2021-12-17 05:51:48,852 - INFO - joeynmt.training - \tReference:  Une stratégie républicaine pour contrer la réélection d'Obama\n",
      "2021-12-17 05:51:48,853 - INFO - joeynmt.training - \tHypothesis: Une stratégie républicaine contre la réélection d'Obama est une stratégie réélectorale.\n",
      "2021-12-17 05:51:48,853 - INFO - joeynmt.training - Example #1\n",
      "2021-12-17 05:51:48,853 - INFO - joeynmt.training - \tSource:     Republican leaders justified their policy by the need to combat electoral fraud.\n",
      "2021-12-17 05:51:48,853 - INFO - joeynmt.training - \tReference:  Les dirigeants républicains justifièrent leur politique par la nécessité de lutter contre la fraude électorale.\n",
      "2021-12-17 05:51:48,853 - INFO - joeynmt.training - \tHypothesis: Les dirigeants publics ont justifié leur politique par la nécessité de lutter contre la fraude électorale.\n",
      "2021-12-17 05:51:48,853 - INFO - joeynmt.training - Example #2\n",
      "2021-12-17 05:51:48,853 - INFO - joeynmt.training - \tSource:     However, the Brennan Centre considers this a myth, stating that electoral fraud is rarer in the United States than the number of people killed by lightning.\n",
      "2021-12-17 05:51:48,853 - INFO - joeynmt.training - \tReference:  Or, le Centre Brennan considère cette dernière comme un mythe, affirmant que la fraude électorale est plus rare aux États-Unis que le nombre de personnes tuées par la foudre.\n",
      "2021-12-17 05:51:48,853 - INFO - joeynmt.training - \tHypothesis: Cependant, le Centre Brennan considère ce mythe en affirmant que la fraude électorale est rarement réduite aux États-Unis que le nombre de personnes tuées par la légère.\n",
      "2021-12-17 05:51:48,853 - INFO - joeynmt.training - Example #3\n",
      "2021-12-17 05:51:48,854 - INFO - joeynmt.training - \tSource:     Indeed, Republican lawyers identified only 300 cases of electoral fraud in the United States in a decade.\n",
      "2021-12-17 05:51:48,854 - INFO - joeynmt.training - \tReference:  D'ailleurs, les avocats républicains n'ont recensé que 300 cas de fraude électorale aux États-Unis en dix ans.\n",
      "2021-12-17 05:51:48,854 - INFO - joeynmt.training - \tHypothesis: En effet, les avocats républicains ont identifié 300 cas de fraude électorale aux États-Unis dans une décennie.\n",
      "2021-12-17 05:51:48,854 - INFO - joeynmt.training - Validation result (greedy) at epoch   2, step    46000: bleu:  17.02, loss: 209753.7656, ppl:  10.0551, duration: 140.1355s\n",
      "2021-12-17 05:52:41,379 - INFO - joeynmt.training - Epoch   2, Step:    46200, Batch Loss:     1.756248, Tokens per Sec:    10227, Lr: 0.000300\n",
      "2021-12-17 05:53:33,443 - INFO - joeynmt.training - Epoch   2, Step:    46400, Batch Loss:     1.554107, Tokens per Sec:    10009, Lr: 0.000300\n",
      "2021-12-17 05:54:25,705 - INFO - joeynmt.training - Epoch   2, Step:    46600, Batch Loss:     1.536440, Tokens per Sec:    10060, Lr: 0.000300\n",
      "2021-12-17 05:55:18,169 - INFO - joeynmt.training - Epoch   2, Step:    46800, Batch Loss:     1.676246, Tokens per Sec:    10153, Lr: 0.000300\n",
      "2021-12-17 05:55:49,315 - INFO - joeynmt.training - Epoch   2: total training loss 40816.86\n",
      "2021-12-17 05:55:49,315 - INFO - joeynmt.training - EPOCH 3\n",
      "2021-12-17 05:56:14,277 - INFO - joeynmt.training - Epoch   3, Step:    47000, Batch Loss:     1.461900, Tokens per Sec:     8646, Lr: 0.000300\n",
      "2021-12-17 05:57:05,923 - INFO - joeynmt.training - Epoch   3, Step:    47200, Batch Loss:     1.591327, Tokens per Sec:    10042, Lr: 0.000300\n",
      "2021-12-17 05:57:57,576 - INFO - joeynmt.training - Epoch   3, Step:    47400, Batch Loss:     1.619012, Tokens per Sec:     9948, Lr: 0.000300\n",
      "2021-12-17 05:58:49,567 - INFO - joeynmt.training - Epoch   3, Step:    47600, Batch Loss:     1.585240, Tokens per Sec:    10063, Lr: 0.000300\n",
      "2021-12-17 05:59:41,648 - INFO - joeynmt.training - Epoch   3, Step:    47800, Batch Loss:     1.625988, Tokens per Sec:    10086, Lr: 0.000300\n",
      "2021-12-17 06:00:34,288 - INFO - joeynmt.training - Epoch   3, Step:    48000, Batch Loss:     1.726672, Tokens per Sec:    10269, Lr: 0.000300\n",
      "2021-12-17 06:02:58,878 - INFO - joeynmt.training - Hooray! New best validation result [loss]!\n",
      "2021-12-17 06:02:58,879 - INFO - joeynmt.training - Saving new checkpoint.\n",
      "2021-12-17 06:03:01,473 - INFO - joeynmt.training - Example #0\n",
      "2021-12-17 06:03:01,474 - INFO - joeynmt.training - \tSource:     A Republican strategy to counter the re-election of Obama\n",
      "2021-12-17 06:03:01,474 - INFO - joeynmt.training - \tReference:  Une stratégie républicaine pour contrer la réélection d'Obama\n",
      "2021-12-17 06:03:01,474 - INFO - joeynmt.training - \tHypothesis: Une stratégie république peut être menée contre la réélection d'Obama\n",
      "2021-12-17 06:03:01,474 - INFO - joeynmt.training - Example #1\n",
      "2021-12-17 06:03:01,474 - INFO - joeynmt.training - \tSource:     Republican leaders justified their policy by the need to combat electoral fraud.\n",
      "2021-12-17 06:03:01,475 - INFO - joeynmt.training - \tReference:  Les dirigeants républicains justifièrent leur politique par la nécessité de lutter contre la fraude électorale.\n",
      "2021-12-17 06:03:01,475 - INFO - joeynmt.training - \tHypothesis: Les dirigeants publics ont justifié leur politique par la nécessité de lutter contre la fraude électorale.\n",
      "2021-12-17 06:03:01,475 - INFO - joeynmt.training - Example #2\n",
      "2021-12-17 06:03:01,475 - INFO - joeynmt.training - \tSource:     However, the Brennan Centre considers this a myth, stating that electoral fraud is rarer in the United States than the number of people killed by lightning.\n",
      "2021-12-17 06:03:01,475 - INFO - joeynmt.training - \tReference:  Or, le Centre Brennan considère cette dernière comme un mythe, affirmant que la fraude électorale est plus rare aux États-Unis que le nombre de personnes tuées par la foudre.\n",
      "2021-12-17 06:03:01,475 - INFO - joeynmt.training - \tHypothesis: Cependant, le Centre Brennan considère ce mythe selon lequel la fraude électorale est rarement ramenée aux États-Unis que le nombre de personnes tuées par la légère.\n",
      "2021-12-17 06:03:01,475 - INFO - joeynmt.training - Example #3\n",
      "2021-12-17 06:03:01,475 - INFO - joeynmt.training - \tSource:     Indeed, Republican lawyers identified only 300 cases of electoral fraud in the United States in a decade.\n",
      "2021-12-17 06:03:01,476 - INFO - joeynmt.training - \tReference:  D'ailleurs, les avocats républicains n'ont recensé que 300 cas de fraude électorale aux États-Unis en dix ans.\n",
      "2021-12-17 06:03:01,476 - INFO - joeynmt.training - \tHypothesis: En effet, les avocats républicains n'ont identifié que 300 cas de fraude électorale aux États-Unis dans une décennie.\n",
      "2021-12-17 06:03:01,476 - INFO - joeynmt.training - Validation result (greedy) at epoch   3, step    48000: bleu:  17.22, loss: 207961.8594, ppl:   9.8588, duration: 147.1875s\n",
      "2021-12-17 06:03:53,710 - INFO - joeynmt.training - Epoch   3, Step:    48200, Batch Loss:     1.658350, Tokens per Sec:    10079, Lr: 0.000300\n",
      "2021-12-17 06:04:45,964 - INFO - joeynmt.training - Epoch   3, Step:    48400, Batch Loss:     1.571202, Tokens per Sec:    10102, Lr: 0.000300\n",
      "2021-12-17 06:05:38,292 - INFO - joeynmt.training - Epoch   3, Step:    48600, Batch Loss:     1.602562, Tokens per Sec:    10155, Lr: 0.000300\n",
      "2021-12-17 06:06:30,936 - INFO - joeynmt.training - Epoch   3, Step:    48800, Batch Loss:     1.463307, Tokens per Sec:    10077, Lr: 0.000300\n",
      "2021-12-17 06:07:23,551 - INFO - joeynmt.training - Epoch   3, Step:    49000, Batch Loss:     1.610147, Tokens per Sec:    10241, Lr: 0.000300\n",
      "2021-12-17 06:08:15,786 - INFO - joeynmt.training - Epoch   3, Step:    49200, Batch Loss:     1.732622, Tokens per Sec:    10012, Lr: 0.000300\n",
      "2021-12-17 06:09:07,991 - INFO - joeynmt.training - Epoch   3, Step:    49400, Batch Loss:     1.549253, Tokens per Sec:    10094, Lr: 0.000300\n",
      "2021-12-17 06:10:00,407 - INFO - joeynmt.training - Epoch   3, Step:    49600, Batch Loss:     1.545246, Tokens per Sec:    10231, Lr: 0.000300\n",
      "2021-12-17 06:10:52,683 - INFO - joeynmt.training - Epoch   3, Step:    49800, Batch Loss:     1.675698, Tokens per Sec:    10083, Lr: 0.000300\n",
      "2021-12-17 06:11:45,253 - INFO - joeynmt.training - Epoch   3, Step:    50000, Batch Loss:     1.680630, Tokens per Sec:    10167, Lr: 0.000300\n",
      "2021-12-17 06:14:07,471 - INFO - joeynmt.training - Hooray! New best validation result [loss]!\n",
      "2021-12-17 06:14:07,471 - INFO - joeynmt.training - Saving new checkpoint.\n",
      "2021-12-17 06:14:10,059 - INFO - joeynmt.training - Example #0\n",
      "2021-12-17 06:14:10,059 - INFO - joeynmt.training - \tSource:     A Republican strategy to counter the re-election of Obama\n",
      "2021-12-17 06:14:10,059 - INFO - joeynmt.training - \tReference:  Une stratégie républicaine pour contrer la réélection d'Obama\n",
      "2021-12-17 06:14:10,060 - INFO - joeynmt.training - \tHypothesis: Une stratégie républicaine visant à contrer la réélection d'Obama\n",
      "2021-12-17 06:14:10,060 - INFO - joeynmt.training - Example #1\n",
      "2021-12-17 06:14:10,060 - INFO - joeynmt.training - \tSource:     Republican leaders justified their policy by the need to combat electoral fraud.\n",
      "2021-12-17 06:14:10,060 - INFO - joeynmt.training - \tReference:  Les dirigeants républicains justifièrent leur politique par la nécessité de lutter contre la fraude électorale.\n",
      "2021-12-17 06:14:10,060 - INFO - joeynmt.training - \tHypothesis: Les dirigeants publics ont justifié leur politique en raison de la nécessité de lutter contre la fraude électorale.\n",
      "2021-12-17 06:14:10,060 - INFO - joeynmt.training - Example #2\n",
      "2021-12-17 06:14:10,060 - INFO - joeynmt.training - \tSource:     However, the Brennan Centre considers this a myth, stating that electoral fraud is rarer in the United States than the number of people killed by lightning.\n",
      "2021-12-17 06:14:10,061 - INFO - joeynmt.training - \tReference:  Or, le Centre Brennan considère cette dernière comme un mythe, affirmant que la fraude électorale est plus rare aux États-Unis que le nombre de personnes tuées par la foudre.\n",
      "2021-12-17 06:14:10,061 - INFO - joeynmt.training - \tHypothesis: Toutefois, le Centre Brennan considère ce mystème : la fraude électorale est rarement ramenée aux États-Unis que le nombre de personnes tuées par la légère.\n",
      "2021-12-17 06:14:10,061 - INFO - joeynmt.training - Example #3\n",
      "2021-12-17 06:14:10,061 - INFO - joeynmt.training - \tSource:     Indeed, Republican lawyers identified only 300 cases of electoral fraud in the United States in a decade.\n",
      "2021-12-17 06:14:10,061 - INFO - joeynmt.training - \tReference:  D'ailleurs, les avocats républicains n'ont recensé que 300 cas de fraude électorale aux États-Unis en dix ans.\n",
      "2021-12-17 06:14:10,061 - INFO - joeynmt.training - \tHypothesis: En effet, les avocats républicains n'ont identifié que 300 cas de fraude électorale aux États-Unis dans une décennie.\n",
      "2021-12-17 06:14:10,062 - INFO - joeynmt.training - Validation result (greedy) at epoch   3, step    50000: bleu:  17.54, loss: 206144.0000, ppl:   9.6635, duration: 144.8079s\n",
      "2021-12-17 06:15:02,525 - INFO - joeynmt.training - Epoch   3, Step:    50200, Batch Loss:     1.526322, Tokens per Sec:    10131, Lr: 0.000300\n",
      "2021-12-17 06:15:55,121 - INFO - joeynmt.training - Epoch   3, Step:    50400, Batch Loss:     1.608452, Tokens per Sec:    10106, Lr: 0.000300\n",
      "2021-12-17 06:16:47,372 - INFO - joeynmt.training - Epoch   3, Step:    50600, Batch Loss:     1.285829, Tokens per Sec:    10144, Lr: 0.000300\n",
      "2021-12-17 06:17:40,175 - INFO - joeynmt.training - Epoch   3, Step:    50800, Batch Loss:     1.617315, Tokens per Sec:    10249, Lr: 0.000300\n",
      "2021-12-17 06:18:32,430 - INFO - joeynmt.training - Epoch   3, Step:    51000, Batch Loss:     1.527740, Tokens per Sec:    10001, Lr: 0.000300\n",
      "2021-12-17 06:19:24,942 - INFO - joeynmt.training - Epoch   3, Step:    51200, Batch Loss:     1.710699, Tokens per Sec:    10019, Lr: 0.000300\n",
      "2021-12-17 06:20:17,221 - INFO - joeynmt.training - Epoch   3, Step:    51400, Batch Loss:     1.564868, Tokens per Sec:    10075, Lr: 0.000300\n",
      "2021-12-17 06:21:09,360 - INFO - joeynmt.training - Epoch   3, Step:    51600, Batch Loss:     1.665267, Tokens per Sec:    10052, Lr: 0.000300\n",
      "2021-12-17 06:22:01,609 - INFO - joeynmt.training - Epoch   3, Step:    51800, Batch Loss:     1.533396, Tokens per Sec:     9972, Lr: 0.000300\n",
      "2021-12-17 06:22:54,190 - INFO - joeynmt.training - Epoch   3, Step:    52000, Batch Loss:     1.444085, Tokens per Sec:    10124, Lr: 0.000300\n",
      "2021-12-17 06:25:11,884 - INFO - joeynmt.training - Hooray! New best validation result [loss]!\n",
      "2021-12-17 06:25:11,884 - INFO - joeynmt.training - Saving new checkpoint.\n",
      "2021-12-17 06:25:14,480 - INFO - joeynmt.training - Example #0\n",
      "2021-12-17 06:25:14,480 - INFO - joeynmt.training - \tSource:     A Republican strategy to counter the re-election of Obama\n",
      "2021-12-17 06:25:14,480 - INFO - joeynmt.training - \tReference:  Une stratégie républicaine pour contrer la réélection d'Obama\n",
      "2021-12-17 06:25:14,480 - INFO - joeynmt.training - \tHypothesis: Une stratégie publiée peut être contraire à la réélection d'Obama\n",
      "2021-12-17 06:25:14,480 - INFO - joeynmt.training - Example #1\n",
      "2021-12-17 06:25:14,481 - INFO - joeynmt.training - \tSource:     Republican leaders justified their policy by the need to combat electoral fraud.\n",
      "2021-12-17 06:25:14,481 - INFO - joeynmt.training - \tReference:  Les dirigeants républicains justifièrent leur politique par la nécessité de lutter contre la fraude électorale.\n",
      "2021-12-17 06:25:14,481 - INFO - joeynmt.training - \tHypothesis: Les dirigeants publics peuvent justifier leur politique en raison de la nécessité de lutter contre la fraude électorale.\n",
      "2021-12-17 06:25:14,481 - INFO - joeynmt.training - Example #2\n",
      "2021-12-17 06:25:14,481 - INFO - joeynmt.training - \tSource:     However, the Brennan Centre considers this a myth, stating that electoral fraud is rarer in the United States than the number of people killed by lightning.\n",
      "2021-12-17 06:25:14,481 - INFO - joeynmt.training - \tReference:  Or, le Centre Brennan considère cette dernière comme un mythe, affirmant que la fraude électorale est plus rare aux États-Unis que le nombre de personnes tuées par la foudre.\n",
      "2021-12-17 06:25:14,481 - INFO - joeynmt.training - \tHypothesis: Cependant, le Centre Brennan considère ce mystème qui affirme que la fraude électorale est plus rarement aux États-Unis que le nombre de personnes tuées par la légère.\n",
      "2021-12-17 06:25:14,481 - INFO - joeynmt.training - Example #3\n",
      "2021-12-17 06:25:14,481 - INFO - joeynmt.training - \tSource:     Indeed, Republican lawyers identified only 300 cases of electoral fraud in the United States in a decade.\n",
      "2021-12-17 06:25:14,482 - INFO - joeynmt.training - \tReference:  D'ailleurs, les avocats républicains n'ont recensé que 300 cas de fraude électorale aux États-Unis en dix ans.\n",
      "2021-12-17 06:25:14,482 - INFO - joeynmt.training - \tHypothesis: En effet, les avocats publics ne identifient que 300 cas de fraude électorale aux États-Unis dans une décennie.\n",
      "2021-12-17 06:25:14,482 - INFO - joeynmt.training - Validation result (greedy) at epoch   3, step    52000: bleu:  17.27, loss: 204811.2188, ppl:   9.5229, duration: 140.2915s\n",
      "2021-12-17 06:26:06,608 - INFO - joeynmt.training - Epoch   3, Step:    52200, Batch Loss:     1.570246, Tokens per Sec:    10101, Lr: 0.000300\n",
      "2021-12-17 06:26:59,141 - INFO - joeynmt.training - Epoch   3, Step:    52400, Batch Loss:     1.444454, Tokens per Sec:    10146, Lr: 0.000300\n",
      "2021-12-17 06:27:51,481 - INFO - joeynmt.training - Epoch   3, Step:    52600, Batch Loss:     1.577451, Tokens per Sec:    10218, Lr: 0.000300\n",
      "2021-12-17 06:28:43,828 - INFO - joeynmt.training - Epoch   3, Step:    52800, Batch Loss:     1.730695, Tokens per Sec:    10159, Lr: 0.000300\n",
      "2021-12-17 06:29:36,188 - INFO - joeynmt.training - Epoch   3, Step:    53000, Batch Loss:     1.695160, Tokens per Sec:    10120, Lr: 0.000300\n",
      "2021-12-17 06:30:28,626 - INFO - joeynmt.training - Epoch   3, Step:    53200, Batch Loss:     1.530844, Tokens per Sec:    10199, Lr: 0.000300\n",
      "2021-12-17 06:31:21,127 - INFO - joeynmt.training - Epoch   3, Step:    53400, Batch Loss:     1.764587, Tokens per Sec:    10167, Lr: 0.000300\n",
      "2021-12-17 06:32:13,214 - INFO - joeynmt.training - Epoch   3, Step:    53600, Batch Loss:     1.614931, Tokens per Sec:    10043, Lr: 0.000300\n",
      "2021-12-17 06:33:05,222 - INFO - joeynmt.training - Epoch   3, Step:    53800, Batch Loss:     1.588347, Tokens per Sec:    10106, Lr: 0.000300\n",
      "2021-12-17 06:33:57,557 - INFO - joeynmt.training - Epoch   3, Step:    54000, Batch Loss:     1.543135, Tokens per Sec:    10145, Lr: 0.000300\n",
      "2021-12-17 06:36:21,755 - INFO - joeynmt.training - Hooray! New best validation result [loss]!\n",
      "2021-12-17 06:36:21,755 - INFO - joeynmt.training - Saving new checkpoint.\n",
      "2021-12-17 06:36:24,351 - INFO - joeynmt.training - Example #0\n",
      "2021-12-17 06:36:24,358 - INFO - joeynmt.training - \tSource:     A Republican strategy to counter the re-election of Obama\n",
      "2021-12-17 06:36:24,358 - INFO - joeynmt.training - \tReference:  Une stratégie républicaine pour contrer la réélection d'Obama\n",
      "2021-12-17 06:36:24,358 - INFO - joeynmt.training - \tHypothesis: Une stratégie républicaine pour contrer la réélection d'Obama\n",
      "2021-12-17 06:36:24,358 - INFO - joeynmt.training - Example #1\n",
      "2021-12-17 06:36:24,359 - INFO - joeynmt.training - \tSource:     Republican leaders justified their policy by the need to combat electoral fraud.\n",
      "2021-12-17 06:36:24,359 - INFO - joeynmt.training - \tReference:  Les dirigeants républicains justifièrent leur politique par la nécessité de lutter contre la fraude électorale.\n",
      "2021-12-17 06:36:24,359 - INFO - joeynmt.training - \tHypothesis: Les dirigeants publics ont justifié leur politique par la nécessité de lutter contre la fraude électorale.\n",
      "2021-12-17 06:36:24,359 - INFO - joeynmt.training - Example #2\n",
      "2021-12-17 06:36:24,359 - INFO - joeynmt.training - \tSource:     However, the Brennan Centre considers this a myth, stating that electoral fraud is rarer in the United States than the number of people killed by lightning.\n",
      "2021-12-17 06:36:24,359 - INFO - joeynmt.training - \tReference:  Or, le Centre Brennan considère cette dernière comme un mythe, affirmant que la fraude électorale est plus rare aux États-Unis que le nombre de personnes tuées par la foudre.\n",
      "2021-12-17 06:36:24,359 - INFO - joeynmt.training - \tHypothesis: Toutefois, le Centre Brennan considère ce mystère en affirmant que la fraude électorale est plus rare, aux États-Unis, que le nombre de personnes tuées par la légère.\n",
      "2021-12-17 06:36:24,359 - INFO - joeynmt.training - Example #3\n",
      "2021-12-17 06:36:24,359 - INFO - joeynmt.training - \tSource:     Indeed, Republican lawyers identified only 300 cases of electoral fraud in the United States in a decade.\n",
      "2021-12-17 06:36:24,359 - INFO - joeynmt.training - \tReference:  D'ailleurs, les avocats républicains n'ont recensé que 300 cas de fraude électorale aux États-Unis en dix ans.\n",
      "2021-12-17 06:36:24,359 - INFO - joeynmt.training - \tHypothesis: En effet, les avocats républicains n'ont identifié que 300 cas de fraude électorale aux États-Unis dans une décennie.\n",
      "2021-12-17 06:36:24,360 - INFO - joeynmt.training - Validation result (greedy) at epoch   3, step    54000: bleu:  17.59, loss: 204191.6875, ppl:   9.4582, duration: 146.8022s\n",
      "2021-12-17 06:37:16,144 - INFO - joeynmt.training - Epoch   3, Step:    54200, Batch Loss:     1.564550, Tokens per Sec:    10036, Lr: 0.000300\n",
      "2021-12-17 06:38:08,197 - INFO - joeynmt.training - Epoch   3, Step:    54400, Batch Loss:     1.628695, Tokens per Sec:    10101, Lr: 0.000300\n",
      "2021-12-17 06:39:01,078 - INFO - joeynmt.training - Epoch   3, Step:    54600, Batch Loss:     1.523754, Tokens per Sec:    10171, Lr: 0.000300\n",
      "2021-12-17 06:39:53,630 - INFO - joeynmt.training - Epoch   3, Step:    54800, Batch Loss:     1.538225, Tokens per Sec:    10150, Lr: 0.000300\n",
      "2021-12-17 06:40:45,614 - INFO - joeynmt.training - Epoch   3, Step:    55000, Batch Loss:     1.667339, Tokens per Sec:     9927, Lr: 0.000300\n",
      "2021-12-17 06:41:37,988 - INFO - joeynmt.training - Epoch   3, Step:    55200, Batch Loss:     1.643208, Tokens per Sec:    10099, Lr: 0.000300\n",
      "2021-12-17 06:42:30,485 - INFO - joeynmt.training - Epoch   3, Step:    55400, Batch Loss:     1.550817, Tokens per Sec:    10145, Lr: 0.000300\n",
      "2021-12-17 06:43:22,749 - INFO - joeynmt.training - Epoch   3, Step:    55600, Batch Loss:     1.781450, Tokens per Sec:    10038, Lr: 0.000300\n",
      "2021-12-17 06:44:15,072 - INFO - joeynmt.training - Epoch   3, Step:    55800, Batch Loss:     1.444948, Tokens per Sec:    10217, Lr: 0.000300\n",
      "2021-12-17 06:45:07,049 - INFO - joeynmt.training - Epoch   3, Step:    56000, Batch Loss:     1.475843, Tokens per Sec:    10087, Lr: 0.000300\n",
      "2021-12-17 06:47:27,020 - INFO - joeynmt.training - Hooray! New best validation result [loss]!\n",
      "2021-12-17 06:47:27,020 - INFO - joeynmt.training - Saving new checkpoint.\n",
      "2021-12-17 06:47:29,617 - INFO - joeynmt.training - Example #0\n",
      "2021-12-17 06:47:29,626 - INFO - joeynmt.training - \tSource:     A Republican strategy to counter the re-election of Obama\n",
      "2021-12-17 06:47:29,626 - INFO - joeynmt.training - \tReference:  Une stratégie républicaine pour contrer la réélection d'Obama\n",
      "2021-12-17 06:47:29,627 - INFO - joeynmt.training - \tHypothesis: Une stratégie républicaine pour contrer la réélection d'Obama\n",
      "2021-12-17 06:47:29,627 - INFO - joeynmt.training - Example #1\n",
      "2021-12-17 06:47:29,627 - INFO - joeynmt.training - \tSource:     Republican leaders justified their policy by the need to combat electoral fraud.\n",
      "2021-12-17 06:47:29,627 - INFO - joeynmt.training - \tReference:  Les dirigeants républicains justifièrent leur politique par la nécessité de lutter contre la fraude électorale.\n",
      "2021-12-17 06:47:29,627 - INFO - joeynmt.training - \tHypothesis: Les dirigeants publics ont justifié leur politique par la nécessité de lutter contre la fraude électorale.\n",
      "2021-12-17 06:47:29,627 - INFO - joeynmt.training - Example #2\n",
      "2021-12-17 06:47:29,627 - INFO - joeynmt.training - \tSource:     However, the Brennan Centre considers this a myth, stating that electoral fraud is rarer in the United States than the number of people killed by lightning.\n",
      "2021-12-17 06:47:29,627 - INFO - joeynmt.training - \tReference:  Or, le Centre Brennan considère cette dernière comme un mythe, affirmant que la fraude électorale est plus rare aux États-Unis que le nombre de personnes tuées par la foudre.\n",
      "2021-12-17 06:47:29,627 - INFO - joeynmt.training - \tHypothesis: Toutefois, le Centre Brennan considère cela comme un mystère, qui affirme que la fraude électorale est rarement plus rarement aux États-Unis que le nombre de personnes tuées par la légère.\n",
      "2021-12-17 06:47:29,627 - INFO - joeynmt.training - Example #3\n",
      "2021-12-17 06:47:29,628 - INFO - joeynmt.training - \tSource:     Indeed, Republican lawyers identified only 300 cases of electoral fraud in the United States in a decade.\n",
      "2021-12-17 06:47:29,628 - INFO - joeynmt.training - \tReference:  D'ailleurs, les avocats républicains n'ont recensé que 300 cas de fraude électorale aux États-Unis en dix ans.\n",
      "2021-12-17 06:47:29,628 - INFO - joeynmt.training - \tHypothesis: En effet, les avocats républicains n'ont identifié que 300 cas de fraude électorale aux États-Unis dans une décennie.\n",
      "2021-12-17 06:47:29,628 - INFO - joeynmt.training - Validation result (greedy) at epoch   3, step    56000: bleu:  17.56, loss: 202041.6562, ppl:   9.2370, duration: 142.5781s\n",
      "2021-12-17 06:48:21,856 - INFO - joeynmt.training - Epoch   3, Step:    56200, Batch Loss:     1.672455, Tokens per Sec:    10111, Lr: 0.000300\n",
      "2021-12-17 06:49:14,288 - INFO - joeynmt.training - Epoch   3, Step:    56400, Batch Loss:     1.727041, Tokens per Sec:    10057, Lr: 0.000300\n",
      "2021-12-17 06:50:06,504 - INFO - joeynmt.training - Epoch   3, Step:    56600, Batch Loss:     1.575119, Tokens per Sec:    10149, Lr: 0.000300\n",
      "2021-12-17 06:50:58,471 - INFO - joeynmt.training - Epoch   3, Step:    56800, Batch Loss:     1.503791, Tokens per Sec:    10147, Lr: 0.000300\n",
      "2021-12-17 06:51:50,840 - INFO - joeynmt.training - Epoch   3, Step:    57000, Batch Loss:     1.646398, Tokens per Sec:    10150, Lr: 0.000300\n",
      "2021-12-17 06:52:43,313 - INFO - joeynmt.training - Epoch   3, Step:    57200, Batch Loss:     1.536858, Tokens per Sec:    10060, Lr: 0.000300\n",
      "2021-12-17 06:53:35,512 - INFO - joeynmt.training - Epoch   3, Step:    57400, Batch Loss:     1.516100, Tokens per Sec:    10055, Lr: 0.000300\n",
      "2021-12-17 06:54:27,442 - INFO - joeynmt.training - Epoch   3, Step:    57600, Batch Loss:     1.756307, Tokens per Sec:    10077, Lr: 0.000300\n",
      "2021-12-17 06:55:20,036 - INFO - joeynmt.training - Epoch   3, Step:    57800, Batch Loss:     1.629624, Tokens per Sec:    10093, Lr: 0.000300\n",
      "2021-12-17 06:56:11,962 - INFO - joeynmt.training - Epoch   3, Step:    58000, Batch Loss:     1.486051, Tokens per Sec:     9968, Lr: 0.000300\n",
      "2021-12-17 06:58:32,521 - INFO - joeynmt.training - Hooray! New best validation result [loss]!\n",
      "2021-12-17 06:58:32,521 - INFO - joeynmt.training - Saving new checkpoint.\n",
      "2021-12-17 06:58:35,121 - INFO - joeynmt.training - Example #0\n",
      "2021-12-17 06:58:35,122 - INFO - joeynmt.training - \tSource:     A Republican strategy to counter the re-election of Obama\n",
      "2021-12-17 06:58:35,122 - INFO - joeynmt.training - \tReference:  Une stratégie républicaine pour contrer la réélection d'Obama\n",
      "2021-12-17 06:58:35,122 - INFO - joeynmt.training - \tHypothesis: Une stratégie républicaine pour contrer la réélection d'Obama\n",
      "2021-12-17 06:58:35,122 - INFO - joeynmt.training - Example #1\n",
      "2021-12-17 06:58:35,122 - INFO - joeynmt.training - \tSource:     Republican leaders justified their policy by the need to combat electoral fraud.\n",
      "2021-12-17 06:58:35,122 - INFO - joeynmt.training - \tReference:  Les dirigeants républicains justifièrent leur politique par la nécessité de lutter contre la fraude électorale.\n",
      "2021-12-17 06:58:35,122 - INFO - joeynmt.training - \tHypothesis: Les dirigeants publics ont justifié leur politique par la nécessité de combattre la fraude électorale.\n",
      "2021-12-17 06:58:35,123 - INFO - joeynmt.training - Example #2\n",
      "2021-12-17 06:58:35,123 - INFO - joeynmt.training - \tSource:     However, the Brennan Centre considers this a myth, stating that electoral fraud is rarer in the United States than the number of people killed by lightning.\n",
      "2021-12-17 06:58:35,123 - INFO - joeynmt.training - \tReference:  Or, le Centre Brennan considère cette dernière comme un mythe, affirmant que la fraude électorale est plus rare aux États-Unis que le nombre de personnes tuées par la foudre.\n",
      "2021-12-17 06:58:35,123 - INFO - joeynmt.training - \tHypothesis: Cependant, le Centre Brennan considère ce mystère, en disant que la fraude électorale est plus rarement aux États-Unis que le nombre de personnes tuées par la légère.\n",
      "2021-12-17 06:58:35,123 - INFO - joeynmt.training - Example #3\n",
      "2021-12-17 06:58:35,123 - INFO - joeynmt.training - \tSource:     Indeed, Republican lawyers identified only 300 cases of electoral fraud in the United States in a decade.\n",
      "2021-12-17 06:58:35,123 - INFO - joeynmt.training - \tReference:  D'ailleurs, les avocats républicains n'ont recensé que 300 cas de fraude électorale aux États-Unis en dix ans.\n",
      "2021-12-17 06:58:35,123 - INFO - joeynmt.training - \tHypothesis: En effet, les avocats républicains ont identifié seulement 300 cas de fraude électorale aux États-Unis dans une décennie.\n",
      "2021-12-17 06:58:35,123 - INFO - joeynmt.training - Validation result (greedy) at epoch   3, step    58000: bleu:  18.07, loss: 201163.8906, ppl:   9.1482, duration: 143.1605s\n",
      "2021-12-17 06:59:27,081 - INFO - joeynmt.training - Epoch   3, Step:    58200, Batch Loss:     1.563320, Tokens per Sec:    10092, Lr: 0.000300\n",
      "2021-12-17 07:00:19,956 - INFO - joeynmt.training - Epoch   3, Step:    58400, Batch Loss:     1.539278, Tokens per Sec:    10283, Lr: 0.000300\n",
      "2021-12-17 07:01:12,146 - INFO - joeynmt.training - Epoch   3, Step:    58600, Batch Loss:     1.502356, Tokens per Sec:    10166, Lr: 0.000300\n",
      "2021-12-17 07:02:04,098 - INFO - joeynmt.training - Epoch   3, Step:    58800, Batch Loss:     1.511774, Tokens per Sec:    10019, Lr: 0.000300\n",
      "2021-12-17 07:02:56,124 - INFO - joeynmt.training - Epoch   3, Step:    59000, Batch Loss:     1.421935, Tokens per Sec:    10012, Lr: 0.000300\n",
      "2021-12-17 07:03:48,074 - INFO - joeynmt.training - Epoch   3, Step:    59200, Batch Loss:     1.561633, Tokens per Sec:    10040, Lr: 0.000300\n",
      "2021-12-17 07:04:40,121 - INFO - joeynmt.training - Epoch   3, Step:    59400, Batch Loss:     1.444862, Tokens per Sec:    10076, Lr: 0.000300\n",
      "2021-12-17 07:05:32,610 - INFO - joeynmt.training - Epoch   3, Step:    59600, Batch Loss:     1.619364, Tokens per Sec:    10231, Lr: 0.000300\n",
      "2021-12-17 07:06:24,785 - INFO - joeynmt.training - Epoch   3, Step:    59800, Batch Loss:     1.626442, Tokens per Sec:    10200, Lr: 0.000300\n",
      "2021-12-17 07:07:16,637 - INFO - joeynmt.training - Epoch   3, Step:    60000, Batch Loss:     1.140561, Tokens per Sec:     9939, Lr: 0.000300\n",
      "2021-12-17 07:09:38,046 - INFO - joeynmt.training - Hooray! New best validation result [loss]!\n",
      "2021-12-17 07:09:38,047 - INFO - joeynmt.training - Saving new checkpoint.\n",
      "2021-12-17 07:09:40,640 - INFO - joeynmt.training - Example #0\n",
      "2021-12-17 07:09:40,640 - INFO - joeynmt.training - \tSource:     A Republican strategy to counter the re-election of Obama\n",
      "2021-12-17 07:09:40,640 - INFO - joeynmt.training - \tReference:  Une stratégie républicaine pour contrer la réélection d'Obama\n",
      "2021-12-17 07:09:40,640 - INFO - joeynmt.training - \tHypothesis: Une stratégie république pour contrer la réélection d'Obama est une stratégie républicante.\n",
      "2021-12-17 07:09:40,641 - INFO - joeynmt.training - Example #1\n",
      "2021-12-17 07:09:40,641 - INFO - joeynmt.training - \tSource:     Republican leaders justified their policy by the need to combat electoral fraud.\n",
      "2021-12-17 07:09:40,641 - INFO - joeynmt.training - \tReference:  Les dirigeants républicains justifièrent leur politique par la nécessité de lutter contre la fraude électorale.\n",
      "2021-12-17 07:09:40,641 - INFO - joeynmt.training - \tHypothesis: Les dirigeants républicains ont justifié leur politique en raison de la nécessité de lutter contre la fraude électorale.\n",
      "2021-12-17 07:09:40,641 - INFO - joeynmt.training - Example #2\n",
      "2021-12-17 07:09:40,641 - INFO - joeynmt.training - \tSource:     However, the Brennan Centre considers this a myth, stating that electoral fraud is rarer in the United States than the number of people killed by lightning.\n",
      "2021-12-17 07:09:40,641 - INFO - joeynmt.training - \tReference:  Or, le Centre Brennan considère cette dernière comme un mythe, affirmant que la fraude électorale est plus rare aux États-Unis que le nombre de personnes tuées par la foudre.\n",
      "2021-12-17 07:09:40,641 - INFO - joeynmt.training - \tHypothesis: Le Centre Brennan estime toutefois que la fraude électorale est plus rarement aux États-Unis que le nombre de personnes tuées par la légère.\n",
      "2021-12-17 07:09:40,641 - INFO - joeynmt.training - Example #3\n",
      "2021-12-17 07:09:40,641 - INFO - joeynmt.training - \tSource:     Indeed, Republican lawyers identified only 300 cases of electoral fraud in the United States in a decade.\n",
      "2021-12-17 07:09:40,641 - INFO - joeynmt.training - \tReference:  D'ailleurs, les avocats républicains n'ont recensé que 300 cas de fraude électorale aux États-Unis en dix ans.\n",
      "2021-12-17 07:09:40,641 - INFO - joeynmt.training - \tHypothesis: En effet, les avocats républicains n'ont identifié que 300 cas de fraude électorale aux États-Unis dans une décennie.\n",
      "2021-12-17 07:09:40,642 - INFO - joeynmt.training - Validation result (greedy) at epoch   3, step    60000: bleu:  18.10, loss: 200568.8281, ppl:   9.0885, duration: 144.0038s\n",
      "2021-12-17 07:10:33,319 - INFO - joeynmt.training - Epoch   3, Step:    60200, Batch Loss:     1.712272, Tokens per Sec:    10135, Lr: 0.000300\n",
      "2021-12-17 07:11:25,271 - INFO - joeynmt.training - Epoch   3, Step:    60400, Batch Loss:     1.496397, Tokens per Sec:    10051, Lr: 0.000300\n",
      "2021-12-17 07:12:17,374 - INFO - joeynmt.training - Epoch   3, Step:    60600, Batch Loss:     1.504483, Tokens per Sec:    10144, Lr: 0.000300\n",
      "2021-12-17 07:13:09,570 - INFO - joeynmt.training - Epoch   3, Step:    60800, Batch Loss:     1.637090, Tokens per Sec:    10099, Lr: 0.000300\n",
      "2021-12-17 07:14:02,064 - INFO - joeynmt.training - Epoch   3, Step:    61000, Batch Loss:     1.523667, Tokens per Sec:    10188, Lr: 0.000300\n",
      "2021-12-17 07:14:53,606 - INFO - joeynmt.training - Epoch   3, Step:    61200, Batch Loss:     1.754856, Tokens per Sec:     9976, Lr: 0.000300\n",
      "2021-12-17 07:15:46,243 - INFO - joeynmt.training - Epoch   3, Step:    61400, Batch Loss:     1.616148, Tokens per Sec:    10160, Lr: 0.000300\n",
      "2021-12-17 07:16:38,434 - INFO - joeynmt.training - Epoch   3, Step:    61600, Batch Loss:     1.772338, Tokens per Sec:    10103, Lr: 0.000300\n",
      "2021-12-17 07:17:30,690 - INFO - joeynmt.training - Epoch   3, Step:    61800, Batch Loss:     1.501513, Tokens per Sec:    10106, Lr: 0.000300\n",
      "2021-12-17 07:18:22,773 - INFO - joeynmt.training - Epoch   3, Step:    62000, Batch Loss:     1.576429, Tokens per Sec:    10121, Lr: 0.000300\n",
      "2021-12-17 07:20:45,376 - INFO - joeynmt.training - Hooray! New best validation result [loss]!\n",
      "2021-12-17 07:20:45,376 - INFO - joeynmt.training - Saving new checkpoint.\n",
      "2021-12-17 07:20:47,974 - INFO - joeynmt.training - Example #0\n",
      "2021-12-17 07:20:47,978 - INFO - joeynmt.training - \tSource:     A Republican strategy to counter the re-election of Obama\n",
      "2021-12-17 07:20:47,978 - INFO - joeynmt.training - \tReference:  Une stratégie républicaine pour contrer la réélection d'Obama\n",
      "2021-12-17 07:20:47,978 - INFO - joeynmt.training - \tHypothesis: Une stratégie républicaine pour contrer la réélection d'Obama\n",
      "2021-12-17 07:20:47,978 - INFO - joeynmt.training - Example #1\n",
      "2021-12-17 07:20:47,978 - INFO - joeynmt.training - \tSource:     Republican leaders justified their policy by the need to combat electoral fraud.\n",
      "2021-12-17 07:20:47,979 - INFO - joeynmt.training - \tReference:  Les dirigeants républicains justifièrent leur politique par la nécessité de lutter contre la fraude électorale.\n",
      "2021-12-17 07:20:47,979 - INFO - joeynmt.training - \tHypothesis: Les dirigeants républicains ont justifié leur politique par la nécessité de lutter contre la fraude électorale.\n",
      "2021-12-17 07:20:47,979 - INFO - joeynmt.training - Example #2\n",
      "2021-12-17 07:20:47,979 - INFO - joeynmt.training - \tSource:     However, the Brennan Centre considers this a myth, stating that electoral fraud is rarer in the United States than the number of people killed by lightning.\n",
      "2021-12-17 07:20:47,979 - INFO - joeynmt.training - \tReference:  Or, le Centre Brennan considère cette dernière comme un mythe, affirmant que la fraude électorale est plus rare aux États-Unis que le nombre de personnes tuées par la foudre.\n",
      "2021-12-17 07:20:47,979 - INFO - joeynmt.training - \tHypothesis: Toutefois, le Centre Brennan considère ce mythe, qui dit que la fraude électorale est plus rarement aux États-Unis que le nombre de personnes tuées par la légère.\n",
      "2021-12-17 07:20:47,979 - INFO - joeynmt.training - Example #3\n",
      "2021-12-17 07:20:47,979 - INFO - joeynmt.training - \tSource:     Indeed, Republican lawyers identified only 300 cases of electoral fraud in the United States in a decade.\n",
      "2021-12-17 07:20:47,979 - INFO - joeynmt.training - \tReference:  D'ailleurs, les avocats républicains n'ont recensé que 300 cas de fraude électorale aux États-Unis en dix ans.\n",
      "2021-12-17 07:20:47,979 - INFO - joeynmt.training - \tHypothesis: En effet, les avocats républicains ont identifié seulement 300 cas de fraude électorale aux États-Unis dans une décennie.\n",
      "2021-12-17 07:20:47,979 - INFO - joeynmt.training - Validation result (greedy) at epoch   3, step    62000: bleu:  18.00, loss: 199738.5469, ppl:   9.0059, duration: 145.2064s\n",
      "2021-12-17 07:21:40,444 - INFO - joeynmt.training - Epoch   3, Step:    62200, Batch Loss:     1.512303, Tokens per Sec:    10180, Lr: 0.000300\n",
      "2021-12-17 07:22:32,613 - INFO - joeynmt.training - Epoch   3, Step:    62400, Batch Loss:     1.654771, Tokens per Sec:    10102, Lr: 0.000300\n",
      "2021-12-17 07:23:24,966 - INFO - joeynmt.training - Epoch   3, Step:    62600, Batch Loss:     1.533421, Tokens per Sec:    10004, Lr: 0.000300\n",
      "2021-12-17 07:24:17,149 - INFO - joeynmt.training - Epoch   3, Step:    62800, Batch Loss:     1.459480, Tokens per Sec:    10037, Lr: 0.000300\n",
      "2021-12-17 07:25:09,201 - INFO - joeynmt.training - Epoch   3, Step:    63000, Batch Loss:     1.684779, Tokens per Sec:    10158, Lr: 0.000300\n",
      "2021-12-17 07:26:02,004 - INFO - joeynmt.training - Epoch   3, Step:    63200, Batch Loss:     1.756726, Tokens per Sec:    10113, Lr: 0.000300\n",
      "2021-12-17 07:26:54,514 - INFO - joeynmt.training - Epoch   3, Step:    63400, Batch Loss:     1.626764, Tokens per Sec:    10166, Lr: 0.000300\n",
      "2021-12-17 07:27:46,512 - INFO - joeynmt.training - Epoch   3, Step:    63600, Batch Loss:     1.621944, Tokens per Sec:    10139, Lr: 0.000300\n",
      "2021-12-17 07:28:38,943 - INFO - joeynmt.training - Epoch   3, Step:    63800, Batch Loss:     1.531819, Tokens per Sec:    10061, Lr: 0.000300\n",
      "2021-12-17 07:29:31,419 - INFO - joeynmt.training - Epoch   3, Step:    64000, Batch Loss:     1.697580, Tokens per Sec:    10174, Lr: 0.000300\n",
      "2021-12-17 07:31:52,031 - INFO - joeynmt.training - Hooray! New best validation result [loss]!\n",
      "2021-12-17 07:31:52,032 - INFO - joeynmt.training - Saving new checkpoint.\n",
      "2021-12-17 07:31:54,634 - INFO - joeynmt.training - Example #0\n",
      "2021-12-17 07:31:54,640 - INFO - joeynmt.training - \tSource:     A Republican strategy to counter the re-election of Obama\n",
      "2021-12-17 07:31:54,640 - INFO - joeynmt.training - \tReference:  Une stratégie républicaine pour contrer la réélection d'Obama\n",
      "2021-12-17 07:31:54,641 - INFO - joeynmt.training - \tHypothesis: Une stratégie républicaine visant à contrer la réélection d'Obama\n",
      "2021-12-17 07:31:54,641 - INFO - joeynmt.training - Example #1\n",
      "2021-12-17 07:31:54,641 - INFO - joeynmt.training - \tSource:     Republican leaders justified their policy by the need to combat electoral fraud.\n",
      "2021-12-17 07:31:54,641 - INFO - joeynmt.training - \tReference:  Les dirigeants républicains justifièrent leur politique par la nécessité de lutter contre la fraude électorale.\n",
      "2021-12-17 07:31:54,641 - INFO - joeynmt.training - \tHypothesis: Les dirigeants républicains ont justifié leur politique en raison de la nécessité de lutter contre la fraude électorale.\n",
      "2021-12-17 07:31:54,641 - INFO - joeynmt.training - Example #2\n",
      "2021-12-17 07:31:54,641 - INFO - joeynmt.training - \tSource:     However, the Brennan Centre considers this a myth, stating that electoral fraud is rarer in the United States than the number of people killed by lightning.\n",
      "2021-12-17 07:31:54,641 - INFO - joeynmt.training - \tReference:  Or, le Centre Brennan considère cette dernière comme un mythe, affirmant que la fraude électorale est plus rare aux États-Unis que le nombre de personnes tuées par la foudre.\n",
      "2021-12-17 07:31:54,641 - INFO - joeynmt.training - \tHypothesis: Toutefois, le Centre Brennan considère cette myope en disant que la fraude électorale est plus rarement aux États-Unis que le nombre de personnes tuées par un éclairage.\n",
      "2021-12-17 07:31:54,641 - INFO - joeynmt.training - Example #3\n",
      "2021-12-17 07:31:54,642 - INFO - joeynmt.training - \tSource:     Indeed, Republican lawyers identified only 300 cases of electoral fraud in the United States in a decade.\n",
      "2021-12-17 07:31:54,642 - INFO - joeynmt.training - \tReference:  D'ailleurs, les avocats républicains n'ont recensé que 300 cas de fraude électorale aux États-Unis en dix ans.\n",
      "2021-12-17 07:31:54,642 - INFO - joeynmt.training - \tHypothesis: En effet, les avocats républicains n'ont identifié que 300 cas de fraude électorale aux États-Unis dans une décennie.\n",
      "2021-12-17 07:31:54,642 - INFO - joeynmt.training - Validation result (greedy) at epoch   3, step    64000: bleu:  18.19, loss: 197779.2969, ppl:   8.8138, duration: 143.2226s\n",
      "2021-12-17 07:32:46,989 - INFO - joeynmt.training - Epoch   3, Step:    64200, Batch Loss:     1.559952, Tokens per Sec:    10141, Lr: 0.000300\n",
      "2021-12-17 07:33:39,077 - INFO - joeynmt.training - Epoch   3, Step:    64400, Batch Loss:     1.325765, Tokens per Sec:    10015, Lr: 0.000300\n",
      "2021-12-17 07:34:31,287 - INFO - joeynmt.training - Epoch   3, Step:    64600, Batch Loss:     1.613983, Tokens per Sec:    10058, Lr: 0.000300\n",
      "2021-12-17 07:35:23,310 - INFO - joeynmt.training - Epoch   3, Step:    64800, Batch Loss:     1.605607, Tokens per Sec:    10113, Lr: 0.000300\n",
      "2021-12-17 07:36:15,459 - INFO - joeynmt.training - Epoch   3, Step:    65000, Batch Loss:     1.744980, Tokens per Sec:    10129, Lr: 0.000300\n",
      "2021-12-17 07:37:07,742 - INFO - joeynmt.training - Epoch   3, Step:    65200, Batch Loss:     1.463507, Tokens per Sec:    10081, Lr: 0.000300\n",
      "2021-12-17 07:38:00,312 - INFO - joeynmt.training - Epoch   3, Step:    65400, Batch Loss:     1.396227, Tokens per Sec:    10214, Lr: 0.000300\n",
      "2021-12-17 07:38:52,342 - INFO - joeynmt.training - Epoch   3, Step:    65600, Batch Loss:     1.496196, Tokens per Sec:    10140, Lr: 0.000300\n",
      "2021-12-17 07:39:44,612 - INFO - joeynmt.training - Epoch   3, Step:    65800, Batch Loss:     1.579207, Tokens per Sec:    10173, Lr: 0.000300\n",
      "2021-12-17 07:40:36,948 - INFO - joeynmt.training - Epoch   3, Step:    66000, Batch Loss:     1.594057, Tokens per Sec:    10102, Lr: 0.000300\n",
      "2021-12-17 07:42:59,466 - INFO - joeynmt.training - Hooray! New best validation result [loss]!\n",
      "2021-12-17 07:42:59,466 - INFO - joeynmt.training - Saving new checkpoint.\n",
      "2021-12-17 07:43:02,054 - INFO - joeynmt.training - Example #0\n",
      "2021-12-17 07:43:02,055 - INFO - joeynmt.training - \tSource:     A Republican strategy to counter the re-election of Obama\n",
      "2021-12-17 07:43:02,055 - INFO - joeynmt.training - \tReference:  Une stratégie républicaine pour contrer la réélection d'Obama\n",
      "2021-12-17 07:43:02,055 - INFO - joeynmt.training - \tHypothesis: Une stratégie république visant à contrer la réélection d'Obama\n",
      "2021-12-17 07:43:02,055 - INFO - joeynmt.training - Example #1\n",
      "2021-12-17 07:43:02,055 - INFO - joeynmt.training - \tSource:     Republican leaders justified their policy by the need to combat electoral fraud.\n",
      "2021-12-17 07:43:02,055 - INFO - joeynmt.training - \tReference:  Les dirigeants républicains justifièrent leur politique par la nécessité de lutter contre la fraude électorale.\n",
      "2021-12-17 07:43:02,055 - INFO - joeynmt.training - \tHypothesis: Les dirigeants républicains ont justifié leur politique en raison de la nécessité de lutter contre la fraude électorale.\n",
      "2021-12-17 07:43:02,055 - INFO - joeynmt.training - Example #2\n",
      "2021-12-17 07:43:02,056 - INFO - joeynmt.training - \tSource:     However, the Brennan Centre considers this a myth, stating that electoral fraud is rarer in the United States than the number of people killed by lightning.\n",
      "2021-12-17 07:43:02,056 - INFO - joeynmt.training - \tReference:  Or, le Centre Brennan considère cette dernière comme un mythe, affirmant que la fraude électorale est plus rare aux États-Unis que le nombre de personnes tuées par la foudre.\n",
      "2021-12-17 07:43:02,056 - INFO - joeynmt.training - \tHypothesis: Cependant, le Centre Brennan considère ce mythe en affirmant que la fraude électorale est plus rarement aux États-Unis que le nombre de personnes tuées par la légère.\n",
      "2021-12-17 07:43:02,056 - INFO - joeynmt.training - Example #3\n",
      "2021-12-17 07:43:02,056 - INFO - joeynmt.training - \tSource:     Indeed, Republican lawyers identified only 300 cases of electoral fraud in the United States in a decade.\n",
      "2021-12-17 07:43:02,056 - INFO - joeynmt.training - \tReference:  D'ailleurs, les avocats républicains n'ont recensé que 300 cas de fraude électorale aux États-Unis en dix ans.\n",
      "2021-12-17 07:43:02,056 - INFO - joeynmt.training - \tHypothesis: En effet, les avocats publics républicains n'ont identifié que 300 cas de fraude électorale aux États-Unis en une décennie.\n",
      "2021-12-17 07:43:02,056 - INFO - joeynmt.training - Validation result (greedy) at epoch   3, step    66000: bleu:  18.25, loss: 196859.8125, ppl:   8.7251, duration: 145.1078s\n",
      "2021-12-17 07:43:54,226 - INFO - joeynmt.training - Epoch   3, Step:    66200, Batch Loss:     1.555792, Tokens per Sec:    10054, Lr: 0.000300\n",
      "2021-12-17 07:44:46,122 - INFO - joeynmt.training - Epoch   3, Step:    66400, Batch Loss:     1.759611, Tokens per Sec:     9945, Lr: 0.000300\n",
      "2021-12-17 07:45:38,297 - INFO - joeynmt.training - Epoch   3, Step:    66600, Batch Loss:     1.496611, Tokens per Sec:    10156, Lr: 0.000300\n",
      "2021-12-17 07:46:30,641 - INFO - joeynmt.training - Epoch   3, Step:    66800, Batch Loss:     1.443545, Tokens per Sec:    10101, Lr: 0.000300\n",
      "2021-12-17 07:47:22,938 - INFO - joeynmt.training - Epoch   3, Step:    67000, Batch Loss:     1.399713, Tokens per Sec:    10141, Lr: 0.000300\n",
      "2021-12-17 07:48:15,189 - INFO - joeynmt.training - Epoch   3, Step:    67200, Batch Loss:     1.506092, Tokens per Sec:    10127, Lr: 0.000300\n",
      "2021-12-17 07:49:07,617 - INFO - joeynmt.training - Epoch   3, Step:    67400, Batch Loss:     1.403249, Tokens per Sec:    10020, Lr: 0.000300\n",
      "2021-12-17 07:49:59,965 - INFO - joeynmt.training - Epoch   3, Step:    67600, Batch Loss:     1.466093, Tokens per Sec:    10168, Lr: 0.000300\n",
      "2021-12-17 07:50:51,959 - INFO - joeynmt.training - Epoch   3, Step:    67800, Batch Loss:     1.213686, Tokens per Sec:    10058, Lr: 0.000300\n",
      "2021-12-17 07:51:44,235 - INFO - joeynmt.training - Epoch   3, Step:    68000, Batch Loss:     1.464517, Tokens per Sec:    10125, Lr: 0.000300\n",
      "2021-12-17 07:54:08,082 - INFO - joeynmt.training - Example #0\n",
      "2021-12-17 07:54:08,090 - INFO - joeynmt.training - \tSource:     A Republican strategy to counter the re-election of Obama\n",
      "2021-12-17 07:54:08,090 - INFO - joeynmt.training - \tReference:  Une stratégie républicaine pour contrer la réélection d'Obama\n",
      "2021-12-17 07:54:08,090 - INFO - joeynmt.training - \tHypothesis: Une stratégie république contre la réélection d'Obama\n",
      "2021-12-17 07:54:08,090 - INFO - joeynmt.training - Example #1\n",
      "2021-12-17 07:54:08,090 - INFO - joeynmt.training - \tSource:     Republican leaders justified their policy by the need to combat electoral fraud.\n",
      "2021-12-17 07:54:08,090 - INFO - joeynmt.training - \tReference:  Les dirigeants républicains justifièrent leur politique par la nécessité de lutter contre la fraude électorale.\n",
      "2021-12-17 07:54:08,090 - INFO - joeynmt.training - \tHypothesis: Les dirigeants républicains ont justifié leur politique en raison de la nécessité de lutter contre la fraude électorale.\n",
      "2021-12-17 07:54:08,090 - INFO - joeynmt.training - Example #2\n",
      "2021-12-17 07:54:08,091 - INFO - joeynmt.training - \tSource:     However, the Brennan Centre considers this a myth, stating that electoral fraud is rarer in the United States than the number of people killed by lightning.\n",
      "2021-12-17 07:54:08,091 - INFO - joeynmt.training - \tReference:  Or, le Centre Brennan considère cette dernière comme un mythe, affirmant que la fraude électorale est plus rare aux États-Unis que le nombre de personnes tuées par la foudre.\n",
      "2021-12-17 07:54:08,091 - INFO - joeynmt.training - \tHypothesis: Cependant, le Centre Brennan considère ce mystère en déclarant que la fraude électorale est plus rare, aux États-Unis que le nombre de personnes tuées par la lumière.\n",
      "2021-12-17 07:54:08,091 - INFO - joeynmt.training - Example #3\n",
      "2021-12-17 07:54:08,091 - INFO - joeynmt.training - \tSource:     Indeed, Republican lawyers identified only 300 cases of electoral fraud in the United States in a decade.\n",
      "2021-12-17 07:54:08,091 - INFO - joeynmt.training - \tReference:  D'ailleurs, les avocats républicains n'ont recensé que 300 cas de fraude électorale aux États-Unis en dix ans.\n",
      "2021-12-17 07:54:08,091 - INFO - joeynmt.training - \tHypothesis: En effet, les avocats républicains n'ont identifié que 300 cas de fraude électorale aux États-Unis dans une décennie.\n",
      "2021-12-17 07:54:08,091 - INFO - joeynmt.training - Validation result (greedy) at epoch   3, step    68000: bleu:  18.57, loss: 197035.4062, ppl:   8.7419, duration: 143.8563s\n",
      "2021-12-17 07:55:00,650 - INFO - joeynmt.training - Epoch   3, Step:    68200, Batch Loss:     1.485322, Tokens per Sec:    10172, Lr: 0.000300\n",
      "2021-12-17 07:55:52,594 - INFO - joeynmt.training - Epoch   3, Step:    68400, Batch Loss:     1.400105, Tokens per Sec:    10081, Lr: 0.000300\n",
      "2021-12-17 07:56:44,843 - INFO - joeynmt.training - Epoch   3, Step:    68600, Batch Loss:     1.780729, Tokens per Sec:    10101, Lr: 0.000300\n",
      "2021-12-17 07:57:36,980 - INFO - joeynmt.training - Epoch   3, Step:    68800, Batch Loss:     1.513478, Tokens per Sec:    10194, Lr: 0.000300\n",
      "2021-12-17 07:58:28,800 - INFO - joeynmt.training - Epoch   3, Step:    69000, Batch Loss:     1.836933, Tokens per Sec:     9983, Lr: 0.000300\n",
      "2021-12-17 07:59:21,086 - INFO - joeynmt.training - Epoch   3, Step:    69200, Batch Loss:     1.631401, Tokens per Sec:    10195, Lr: 0.000300\n",
      "2021-12-17 08:00:13,850 - INFO - joeynmt.training - Epoch   3, Step:    69400, Batch Loss:     1.535434, Tokens per Sec:    10242, Lr: 0.000300\n",
      "2021-12-17 08:01:06,588 - INFO - joeynmt.training - Epoch   3, Step:    69600, Batch Loss:     1.391498, Tokens per Sec:    10108, Lr: 0.000300\n",
      "2021-12-17 08:01:58,872 - INFO - joeynmt.training - Epoch   3, Step:    69800, Batch Loss:     1.792002, Tokens per Sec:    10234, Lr: 0.000300\n",
      "2021-12-17 08:02:51,148 - INFO - joeynmt.training - Epoch   3, Step:    70000, Batch Loss:     1.486670, Tokens per Sec:    10066, Lr: 0.000300\n",
      "2021-12-17 08:05:14,815 - INFO - joeynmt.training - Hooray! New best validation result [loss]!\n",
      "2021-12-17 08:05:14,815 - INFO - joeynmt.training - Saving new checkpoint.\n",
      "2021-12-17 08:05:17,424 - INFO - joeynmt.training - Example #0\n",
      "2021-12-17 08:05:17,425 - INFO - joeynmt.training - \tSource:     A Republican strategy to counter the re-election of Obama\n",
      "2021-12-17 08:05:17,425 - INFO - joeynmt.training - \tReference:  Une stratégie républicaine pour contrer la réélection d'Obama\n",
      "2021-12-17 08:05:17,425 - INFO - joeynmt.training - \tHypothesis: Une stratégie république pour contrer la réélection d'Obama\n",
      "2021-12-17 08:05:17,425 - INFO - joeynmt.training - Example #1\n",
      "2021-12-17 08:05:17,425 - INFO - joeynmt.training - \tSource:     Republican leaders justified their policy by the need to combat electoral fraud.\n",
      "2021-12-17 08:05:17,426 - INFO - joeynmt.training - \tReference:  Les dirigeants républicains justifièrent leur politique par la nécessité de lutter contre la fraude électorale.\n",
      "2021-12-17 08:05:17,426 - INFO - joeynmt.training - \tHypothesis: Les dirigeants républicains ont justifié leur politique en raison de la nécessité de lutter contre la fraude électorale.\n",
      "2021-12-17 08:05:17,426 - INFO - joeynmt.training - Example #2\n",
      "2021-12-17 08:05:17,426 - INFO - joeynmt.training - \tSource:     However, the Brennan Centre considers this a myth, stating that electoral fraud is rarer in the United States than the number of people killed by lightning.\n",
      "2021-12-17 08:05:17,426 - INFO - joeynmt.training - \tReference:  Or, le Centre Brennan considère cette dernière comme un mythe, affirmant que la fraude électorale est plus rare aux États-Unis que le nombre de personnes tuées par la foudre.\n",
      "2021-12-17 08:05:17,426 - INFO - joeynmt.training - \tHypothesis: Toutefois, le Centre Brennan considère ce mythe en déclarant que la fraude électorale est plus rare, aux États-Unis, que le nombre de personnes tuées par la légère.\n",
      "2021-12-17 08:05:17,426 - INFO - joeynmt.training - Example #3\n",
      "2021-12-17 08:05:17,426 - INFO - joeynmt.training - \tSource:     Indeed, Republican lawyers identified only 300 cases of electoral fraud in the United States in a decade.\n",
      "2021-12-17 08:05:17,426 - INFO - joeynmt.training - \tReference:  D'ailleurs, les avocats républicains n'ont recensé que 300 cas de fraude électorale aux États-Unis en dix ans.\n",
      "2021-12-17 08:05:17,426 - INFO - joeynmt.training - \tHypothesis: En effet, les avocats républicains n'ont identifié que 300 cas de fraude électorale aux États-Unis en une décennie.\n",
      "2021-12-17 08:05:17,427 - INFO - joeynmt.training - Validation result (greedy) at epoch   3, step    70000: bleu:  18.52, loss: 195443.6406, ppl:   8.5901, duration: 146.2780s\n",
      "2021-12-17 08:06:09,707 - INFO - joeynmt.training - Epoch   3, Step:    70200, Batch Loss:     1.521869, Tokens per Sec:    10069, Lr: 0.000300\n",
      "2021-12-17 08:06:54,867 - INFO - joeynmt.training - Epoch   3: total training loss 36744.73\n",
      "2021-12-17 08:06:54,867 - INFO - joeynmt.training - EPOCH 4\n",
      "2021-12-17 08:07:05,027 - INFO - joeynmt.training - Epoch   4, Step:    70400, Batch Loss:     1.617669, Tokens per Sec:     6656, Lr: 0.000300\n",
      "2021-12-17 08:07:57,608 - INFO - joeynmt.training - Epoch   4, Step:    70600, Batch Loss:     1.483811, Tokens per Sec:    10169, Lr: 0.000300\n",
      "2021-12-17 08:08:50,147 - INFO - joeynmt.training - Epoch   4, Step:    70800, Batch Loss:     1.431320, Tokens per Sec:    10075, Lr: 0.000300\n",
      "2021-12-17 08:09:42,262 - INFO - joeynmt.training - Epoch   4, Step:    71000, Batch Loss:     1.278803, Tokens per Sec:    10133, Lr: 0.000300\n",
      "2021-12-17 08:10:34,577 - INFO - joeynmt.training - Epoch   4, Step:    71200, Batch Loss:     1.544492, Tokens per Sec:    10138, Lr: 0.000300\n",
      "2021-12-17 08:11:27,015 - INFO - joeynmt.training - Epoch   4, Step:    71400, Batch Loss:     1.461279, Tokens per Sec:    10092, Lr: 0.000300\n",
      "2021-12-17 08:12:19,091 - INFO - joeynmt.training - Epoch   4, Step:    71600, Batch Loss:     1.704790, Tokens per Sec:    10058, Lr: 0.000300\n",
      "2021-12-17 08:13:11,159 - INFO - joeynmt.training - Epoch   4, Step:    71800, Batch Loss:     1.364482, Tokens per Sec:    10102, Lr: 0.000300\n",
      "2021-12-17 08:14:03,416 - INFO - joeynmt.training - Epoch   4, Step:    72000, Batch Loss:     1.523381, Tokens per Sec:    10177, Lr: 0.000300\n",
      "2021-12-17 08:16:23,334 - INFO - joeynmt.training - Hooray! New best validation result [loss]!\n",
      "2021-12-17 08:16:23,334 - INFO - joeynmt.training - Saving new checkpoint.\n",
      "2021-12-17 08:16:25,940 - INFO - joeynmt.training - Example #0\n",
      "2021-12-17 08:16:25,944 - INFO - joeynmt.training - \tSource:     A Republican strategy to counter the re-election of Obama\n",
      "2021-12-17 08:16:25,944 - INFO - joeynmt.training - \tReference:  Une stratégie républicaine pour contrer la réélection d'Obama\n",
      "2021-12-17 08:16:25,944 - INFO - joeynmt.training - \tHypothesis: Une stratégie républicaine pour contrer la réélection d'Obama\n",
      "2021-12-17 08:16:25,944 - INFO - joeynmt.training - Example #1\n",
      "2021-12-17 08:16:25,944 - INFO - joeynmt.training - \tSource:     Republican leaders justified their policy by the need to combat electoral fraud.\n",
      "2021-12-17 08:16:25,944 - INFO - joeynmt.training - \tReference:  Les dirigeants républicains justifièrent leur politique par la nécessité de lutter contre la fraude électorale.\n",
      "2021-12-17 08:16:25,944 - INFO - joeynmt.training - \tHypothesis: Les dirigeants républicains ont justifié leur politique en raison de la nécessité de lutter contre la fraude électorale.\n",
      "2021-12-17 08:16:25,944 - INFO - joeynmt.training - Example #2\n",
      "2021-12-17 08:16:25,944 - INFO - joeynmt.training - \tSource:     However, the Brennan Centre considers this a myth, stating that electoral fraud is rarer in the United States than the number of people killed by lightning.\n",
      "2021-12-17 08:16:25,944 - INFO - joeynmt.training - \tReference:  Or, le Centre Brennan considère cette dernière comme un mythe, affirmant que la fraude électorale est plus rare aux États-Unis que le nombre de personnes tuées par la foudre.\n",
      "2021-12-17 08:16:25,944 - INFO - joeynmt.training - \tHypothesis: Toutefois, le Centre Brennan considère cela comme un mythe, qui affirme que la fraude électorale est plus rarement aux États-Unis que le nombre de personnes tuées par le feu vert.\n",
      "2021-12-17 08:16:25,945 - INFO - joeynmt.training - Example #3\n",
      "2021-12-17 08:16:25,945 - INFO - joeynmt.training - \tSource:     Indeed, Republican lawyers identified only 300 cases of electoral fraud in the United States in a decade.\n",
      "2021-12-17 08:16:25,945 - INFO - joeynmt.training - \tReference:  D'ailleurs, les avocats républicains n'ont recensé que 300 cas de fraude électorale aux États-Unis en dix ans.\n",
      "2021-12-17 08:16:25,945 - INFO - joeynmt.training - \tHypothesis: En effet, les avocats républicains n'ont identifié que 300 cas de fraude électorale aux États-Unis en dix ans.\n",
      "2021-12-17 08:16:25,945 - INFO - joeynmt.training - Validation result (greedy) at epoch   4, step    72000: bleu:  18.60, loss: 194960.1719, ppl:   8.5446, duration: 142.5284s\n",
      "2021-12-17 08:17:18,299 - INFO - joeynmt.training - Epoch   4, Step:    72200, Batch Loss:     1.429830, Tokens per Sec:     9993, Lr: 0.000300\n",
      "2021-12-17 08:18:10,785 - INFO - joeynmt.training - Epoch   4, Step:    72400, Batch Loss:     1.406315, Tokens per Sec:    10128, Lr: 0.000300\n",
      "2021-12-17 08:19:03,357 - INFO - joeynmt.training - Epoch   4, Step:    72600, Batch Loss:     1.547766, Tokens per Sec:    10142, Lr: 0.000300\n",
      "2021-12-17 08:19:55,702 - INFO - joeynmt.training - Epoch   4, Step:    72800, Batch Loss:     1.616760, Tokens per Sec:    10110, Lr: 0.000300\n",
      "2021-12-17 08:20:47,452 - INFO - joeynmt.training - Epoch   4, Step:    73000, Batch Loss:     1.454482, Tokens per Sec:     9977, Lr: 0.000300\n",
      "2021-12-17 08:21:39,837 - INFO - joeynmt.training - Epoch   4, Step:    73200, Batch Loss:     1.549805, Tokens per Sec:    10081, Lr: 0.000300\n",
      "2021-12-17 08:22:32,335 - INFO - joeynmt.training - Epoch   4, Step:    73400, Batch Loss:     1.472335, Tokens per Sec:    10179, Lr: 0.000300\n",
      "2021-12-17 08:23:24,633 - INFO - joeynmt.training - Epoch   4, Step:    73600, Batch Loss:     1.392747, Tokens per Sec:    10109, Lr: 0.000300\n",
      "2021-12-17 08:24:16,895 - INFO - joeynmt.training - Epoch   4, Step:    73800, Batch Loss:     1.460840, Tokens per Sec:    10004, Lr: 0.000300\n",
      "2021-12-17 08:25:09,237 - INFO - joeynmt.training - Epoch   4, Step:    74000, Batch Loss:     1.429263, Tokens per Sec:    10108, Lr: 0.000300\n",
      "2021-12-17 08:27:28,850 - INFO - joeynmt.training - Hooray! New best validation result [loss]!\n",
      "2021-12-17 08:27:28,850 - INFO - joeynmt.training - Saving new checkpoint.\n",
      "2021-12-17 08:27:31,454 - INFO - joeynmt.training - Example #0\n",
      "2021-12-17 08:27:31,455 - INFO - joeynmt.training - \tSource:     A Republican strategy to counter the re-election of Obama\n",
      "2021-12-17 08:27:31,455 - INFO - joeynmt.training - \tReference:  Une stratégie républicaine pour contrer la réélection d'Obama\n",
      "2021-12-17 08:27:31,455 - INFO - joeynmt.training - \tHypothesis: Une stratégie république pour contrer la réélection d'Obama\n",
      "2021-12-17 08:27:31,455 - INFO - joeynmt.training - Example #1\n",
      "2021-12-17 08:27:31,455 - INFO - joeynmt.training - \tSource:     Republican leaders justified their policy by the need to combat electoral fraud.\n",
      "2021-12-17 08:27:31,455 - INFO - joeynmt.training - \tReference:  Les dirigeants républicains justifièrent leur politique par la nécessité de lutter contre la fraude électorale.\n",
      "2021-12-17 08:27:31,455 - INFO - joeynmt.training - \tHypothesis: Les dirigeants républicains ont justifié leur politique par la nécessité de lutter contre la fraude électorale.\n",
      "2021-12-17 08:27:31,455 - INFO - joeynmt.training - Example #2\n",
      "2021-12-17 08:27:31,455 - INFO - joeynmt.training - \tSource:     However, the Brennan Centre considers this a myth, stating that electoral fraud is rarer in the United States than the number of people killed by lightning.\n",
      "2021-12-17 08:27:31,455 - INFO - joeynmt.training - \tReference:  Or, le Centre Brennan considère cette dernière comme un mythe, affirmant que la fraude électorale est plus rare aux États-Unis que le nombre de personnes tuées par la foudre.\n",
      "2021-12-17 08:27:31,455 - INFO - joeynmt.training - \tHypothesis: Cependant, le centre de Brennan considère ce mythe qui affirme que la fraude électorale est plus rarement aux États-Unis que le nombre de personnes tuées par le feu et la légère.\n",
      "2021-12-17 08:27:31,455 - INFO - joeynmt.training - Example #3\n",
      "2021-12-17 08:27:31,456 - INFO - joeynmt.training - \tSource:     Indeed, Republican lawyers identified only 300 cases of electoral fraud in the United States in a decade.\n",
      "2021-12-17 08:27:31,456 - INFO - joeynmt.training - \tReference:  D'ailleurs, les avocats républicains n'ont recensé que 300 cas de fraude électorale aux États-Unis en dix ans.\n",
      "2021-12-17 08:27:31,456 - INFO - joeynmt.training - \tHypothesis: En effet, les avocats républicains n'ont identifié que 300 cas de fraude électorale aux États-Unis en dix ans.\n",
      "2021-12-17 08:27:31,456 - INFO - joeynmt.training - Validation result (greedy) at epoch   4, step    74000: bleu:  18.70, loss: 193647.2812, ppl:   8.4220, duration: 142.2184s\n",
      "2021-12-17 08:28:23,828 - INFO - joeynmt.training - Epoch   4, Step:    74200, Batch Loss:     1.514992, Tokens per Sec:    10049, Lr: 0.000300\n",
      "2021-12-17 08:29:16,458 - INFO - joeynmt.training - Epoch   4, Step:    74400, Batch Loss:     1.378023, Tokens per Sec:    10232, Lr: 0.000300\n",
      "2021-12-17 08:30:08,722 - INFO - joeynmt.training - Epoch   4, Step:    74600, Batch Loss:     1.462294, Tokens per Sec:    10047, Lr: 0.000300\n",
      "2021-12-17 08:31:00,784 - INFO - joeynmt.training - Epoch   4, Step:    74800, Batch Loss:     1.385206, Tokens per Sec:    10078, Lr: 0.000300\n",
      "2021-12-17 08:31:53,160 - INFO - joeynmt.training - Epoch   4, Step:    75000, Batch Loss:     1.415025, Tokens per Sec:    10188, Lr: 0.000300\n",
      "2021-12-17 08:32:45,474 - INFO - joeynmt.training - Epoch   4, Step:    75200, Batch Loss:     1.672279, Tokens per Sec:    10081, Lr: 0.000300\n",
      "2021-12-17 08:33:37,651 - INFO - joeynmt.training - Epoch   4, Step:    75400, Batch Loss:     1.366153, Tokens per Sec:    10043, Lr: 0.000300\n",
      "2021-12-17 08:34:30,441 - INFO - joeynmt.training - Epoch   4, Step:    75600, Batch Loss:     1.493629, Tokens per Sec:    10222, Lr: 0.000300\n",
      "2021-12-17 08:35:22,868 - INFO - joeynmt.training - Epoch   4, Step:    75800, Batch Loss:     1.363202, Tokens per Sec:    10194, Lr: 0.000300\n",
      "2021-12-17 08:36:14,626 - INFO - joeynmt.training - Epoch   4, Step:    76000, Batch Loss:     1.486651, Tokens per Sec:    10023, Lr: 0.000300\n",
      "2021-12-17 08:38:40,613 - INFO - joeynmt.training - Example #0\n",
      "2021-12-17 08:38:40,615 - INFO - joeynmt.training - \tSource:     A Republican strategy to counter the re-election of Obama\n",
      "2021-12-17 08:38:40,615 - INFO - joeynmt.training - \tReference:  Une stratégie républicaine pour contrer la réélection d'Obama\n",
      "2021-12-17 08:38:40,615 - INFO - joeynmt.training - \tHypothesis: Une stratégie république pour contrer la réélection d'Obama\n",
      "2021-12-17 08:38:40,615 - INFO - joeynmt.training - Example #1\n",
      "2021-12-17 08:38:40,615 - INFO - joeynmt.training - \tSource:     Republican leaders justified their policy by the need to combat electoral fraud.\n",
      "2021-12-17 08:38:40,615 - INFO - joeynmt.training - \tReference:  Les dirigeants républicains justifièrent leur politique par la nécessité de lutter contre la fraude électorale.\n",
      "2021-12-17 08:38:40,615 - INFO - joeynmt.training - \tHypothesis: Les dirigeants républicains ont justifié leur politique par la nécessité de lutter contre la fraude électorale.\n",
      "2021-12-17 08:38:40,615 - INFO - joeynmt.training - Example #2\n",
      "2021-12-17 08:38:40,615 - INFO - joeynmt.training - \tSource:     However, the Brennan Centre considers this a myth, stating that electoral fraud is rarer in the United States than the number of people killed by lightning.\n",
      "2021-12-17 08:38:40,615 - INFO - joeynmt.training - \tReference:  Or, le Centre Brennan considère cette dernière comme un mythe, affirmant que la fraude électorale est plus rare aux États-Unis que le nombre de personnes tuées par la foudre.\n",
      "2021-12-17 08:38:40,615 - INFO - joeynmt.training - \tHypothesis: Cependant, le Centre Brennan considère ce mythe, qui affirme que la fraude électorale est plus rare, aux États-Unis, que le nombre de personnes tuées par la légère.\n",
      "2021-12-17 08:38:40,616 - INFO - joeynmt.training - Example #3\n",
      "2021-12-17 08:38:40,616 - INFO - joeynmt.training - \tSource:     Indeed, Republican lawyers identified only 300 cases of electoral fraud in the United States in a decade.\n",
      "2021-12-17 08:38:40,616 - INFO - joeynmt.training - \tReference:  D'ailleurs, les avocats républicains n'ont recensé que 300 cas de fraude électorale aux États-Unis en dix ans.\n",
      "2021-12-17 08:38:40,616 - INFO - joeynmt.training - \tHypothesis: En effet, les avocats républicains n'ont identifié que 300 cas de fraude électorale aux États-Unis en dix ans.\n",
      "2021-12-17 08:38:40,616 - INFO - joeynmt.training - Validation result (greedy) at epoch   4, step    76000: bleu:  18.84, loss: 193699.7812, ppl:   8.4269, duration: 145.9899s\n",
      "2021-12-17 08:39:33,072 - INFO - joeynmt.training - Epoch   4, Step:    76200, Batch Loss:     1.475058, Tokens per Sec:    10052, Lr: 0.000300\n",
      "2021-12-17 08:40:25,425 - INFO - joeynmt.training - Epoch   4, Step:    76400, Batch Loss:     1.425524, Tokens per Sec:    10155, Lr: 0.000300\n",
      "2021-12-17 08:41:17,798 - INFO - joeynmt.training - Epoch   4, Step:    76600, Batch Loss:     1.691560, Tokens per Sec:    10113, Lr: 0.000300\n",
      "2021-12-17 08:42:10,185 - INFO - joeynmt.training - Epoch   4, Step:    76800, Batch Loss:     1.187879, Tokens per Sec:     9954, Lr: 0.000300\n",
      "2021-12-17 08:43:02,012 - INFO - joeynmt.training - Epoch   4, Step:    77000, Batch Loss:     1.359275, Tokens per Sec:    10032, Lr: 0.000300\n",
      "2021-12-17 08:43:55,010 - INFO - joeynmt.training - Epoch   4, Step:    77200, Batch Loss:     1.467245, Tokens per Sec:    10205, Lr: 0.000300\n",
      "2021-12-17 08:44:47,461 - INFO - joeynmt.training - Epoch   4, Step:    77400, Batch Loss:     1.388387, Tokens per Sec:    10118, Lr: 0.000300\n",
      "2021-12-17 08:45:39,599 - INFO - joeynmt.training - Epoch   4, Step:    77600, Batch Loss:     1.581989, Tokens per Sec:    10080, Lr: 0.000300\n",
      "2021-12-17 08:46:31,986 - INFO - joeynmt.training - Epoch   4, Step:    77800, Batch Loss:     1.310092, Tokens per Sec:    10141, Lr: 0.000300\n",
      "2021-12-17 08:47:24,908 - INFO - joeynmt.training - Epoch   4, Step:    78000, Batch Loss:     1.681602, Tokens per Sec:    10189, Lr: 0.000300\n",
      "2021-12-17 08:49:47,387 - INFO - joeynmt.training - Hooray! New best validation result [loss]!\n",
      "2021-12-17 08:49:47,387 - INFO - joeynmt.training - Saving new checkpoint.\n",
      "2021-12-17 08:49:49,994 - INFO - joeynmt.training - Example #0\n",
      "2021-12-17 08:49:49,996 - INFO - joeynmt.training - \tSource:     A Republican strategy to counter the re-election of Obama\n",
      "2021-12-17 08:49:49,996 - INFO - joeynmt.training - \tReference:  Une stratégie républicaine pour contrer la réélection d'Obama\n",
      "2021-12-17 08:49:49,996 - INFO - joeynmt.training - \tHypothesis: Une stratégie république visant à contrer la réélection d'Obama\n",
      "2021-12-17 08:49:49,996 - INFO - joeynmt.training - Example #1\n",
      "2021-12-17 08:49:49,996 - INFO - joeynmt.training - \tSource:     Republican leaders justified their policy by the need to combat electoral fraud.\n",
      "2021-12-17 08:49:49,996 - INFO - joeynmt.training - \tReference:  Les dirigeants républicains justifièrent leur politique par la nécessité de lutter contre la fraude électorale.\n",
      "2021-12-17 08:49:49,996 - INFO - joeynmt.training - \tHypothesis: Les dirigeants républicains ont justifié leur politique en raison de la nécessité de lutter contre la fraude électorale.\n",
      "2021-12-17 08:49:49,996 - INFO - joeynmt.training - Example #2\n",
      "2021-12-17 08:49:49,996 - INFO - joeynmt.training - \tSource:     However, the Brennan Centre considers this a myth, stating that electoral fraud is rarer in the United States than the number of people killed by lightning.\n",
      "2021-12-17 08:49:49,997 - INFO - joeynmt.training - \tReference:  Or, le Centre Brennan considère cette dernière comme un mythe, affirmant que la fraude électorale est plus rare aux États-Unis que le nombre de personnes tuées par la foudre.\n",
      "2021-12-17 08:49:49,997 - INFO - joeynmt.training - \tHypothesis: Cependant, le Centre Brennan considère ce mythe qui affirme que la fraude électorale est plus rare, aux États-Unis que le nombre de personnes tuées par la légère.\n",
      "2021-12-17 08:49:49,997 - INFO - joeynmt.training - Example #3\n",
      "2021-12-17 08:49:49,997 - INFO - joeynmt.training - \tSource:     Indeed, Republican lawyers identified only 300 cases of electoral fraud in the United States in a decade.\n",
      "2021-12-17 08:49:49,997 - INFO - joeynmt.training - \tReference:  D'ailleurs, les avocats républicains n'ont recensé que 300 cas de fraude électorale aux États-Unis en dix ans.\n",
      "2021-12-17 08:49:49,997 - INFO - joeynmt.training - \tHypothesis: En effet, les avocats républicains ne identifiaient que 300 cas de fraude électorale aux États-Unis dans une décennie.\n",
      "2021-12-17 08:49:49,997 - INFO - joeynmt.training - Validation result (greedy) at epoch   4, step    78000: bleu:  18.65, loss: 192554.2500, ppl:   8.3213, duration: 145.0884s\n",
      "2021-12-17 08:50:42,032 - INFO - joeynmt.training - Epoch   4, Step:    78200, Batch Loss:     1.423615, Tokens per Sec:     9969, Lr: 0.000300\n",
      "2021-12-17 08:51:34,613 - INFO - joeynmt.training - Epoch   4, Step:    78400, Batch Loss:     1.390865, Tokens per Sec:    10170, Lr: 0.000300\n",
      "2021-12-17 08:52:27,383 - INFO - joeynmt.training - Epoch   4, Step:    78600, Batch Loss:     1.483292, Tokens per Sec:    10209, Lr: 0.000300\n",
      "2021-12-17 08:53:19,606 - INFO - joeynmt.training - Epoch   4, Step:    78800, Batch Loss:     1.359390, Tokens per Sec:     9926, Lr: 0.000300\n",
      "2021-12-17 08:54:12,158 - INFO - joeynmt.training - Epoch   4, Step:    79000, Batch Loss:     1.438426, Tokens per Sec:    10140, Lr: 0.000300\n",
      "2021-12-17 08:55:04,822 - INFO - joeynmt.training - Epoch   4, Step:    79200, Batch Loss:     1.409863, Tokens per Sec:    10096, Lr: 0.000300\n",
      "2021-12-17 08:55:57,440 - INFO - joeynmt.training - Epoch   4, Step:    79400, Batch Loss:     1.403592, Tokens per Sec:    10195, Lr: 0.000300\n",
      "2021-12-17 08:56:49,656 - INFO - joeynmt.training - Epoch   4, Step:    79600, Batch Loss:     1.386119, Tokens per Sec:    10091, Lr: 0.000300\n",
      "2021-12-17 08:57:42,437 - INFO - joeynmt.training - Epoch   4, Step:    79800, Batch Loss:     1.519295, Tokens per Sec:    10230, Lr: 0.000300\n",
      "2021-12-17 08:58:34,681 - INFO - joeynmt.training - Epoch   4, Step:    80000, Batch Loss:     1.458392, Tokens per Sec:    10076, Lr: 0.000300\n",
      "2021-12-17 09:00:56,970 - INFO - joeynmt.training - Hooray! New best validation result [loss]!\n",
      "2021-12-17 09:00:56,970 - INFO - joeynmt.training - Saving new checkpoint.\n",
      "2021-12-17 09:00:59,570 - INFO - joeynmt.training - Example #0\n",
      "2021-12-17 09:00:59,570 - INFO - joeynmt.training - \tSource:     A Republican strategy to counter the re-election of Obama\n",
      "2021-12-17 09:00:59,570 - INFO - joeynmt.training - \tReference:  Une stratégie républicaine pour contrer la réélection d'Obama\n",
      "2021-12-17 09:00:59,571 - INFO - joeynmt.training - \tHypothesis: Une stratégie république visant à contrer la réélection d'Obama\n",
      "2021-12-17 09:00:59,571 - INFO - joeynmt.training - Example #1\n",
      "2021-12-17 09:00:59,571 - INFO - joeynmt.training - \tSource:     Republican leaders justified their policy by the need to combat electoral fraud.\n",
      "2021-12-17 09:00:59,571 - INFO - joeynmt.training - \tReference:  Les dirigeants républicains justifièrent leur politique par la nécessité de lutter contre la fraude électorale.\n",
      "2021-12-17 09:00:59,571 - INFO - joeynmt.training - \tHypothesis: Les dirigeants républicains ont justifié leur politique en raison de la nécessité de lutter contre la fraude électorale.\n",
      "2021-12-17 09:00:59,571 - INFO - joeynmt.training - Example #2\n",
      "2021-12-17 09:00:59,571 - INFO - joeynmt.training - \tSource:     However, the Brennan Centre considers this a myth, stating that electoral fraud is rarer in the United States than the number of people killed by lightning.\n",
      "2021-12-17 09:00:59,571 - INFO - joeynmt.training - \tReference:  Or, le Centre Brennan considère cette dernière comme un mythe, affirmant que la fraude électorale est plus rare aux États-Unis que le nombre de personnes tuées par la foudre.\n",
      "2021-12-17 09:00:59,571 - INFO - joeynmt.training - \tHypothesis: Toutefois, le Centre Brennan considère ce mystère et affirme que la fraude électorale est plus rarement aux États-Unis que le nombre de personnes tuées par la légère.\n",
      "2021-12-17 09:00:59,571 - INFO - joeynmt.training - Example #3\n",
      "2021-12-17 09:00:59,572 - INFO - joeynmt.training - \tSource:     Indeed, Republican lawyers identified only 300 cases of electoral fraud in the United States in a decade.\n",
      "2021-12-17 09:00:59,572 - INFO - joeynmt.training - \tReference:  D'ailleurs, les avocats républicains n'ont recensé que 300 cas de fraude électorale aux États-Unis en dix ans.\n",
      "2021-12-17 09:00:59,572 - INFO - joeynmt.training - \tHypothesis: En effet, les avocats républicains n'ont identifié que 300 cas de fraude électorale aux États-Unis dans une décennie.\n",
      "2021-12-17 09:00:59,572 - INFO - joeynmt.training - Validation result (greedy) at epoch   4, step    80000: bleu:  18.80, loss: 191840.2031, ppl:   8.2562, duration: 144.8906s\n",
      "2021-12-17 09:01:51,701 - INFO - joeynmt.training - Epoch   4, Step:    80200, Batch Loss:     1.484924, Tokens per Sec:    10093, Lr: 0.000300\n",
      "2021-12-17 09:02:44,405 - INFO - joeynmt.training - Epoch   4, Step:    80400, Batch Loss:     1.448406, Tokens per Sec:    10183, Lr: 0.000300\n",
      "2021-12-17 09:03:36,577 - INFO - joeynmt.training - Epoch   4, Step:    80600, Batch Loss:     1.621881, Tokens per Sec:    10106, Lr: 0.000300\n",
      "2021-12-17 09:04:29,167 - INFO - joeynmt.training - Epoch   4, Step:    80800, Batch Loss:     1.508620, Tokens per Sec:    10125, Lr: 0.000300\n",
      "2021-12-17 09:05:21,529 - INFO - joeynmt.training - Epoch   4, Step:    81000, Batch Loss:     1.462449, Tokens per Sec:    10137, Lr: 0.000300\n",
      "2021-12-17 09:06:14,220 - INFO - joeynmt.training - Epoch   4, Step:    81200, Batch Loss:     1.556664, Tokens per Sec:    10214, Lr: 0.000300\n",
      "2021-12-17 09:07:06,582 - INFO - joeynmt.training - Epoch   4, Step:    81400, Batch Loss:     1.444121, Tokens per Sec:    10190, Lr: 0.000300\n",
      "2021-12-17 09:07:58,703 - INFO - joeynmt.training - Epoch   4, Step:    81600, Batch Loss:     1.415320, Tokens per Sec:    10075, Lr: 0.000300\n",
      "2021-12-17 09:08:50,956 - INFO - joeynmt.training - Epoch   4, Step:    81800, Batch Loss:     1.622289, Tokens per Sec:    10082, Lr: 0.000300\n",
      "2021-12-17 09:09:43,442 - INFO - joeynmt.training - Epoch   4, Step:    82000, Batch Loss:     1.320875, Tokens per Sec:    10156, Lr: 0.000300\n",
      "2021-12-17 09:12:05,370 - INFO - joeynmt.training - Hooray! New best validation result [loss]!\n",
      "2021-12-17 09:12:05,370 - INFO - joeynmt.training - Saving new checkpoint.\n",
      "2021-12-17 09:12:07,977 - INFO - joeynmt.training - Example #0\n",
      "2021-12-17 09:12:07,978 - INFO - joeynmt.training - \tSource:     A Republican strategy to counter the re-election of Obama\n",
      "2021-12-17 09:12:07,978 - INFO - joeynmt.training - \tReference:  Une stratégie républicaine pour contrer la réélection d'Obama\n",
      "2021-12-17 09:12:07,978 - INFO - joeynmt.training - \tHypothesis: Une stratégie république visant à contrer la réélection d'Obama\n",
      "2021-12-17 09:12:07,978 - INFO - joeynmt.training - Example #1\n",
      "2021-12-17 09:12:07,978 - INFO - joeynmt.training - \tSource:     Republican leaders justified their policy by the need to combat electoral fraud.\n",
      "2021-12-17 09:12:07,978 - INFO - joeynmt.training - \tReference:  Les dirigeants républicains justifièrent leur politique par la nécessité de lutter contre la fraude électorale.\n",
      "2021-12-17 09:12:07,978 - INFO - joeynmt.training - \tHypothesis: Les dirigeants publics ont justifié leur politique par la nécessité de lutter contre la fraude électorale.\n",
      "2021-12-17 09:12:07,978 - INFO - joeynmt.training - Example #2\n",
      "2021-12-17 09:12:07,978 - INFO - joeynmt.training - \tSource:     However, the Brennan Centre considers this a myth, stating that electoral fraud is rarer in the United States than the number of people killed by lightning.\n",
      "2021-12-17 09:12:07,978 - INFO - joeynmt.training - \tReference:  Or, le Centre Brennan considère cette dernière comme un mythe, affirmant que la fraude électorale est plus rare aux États-Unis que le nombre de personnes tuées par la foudre.\n",
      "2021-12-17 09:12:07,979 - INFO - joeynmt.training - \tHypothesis: Cependant, le Centre Brennan considère ce mystère, qui affirme que la fraude électorale est plus rarement aux États-Unis que le nombre de personnes tuées par la légère.\n",
      "2021-12-17 09:12:07,979 - INFO - joeynmt.training - Example #3\n",
      "2021-12-17 09:12:07,979 - INFO - joeynmt.training - \tSource:     Indeed, Republican lawyers identified only 300 cases of electoral fraud in the United States in a decade.\n",
      "2021-12-17 09:12:07,979 - INFO - joeynmt.training - \tReference:  D'ailleurs, les avocats républicains n'ont recensé que 300 cas de fraude électorale aux États-Unis en dix ans.\n",
      "2021-12-17 09:12:07,979 - INFO - joeynmt.training - \tHypothesis: En effet, les avocats publics n'ont identifié que 300 cas de fraude électorale aux États-Unis en dix ans.\n",
      "2021-12-17 09:12:07,979 - INFO - joeynmt.training - Validation result (greedy) at epoch   4, step    82000: bleu:  18.94, loss: 190932.8750, ppl:   8.1742, duration: 144.5370s\n",
      "2021-12-17 09:13:00,584 - INFO - joeynmt.training - Epoch   4, Step:    82200, Batch Loss:     1.540927, Tokens per Sec:    10210, Lr: 0.000300\n",
      "Traceback (most recent call last):\n",
      "  File \"/usr/lib/python3.7/runpy.py\", line 193, in _run_module_as_main\n",
      "    \"__main__\", mod_spec)\n",
      "  File \"/usr/lib/python3.7/runpy.py\", line 85, in _run_code\n",
      "    exec(code, run_globals)\n",
      "  File \"/usr/local/lib/python3.7/dist-packages/joeynmt/__main__.py\", line 48, in <module>\n",
      "    main()\n",
      "  File \"/usr/local/lib/python3.7/dist-packages/joeynmt/__main__.py\", line 35, in main\n",
      "    train(cfg_file=args.config_path, skip_test=args.skip_test)\n",
      "  File \"/usr/local/lib/python3.7/dist-packages/joeynmt/training.py\", line 804, in train\n",
      "    trainer.train_and_validate(train_data=train_data, valid_data=dev_data)\n",
      "  File \"/usr/local/lib/python3.7/dist-packages/joeynmt/training.py\", line 427, in train_and_validate\n",
      "    batch_loss += self._train_step(batch)\n",
      "  File \"/usr/local/lib/python3.7/dist-packages/joeynmt/training.py\", line 536, in _train_step\n",
      "    norm_batch_loss.backward()\n",
      "  File \"/usr/local/lib/python3.7/dist-packages/torch/tensor.py\", line 245, in backward\n",
      "    torch.autograd.backward(self, gradient, retain_graph, create_graph, inputs=inputs)\n",
      "  File \"/usr/local/lib/python3.7/dist-packages/torch/autograd/__init__.py\", line 147, in backward\n",
      "    allow_unreachable=True, accumulate_grad=True)  # allow_unreachable flag\n",
      "KeyboardInterrupt\n"
     ]
    }
   ],
   "source": [
    "!python -m joeynmt train transformer_en_fr_bpe20000.yaml"
   ]
  },
  {
   "cell_type": "markdown",
   "metadata": {
    "id": "pgP9fnZsjO7K"
   },
   "source": [
    "## Continuer l'entraînement après interruption"
   ]
  },
  {
   "cell_type": "markdown",
   "metadata": {
    "id": "Kj92bqnf8aOe"
   },
   "source": [
    "Pour continuer après une interruption, la configuration doit être modifiée à 2 endroits :\n",
    "1. `load_model` pour pointer vers le point de contrôle à charger.\n",
    "2. `model_dir` pour créer un nouveau répertoire.\n"
   ]
  },
  {
   "cell_type": "code",
   "execution_count": 27,
   "metadata": {
    "id": "qS7ixekMfG5F"
   },
   "outputs": [],
   "source": [
    "ckpt_number = 2000\n",
    "reload_config = config.replace(\n",
    "    f'#load_model: \"models/{name}_transformer/1.ckpt\"', f'load_model: \"models/{name}_transformer/{ckpt_number}.ckpt\"').replace(\n",
    "        f'model_dir: \"models/{name}_transformer\"', f'model_dir: \"models/{name}_transformer_continued\"')\n",
    "with open(\"transformer_{name}_reload.yaml\".format(name=name),'w') as f:\n",
    "    f.write(reload_config)"
   ]
  },
  {
   "cell_type": "markdown",
   "metadata": {
    "id": "05nDex2g9URU"
   },
   "source": [
    "Joey NMT reprend alors l'entraînement à partir de là.\n",
    "\n"
   ]
  },
  {
   "cell_type": "code",
   "execution_count": 28,
   "metadata": {
    "colab": {
     "base_uri": "https://localhost:8080/"
    },
    "id": "iU63igoskRXJ",
    "outputId": "d020b680-c2fc-4c1e-ec00-f96d2f90d082"
   },
   "outputs": [
    {
     "name": "stdout",
     "output_type": "stream",
     "text": [
      "Traceback (most recent call last):\n",
      "  File \"/usr/lib/python3.7/runpy.py\", line 193, in _run_module_as_main\n",
      "    \"__main__\", mod_spec)\n",
      "  File \"/usr/lib/python3.7/runpy.py\", line 85, in _run_code\n",
      "    exec(code, run_globals)\n",
      "  File \"/usr/local/lib/python3.7/dist-packages/joeynmt/__main__.py\", line 48, in <module>\n",
      "    main()\n",
      "  File \"/usr/local/lib/python3.7/dist-packages/joeynmt/__main__.py\", line 35, in main\n",
      "    train(cfg_file=args.config_path, skip_test=args.skip_test)\n",
      "  File \"/usr/local/lib/python3.7/dist-packages/joeynmt/training.py\", line 761, in train\n",
      "    cfg = load_config(cfg_file)\n",
      "  File \"/usr/local/lib/python3.7/dist-packages/joeynmt/helpers.py\", line 178, in load_config\n",
      "    with open(path, 'r') as ymlfile:\n",
      "FileNotFoundError: [Errno 2] No such file or directory: 'transformer_epo_eng_bpe20000_reload.yaml'\n"
     ]
    }
   ],
   "source": [
    "!python -m joeynmt train transformer_epo_eng_bpe20000_reload.yaml"
   ]
  },
  {
   "cell_type": "markdown",
   "metadata": {
    "id": "z7gl0xjB2_3L"
   },
   "source": [
    "Sinon, supprimer l'ancien dossier models, puis réfaire l'entraînement. "
   ]
  },
  {
   "cell_type": "code",
   "execution_count": null,
   "metadata": {
    "id": "9-8FPH9H2V_5"
   },
   "outputs": [],
   "source": [
    "# !rm -fr models  # pour supprimer un dossier de models , par exemple pour pouvoir ré-entraîner un autre modèle"
   ]
  },
  {
   "cell_type": "markdown",
   "metadata": {
    "id": "99Y-03KklJd3"
   },
   "source": [
    "# Évaluation et Prédiction"
   ]
  },
  {
   "cell_type": "markdown",
   "metadata": {
    "id": "vhR4-RFF5_dJ"
   },
   "source": [
    "Le mode `test` peut être utilisé pour traduire (et évaluer sur) l'ensemble de test spécifié dans la configuration. Nous ne le faisons généralement qu'une seule fois après avoir réglé les hyperparamètres sur l'ensemble de développement."
   ]
  },
  {
   "cell_type": "code",
   "execution_count": 19,
   "metadata": {
    "colab": {
     "base_uri": "https://localhost:8080/"
    },
    "id": "pu59HTo_lLJG",
    "outputId": "0a89cce1-e341-4be5-8698-33c314af3774"
   },
   "outputs": [
    {
     "name": "stdout",
     "output_type": "stream",
     "text": [
      "2021-12-17 09:14:17,908 - INFO - root - Hello! This is Joey-NMT (version 1.3).\n",
      "2021-12-17 09:14:17,909 - INFO - joeynmt.data - Building vocabulary...\n",
      "2021-12-17 09:14:23,886 - INFO - joeynmt.data - Loading dev data...\n",
      "2021-12-17 09:14:23,922 - INFO - joeynmt.data - Loading test data...\n",
      "2021-12-17 09:14:23,962 - INFO - joeynmt.data - Data loaded.\n",
      "2021-12-17 09:14:24,008 - INFO - joeynmt.prediction - Process device: cuda, n_gpu: 1, batch_size per device: 20480 (with beam_size)\n",
      "2021-12-17 09:14:29,712 - INFO - joeynmt.model - Building an encoder-decoder model...\n",
      "2021-12-17 09:14:30,625 - INFO - joeynmt.model - Enc-dec model built.\n",
      "2021-12-17 09:14:30,853 - INFO - joeynmt.prediction - Decoding on dev set (/content/data/en-fr//dev.20000.bpe.fr)...\n",
      "2021-12-17 09:17:17,436 - INFO - joeynmt.prediction -  dev bleu[none]:  19.80 [Beam search decoding with beam size = 5 and alpha = 1.0]\n",
      "2021-12-17 09:17:17,437 - INFO - joeynmt.prediction - Decoding on test set (/content/data/en-fr//test.20000.bpe.fr)...\n",
      "2021-12-17 09:20:30,710 - INFO - joeynmt.prediction - test bleu[none]:  21.95 [Beam search decoding with beam size = 5 and alpha = 1.0]\n"
     ]
    }
   ],
   "source": [
    "!python -m joeynmt test models/en_fr_bpe20000_transformer/config.yaml\n",
    "\n",
    "# pour 10 itérations sur (train, dev, test) = (181k, 1k, 1k)\n",
    "# dev bleu[none]:   0.32 \n",
    "# test bleu[none]:   0.25"
   ]
  },
  {
   "cell_type": "markdown",
   "metadata": {
    "id": "8RgkT7mp6T2l"
   },
   "source": [
    "\n",
    "\n",
    "Le mode `translate` est plus interactif et prend des invites pour traduire de manière interactive. Attention : cela nécessite d'appliquer les mêmes étapes de pré-traitement à la nouvelle entrée que celles que vous avez appliquées avant l'entraînement du modèle (c'est-à-dire la segmentation en sous-mots)."
   ]
  },
  {
   "cell_type": "code",
   "execution_count": 24,
   "metadata": {
    "id": "YpBTLaoM9g58"
   },
   "outputs": [],
   "source": [
    "from subword_nmt import apply_bpe\n",
    "\n",
    "with open(bpe_file, \"r\") as merge_file:\n",
    "  bpe = apply_bpe.BPE(codes=merge_file)\n",
    "\n",
    "preprocess = lambda x: bpe.process_line(x.strip())"
   ]
  },
  {
   "cell_type": "code",
   "execution_count": 21,
   "metadata": {
    "id": "4clB81W46oTB"
   },
   "outputs": [],
   "source": [
    "my_sentence = \"I don't know whether machine translation will eventually get good enough to allow us to browse people's websites in different languages so you can see how they live in different countries.\"\n",
    "#my_sentence = 'Please enter a source sentence.'  \n",
    "\n",
    "# référence : Toutes les parties prenantes auraient intérêt à lancer un autre moteur."
   ]
  },
  {
   "cell_type": "code",
   "execution_count": 22,
   "metadata": {
    "colab": {
     "base_uri": "https://localhost:8080/",
     "height": 53
    },
    "id": "OUkf54ip-hVw",
    "outputId": "939e7bd0-f4f4-4389-94d7-9a08d470b246"
   },
   "outputs": [
    {
     "data": {
      "application/vnd.google.colaboratory.intrinsic+json": {
       "type": "string"
      },
      "text/plain": [
       "\"I don@@ '@@ t know whether mach@@ ine transl@@ ation will eventually get good enough to allow us to bro@@ w@@ se people's web@@ sites in different languages so you can see how they live in different countries.\""
      ]
     },
     "execution_count": 22,
     "metadata": {},
     "output_type": "execute_result"
    }
   ],
   "source": [
    "preprocess(my_sentence)"
   ]
  },
  {
   "cell_type": "markdown",
   "metadata": {
    "id": "-jHqeqiSctGU"
   },
   "source": [
    "Copiez la phrase prétraitée ci-dessus dans le champ lorsque vous y êtes invité ci-dessous. Arrêtez la cellule pour quitter le mode interactif."
   ]
  },
  {
   "cell_type": "code",
   "execution_count": 23,
   "metadata": {
    "colab": {
     "base_uri": "https://localhost:8080/"
    },
    "id": "YtS7xyEmmD90",
    "outputId": "afd58a17-1204-4f2c-9346-7e8b100cbba8"
   },
   "outputs": [
    {
     "name": "stdout",
     "output_type": "stream",
     "text": [
      "2021-12-17 09:20:35,125 - INFO - root - Hello! This is Joey-NMT (version 1.3).\n",
      "I don@@ '@@ t know whether mach@@ ine transl@@ ation will eventually get good enough to allow us to bro@@ w@@ se people's web@@ sites in different languages so you can see how they live in different countries.\n",
      "2021-12-17 09:20:45,930 - INFO - joeynmt.model - Building an encoder-decoder model...\n",
      "2021-12-17 09:20:46,771 - INFO - joeynmt.model - Enc-dec model built.\n",
      "\n",
      "Please enter a source sentence (pre-processed): \n",
      "JoeyNMT: Hypotheses ranked by score\n",
      "JoeyNMT #1: Je ne sais pas si la traduction de la machine nous permettra de briser les sites web des citoyens dans différentes langues. Vous pouvez donc voir comment ils vivent dans différents pays.\n",
      "\n",
      "Please enter a source sentence (pre-processed): \n",
      "\n",
      "Bye.Traceback (most recent call last):\n",
      "  File \"/usr/local/lib/python3.7/dist-packages/joeynmt/prediction.py\", line 505, in translate\n",
      "    src_input = input(\"\\nPlease enter a source sentence \"\n",
      "KeyboardInterrupt\n",
      "\n",
      "During handling of the above exception, another exception occurred:\n",
      "\n",
      "Traceback (most recent call last):\n",
      "  File \"/usr/lib/python3.7/runpy.py\", line 193, in _run_module_as_main\n",
      "    \"__main__\", mod_spec)\n",
      "  File \"/usr/lib/python3.7/runpy.py\", line 85, in _run_code\n",
      "    exec(code, run_globals)\n",
      "  File \"/usr/local/lib/python3.7/dist-packages/joeynmt/__main__.py\", line 48, in <module>\n",
      "    main()\n",
      "  File \"/usr/local/lib/python3.7/dist-packages/joeynmt/__main__.py\", line 42, in main\n",
      "    n_best=args.nbest)\n",
      "  File \"/usr/local/lib/python3.7/dist-packages/joeynmt/prediction.py\", line 519, in translate\n",
      "    print(\"\\nBye.\")\n",
      "KeyboardInterrupt\n"
     ]
    }
   ],
   "source": [
    "!python -m joeynmt translate models/en_fr_bpe20000_transformer/config.yaml"
   ]
  },
  {
   "cell_type": "markdown",
   "metadata": {
    "id": "cX0Pk16Ac4fI"
   },
   "source": [
    "Vous pouvez également obtenir les n meilleures hypothèses (jusqu'à la taille du faisceau, dans notre exemple 5), pas seulement la plus élevée. Plus votre modèle s'améliore, plus les alternatives devraient être intéressantes.\n"
   ]
  },
  {
   "cell_type": "code",
   "execution_count": null,
   "metadata": {
    "colab": {
     "base_uri": "https://localhost:8080/"
    },
    "id": "fT_SslRec__L",
    "outputId": "8dbbbaf2-69b4-44e6-f515-eaa00a2c1b26"
   },
   "outputs": [
    {
     "name": "stdout",
     "output_type": "stream",
     "text": [
      "2021-12-16 02:33:37,254 - INFO - root - Hello! This is Joey-NMT (version 1.3).\n",
      "2021-12-16 02:34:16,521 - INFO - joeynmt.model - Building an encoder-decoder model...\n",
      "2021-12-16 02:34:17,672 - INFO - joeynmt.model - Enc-dec model built.\n",
      "\n",
      "Please enter a source sentence (pre-processed): \n",
      "It would be benefit all parties to start another motor@@\n",
      "JoeyNMT: Hypotheses ranked by score\n",
      "JoeyNMT #1: Il serait bénéfique que toutes les parties commencent à une autre autoroute.\n",
      "JoeyNMT #2: Il serait bénéfique que toutes les parties commencent à lancer une autre autoroute.\n",
      "JoeyNMT #3: Il serait bon que toutes les parties commencent à lancer une autre autoroute.\n",
      "JoeyNMT #4: Il serait utile que toutes les parties commencent à lancer une autre autoroute.\n",
      "JoeyNMT #5: Il serait bénéfique que toutes les parties commencent à un autre autoroute.\n",
      "\n",
      "Please enter a source sentence (pre-processed): \n",
      "\n",
      "Bye.Traceback (most recent call last):\n",
      "  File \"/usr/local/lib/python3.7/dist-packages/joeynmt/prediction.py\", line 505, in translate\n",
      "    src_input = input(\"\\nPlease enter a source sentence \"\n",
      "KeyboardInterrupt\n",
      "\n",
      "During handling of the above exception, another exception occurred:\n",
      "\n",
      "Traceback (most recent call last):\n",
      "  File \"/usr/lib/python3.7/runpy.py\", line 193, in _run_module_as_main\n",
      "    \"__main__\", mod_spec)\n",
      "  File \"/usr/lib/python3.7/runpy.py\", line 85, in _run_code\n",
      "    exec(code, run_globals)\n",
      "  File \"/usr/local/lib/python3.7/dist-packages/joeynmt/__main__.py\", line 48, in <module>\n",
      "    main()\n",
      "  File \"/usr/local/lib/python3.7/dist-packages/joeynmt/__main__.py\", line 42, in main\n",
      "    n_best=args.nbest)\n",
      "  File \"/usr/local/lib/python3.7/dist-packages/joeynmt/prediction.py\", line 519, in translate\n",
      "    print(\"\\nBye.\")\n",
      "KeyboardInterrupt\n"
     ]
    }
   ],
   "source": [
    "!python -m joeynmt translate models/en_fr_bpe20000_transformer/config.yaml -n 5"
   ]
  },
  {
   "cell_type": "code",
   "execution_count": null,
   "metadata": {
    "id": "3_eC0GhSKp1q"
   },
   "outputs": [],
   "source": []
  },
  {
   "cell_type": "markdown",
   "metadata": {
    "id": "PltBKk_nYzXD"
   },
   "source": [
    "## Récupérer le test de prédiction"
   ]
  },
  {
   "cell_type": "code",
   "execution_count": null,
   "metadata": {
    "colab": {
     "base_uri": "https://localhost:8080/"
    },
    "id": "8hysw5XQYsWR",
    "outputId": "b7862c24-56bc-4ebe-d73f-309b7dac5b47"
   },
   "outputs": [
    {
     "name": "stdout",
     "output_type": "stream",
     "text": [
      "2021-12-16 02:34:56,923 - INFO - root - Hello! This is Joey-NMT (version 1.3).\n",
      "2021-12-16 02:34:56,924 - INFO - joeynmt.data - Building vocabulary...\n",
      "2021-12-16 02:35:32,991 - INFO - joeynmt.data - Loading dev data...\n",
      "2021-12-16 02:35:33,025 - INFO - joeynmt.data - Loading test data...\n",
      "2021-12-16 02:35:33,059 - INFO - joeynmt.data - Data loaded.\n",
      "2021-12-16 02:35:33,075 - INFO - joeynmt.prediction - Process device: cuda, n_gpu: 1, batch_size per device: 20480 (with beam_size)\n",
      "2021-12-16 02:35:36,216 - INFO - joeynmt.model - Building an encoder-decoder model...\n",
      "2021-12-16 02:35:37,374 - INFO - joeynmt.model - Enc-dec model built.\n",
      "2021-12-16 02:35:37,660 - INFO - joeynmt.prediction - Decoding on dev set (/content/data/en-fr//dev.50000.bpe.fr)...\n",
      "2021-12-16 02:37:30,926 - INFO - joeynmt.prediction -  dev bleu[none]:  16.34 [Beam search decoding with beam size = 5 and alpha = 1.0]\n",
      "2021-12-16 02:37:30,928 - INFO - joeynmt.prediction - Translations saved to: data/en-fr/out.dev\n",
      "2021-12-16 02:37:30,928 - INFO - joeynmt.prediction - Decoding on test set (/content/data/en-fr//test.50000.bpe.fr)...\n",
      "2021-12-16 02:39:38,561 - INFO - joeynmt.prediction - test bleu[none]:  17.69 [Beam search decoding with beam size = 5 and alpha = 1.0]\n",
      "2021-12-16 02:39:38,563 - INFO - joeynmt.prediction - Translations saved to: data/en-fr/out.test\n"
     ]
    }
   ],
   "source": [
    "!python -m joeynmt test models/en_fr_bpe20000_transformer/config.yaml --output_path data/en-fr/out"
   ]
  },
  {
   "cell_type": "code",
   "execution_count": null,
   "metadata": {
    "id": "F7Z73g6jHM-X"
   },
   "outputs": [],
   "source": [
    "!cp -r models/ /content/drive/MyDrive/Projet2_NLP"
   ]
  },
  {
   "cell_type": "markdown",
   "metadata": {
    "id": "BfyY0rPw7Krk"
   },
   "source": [
    "Fin du guide !\n"
   ]
  }
 ],
 "metadata": {
  "accelerator": "GPU",
  "colab": {
   "collapsed_sections": [],
   "name": "NLP_projet_2_(6) (1).ipynb",
   "provenance": []
  },
  "kernelspec": {
   "display_name": "Python 3 (ipykernel)",
   "language": "python",
   "name": "python3"
  },
  "language_info": {
   "codemirror_mode": {
    "name": "ipython",
    "version": 3
   },
   "file_extension": ".py",
   "mimetype": "text/x-python",
   "name": "python",
   "nbconvert_exporter": "python",
   "pygments_lexer": "ipython3",
   "version": "3.9.7"
  }
 },
 "nbformat": 4,
 "nbformat_minor": 1
}
